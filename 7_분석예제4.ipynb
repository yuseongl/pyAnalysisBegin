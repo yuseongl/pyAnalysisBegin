{
 "cells": [
  {
   "cell_type": "code",
   "execution_count": 1,
   "metadata": {},
   "outputs": [],
   "source": [
    "import numpy as np\n",
    "import pandas as pd\n",
    "import matplotlib.pyplot as plt\n",
    "\n",
    "import matplotlib.font_manager as fm\n",
    "font_name = fm.FontProperties(fname='C:/Windows/Fonts/malgun.ttf').get_name()\n",
    "plt.rc(\"font\",family=font_name)\n",
    "\n",
    "import matplotlib as mlp\n",
    "mlp.rcParams['axes.unicode_minus'] = False\n",
    "\n",
    "import seaborn as sns\n",
    "\n",
    "plt.style.use('fivethirtyeight')\n",
    "\n",
    "import warnings\n",
    "warnings.filterwarnings('ignore')"
   ]
  },
  {
   "cell_type": "markdown",
   "metadata": {},
   "source": [
    "## XML(Extension Markup Language)"
   ]
  },
  {
   "cell_type": "markdown",
   "metadata": {},
   "source": [
    "https://docs.python.org/3/library/xml.etree.elementtree.html?highlight=xml#xml.etree.ElementTree.XML\n",
    "\n",
    "1.특징\n",
    "    1) 메타 언어 : GML -> SGML -> XML\n",
    "    2) 데이터를 위한 언어\n",
    "    3) 데이터베이스 용도\n",
    "    4) 데이터 표준화 : 이 기종 시스템간의 정보교환, 웹서비스, 유비쿼터스, 사물인터넷 기타등등...\n",
    " \n",
    "2. 문법(물리적인 구성요소)\n",
    "    1) XML(.xml)\n",
    "    2) DTD(.dtd) : XML 작성을 위한 설계문서\n",
    "    3) XML Schema(.xsd) : XML 작성을 위한 설계문서\n",
    "    4) XSL(.xsl, xslt) : XML문서에 스타일을 입혀주는 언어\n",
    " \n",
    "3. 결과 문서의 종류\n",
    "    1) Well-Formed XML Document(잘 짜여진 문서)\n",
    "    2) Valid XML Document(유효한 문서)\n",
    " \n",
    "4. Element 문법\n",
    "    - 작성 규칙\n",
    "        a) 모든 XML문서는 반드시 단 하나의 루트 엘리먼트를 가진다.\n",
    "        b) 루트 엘리먼트는 여러 개의 자식 엘리먼트를 가질 수 있고\n",
    "            또 그 자식도 자신의 자식을 가질 수 있다.\n",
    "        c) 시작태그와 끝태그는 반드시 짝을 이루어야 한다.\n",
    "        d) \"<\"는 값으로 사용 불가. \">\"는 사용할 수 있으나 가급적 사용 금지\n",
    "        e) \"<\"와 \">\" 다음에 공백문자가 올 수 없으며 반드시 시작태그와 끝태그의 이름이 같아야 한다.\n",
    " \n",
    "    - 종류\n",
    "        a) 내용을 가지는 엘리먼트\n",
    "        b) 내용이 없는 엘리먼트\n",
    " \n",
    "    - 내용에 대한 종류\n",
    "        a) 문자 데이터\n",
    "        b) 자식 엘리먼트\n",
    "        c) 엔티티 또는 문자 참조\n",
    "        d) CDATA Section\n",
    "        e) 프로세싱 지시자\n",
    "        f) 주석 : <!-- 주석 내용 -->\n",
    "        g) 공백 문자열\n",
    " \n",
    "5. DTD \n",
    "    - 종류\n",
    "        내부 DTD\n",
    "        외부 DTD\n",
    " \n",
    "    - 구성 요소\n",
    "        엘리먼트 선언\n",
    "        속성(attribute) 선언\n",
    "        Entity 선언\n",
    "        Notation 선언\n",
    "        프로세싱 지시자\n",
    "        파라미터 엔티티 참조\n",
    "        주석\n",
    "        공백\n",
    "        conditional section\n",
    " \n",
    "    - 문서 유형 선언\n",
    "        <!DOCTYPE 루트엘리먼트명 SYSTEM 또는 PUBLIC \"식별자\">\n",
    "            DOCTYPE은 반드시 대문자\n",
    "            SYSTEM은 특정 단체나 업체내부에서 사용되는 경우\n",
    "            PUBLIC은 공개\n",
    "            식별자는 다운로드 받을 수 있는 경로\n",
    "            PUBLIC일 경우 추가된 식별자\n",
    "            +-//DTD를 개발 및 유지보수 업체명//DTD명 및 버전번호//사용된 언어\n",
    " \n",
    "    - 엘리먼트 선언\n",
    "        <!ELEMENT 엘리먼트명 컨텐트 유형>\n",
    "            컨텐트 유형\n",
    "                #PCDATA    : 내용으로 문자데이터만 갖는 엘리먼트\n",
    "                자식 엘리먼트\n",
    "                    , : 작성 순서\n",
    "                    | : 선택\n",
    "                    ? : 생략하거나 한번만 작성\n",
    "                    + : 한번 이상\n",
    "                    * : 생략하거나 여러번 작성\n",
    "                    기호 없음 : 단 한번만 작성\n",
    "                EMPTY\n",
    "                MIXED : 문자데이터 또는 자식엘리먼트를 혼합형태\n",
    "                ANY\n",
    " \n",
    "    - ATTRIBUTE 선언\n",
    "        <!ATTLIST 엘리먼트명 속성명 속성유형 디폴트선언>\n",
    "            속성 유형\n",
    "                CDATA :  문자 데이터\n",
    "                ENUMERATION    : dtd에 나열된 값 중 하나가 와야 함\n",
    "                ID : 유일한 값을 지정\n",
    "                IDREF/IDREFS : ID값을 참조\n",
    "                NMTOKEN/NMTOKENS : 이름 작성 규칙을 준수하는 데이터만 사용\n",
    "                NOTATION : dtd에 명시적으로 선언된 notation만 사용가능\n",
    "                ENTITY : dtd에 명시적으로 선언된 entity만 사용 가능\n",
    " \n",
    "    - validation check\n",
    "        https://www.xmlvalidation.com/\n",
    " \n",
    "6. 네임 스페이스\n",
    "    CML\n",
    "    -----\n",
    "        <?xml version=1.0>\n",
    "        <정보>\n",
    "            <고유번호>111111-1111111</고유번호>\n",
    "            <이름>홍길동</이름>\n",
    "            ...\n",
    "        </정보>\n",
    " \n",
    "    PML\n",
    "    -----\n",
    "        <?xml version=1.0>\n",
    "        <정보>\n",
    "            <고유번호>LC100</고유번호>\n",
    "            <이름>캠코더</이름>\n",
    "            ...\n",
    "        </정보>\n",
    " \n",
    "    OML\n",
    "    -----\n",
    "        <?xml version=1.0>\n",
    "        <주문정보 xmlns:고객=\"http://www.a.com/2017/Custom\"\n",
    "            xmlns:상품=\"http://www.a.com/2017/Product\"\n",
    "            xmlns=\"http://www.a.com/2017/Order\">\n",
    "            <주문번호>1</주문번호>\n",
    "            <주문수량>10</주문수량>\n",
    "            <결제>\n",
    "                <방법>현금</방법>\n",
    "                <금액>10000000</금액>\n",
    "            </결제>\n",
    " \n",
    "            <고객:고유번호>111111-1111111</고객:고유번호>\n",
    "            <고객:이름>홍길동</고객:이름>\n",
    " \n",
    "            <상품:고유번호>LC100</상품:고유번호>\n",
    "            <상품:이름>캠코더</상품:이름>\n",
    "            ...\n",
    "        </주문정보>"
   ]
  },
  {
   "cell_type": "markdown",
   "metadata": {},
   "source": [
    "## 1. XML 데이터 불러오기"
   ]
  },
  {
   "cell_type": "code",
   "execution_count": 26,
   "metadata": {},
   "outputs": [
    {
     "ename": "FileNotFoundError",
     "evalue": "[Errno 2] No such file or directory: 'data/user.xml'",
     "output_type": "error",
     "traceback": [
      "\u001b[1;31m---------------------------------------------------------------------------\u001b[0m",
      "\u001b[1;31mFileNotFoundError\u001b[0m                         Traceback (most recent call last)",
      "\u001b[1;32m<ipython-input-26-b2fbd68dbb75>\u001b[0m in \u001b[0;36m<module>\u001b[1;34m\u001b[0m\n\u001b[0;32m      1\u001b[0m \u001b[1;32mimport\u001b[0m \u001b[0mxml\u001b[0m\u001b[1;33m.\u001b[0m\u001b[0metree\u001b[0m\u001b[1;33m.\u001b[0m\u001b[0mElementTree\u001b[0m \u001b[1;32mas\u001b[0m \u001b[0melemTree\u001b[0m\u001b[1;33m\u001b[0m\u001b[1;33m\u001b[0m\u001b[0m\n\u001b[1;32m----> 2\u001b[1;33m \u001b[0mtree1\u001b[0m \u001b[1;33m=\u001b[0m \u001b[0melemTree\u001b[0m\u001b[1;33m.\u001b[0m\u001b[0mparse\u001b[0m\u001b[1;33m(\u001b[0m\u001b[1;34m'data/user.xml'\u001b[0m\u001b[1;33m)\u001b[0m\u001b[1;33m\u001b[0m\u001b[1;33m\u001b[0m\u001b[0m\n\u001b[0m\u001b[0;32m      3\u001b[0m \u001b[0mtree1\u001b[0m\u001b[1;33m\u001b[0m\u001b[1;33m\u001b[0m\u001b[0m\n",
      "\u001b[1;32m~\\anaconda3\\lib\\xml\\etree\\ElementTree.py\u001b[0m in \u001b[0;36mparse\u001b[1;34m(source, parser)\u001b[0m\n\u001b[0;32m   1200\u001b[0m     \"\"\"\n\u001b[0;32m   1201\u001b[0m     \u001b[0mtree\u001b[0m \u001b[1;33m=\u001b[0m \u001b[0mElementTree\u001b[0m\u001b[1;33m(\u001b[0m\u001b[1;33m)\u001b[0m\u001b[1;33m\u001b[0m\u001b[1;33m\u001b[0m\u001b[0m\n\u001b[1;32m-> 1202\u001b[1;33m     \u001b[0mtree\u001b[0m\u001b[1;33m.\u001b[0m\u001b[0mparse\u001b[0m\u001b[1;33m(\u001b[0m\u001b[0msource\u001b[0m\u001b[1;33m,\u001b[0m \u001b[0mparser\u001b[0m\u001b[1;33m)\u001b[0m\u001b[1;33m\u001b[0m\u001b[1;33m\u001b[0m\u001b[0m\n\u001b[0m\u001b[0;32m   1203\u001b[0m     \u001b[1;32mreturn\u001b[0m \u001b[0mtree\u001b[0m\u001b[1;33m\u001b[0m\u001b[1;33m\u001b[0m\u001b[0m\n\u001b[0;32m   1204\u001b[0m \u001b[1;33m\u001b[0m\u001b[0m\n",
      "\u001b[1;32m~\\anaconda3\\lib\\xml\\etree\\ElementTree.py\u001b[0m in \u001b[0;36mparse\u001b[1;34m(self, source, parser)\u001b[0m\n\u001b[0;32m    582\u001b[0m         \u001b[0mclose_source\u001b[0m \u001b[1;33m=\u001b[0m \u001b[1;32mFalse\u001b[0m\u001b[1;33m\u001b[0m\u001b[1;33m\u001b[0m\u001b[0m\n\u001b[0;32m    583\u001b[0m         \u001b[1;32mif\u001b[0m \u001b[1;32mnot\u001b[0m \u001b[0mhasattr\u001b[0m\u001b[1;33m(\u001b[0m\u001b[0msource\u001b[0m\u001b[1;33m,\u001b[0m \u001b[1;34m\"read\"\u001b[0m\u001b[1;33m)\u001b[0m\u001b[1;33m:\u001b[0m\u001b[1;33m\u001b[0m\u001b[1;33m\u001b[0m\u001b[0m\n\u001b[1;32m--> 584\u001b[1;33m             \u001b[0msource\u001b[0m \u001b[1;33m=\u001b[0m \u001b[0mopen\u001b[0m\u001b[1;33m(\u001b[0m\u001b[0msource\u001b[0m\u001b[1;33m,\u001b[0m \u001b[1;34m\"rb\"\u001b[0m\u001b[1;33m)\u001b[0m\u001b[1;33m\u001b[0m\u001b[1;33m\u001b[0m\u001b[0m\n\u001b[0m\u001b[0;32m    585\u001b[0m             \u001b[0mclose_source\u001b[0m \u001b[1;33m=\u001b[0m \u001b[1;32mTrue\u001b[0m\u001b[1;33m\u001b[0m\u001b[1;33m\u001b[0m\u001b[0m\n\u001b[0;32m    586\u001b[0m         \u001b[1;32mtry\u001b[0m\u001b[1;33m:\u001b[0m\u001b[1;33m\u001b[0m\u001b[1;33m\u001b[0m\u001b[0m\n",
      "\u001b[1;31mFileNotFoundError\u001b[0m: [Errno 2] No such file or directory: 'data/user.xml'"
     ]
    }
   ],
   "source": [
    "import xml.etree.ElementTree as elemTree\n",
    "tree1 = elemTree.parse('data/user.xml')\n",
    "tree1"
   ]
  },
  {
   "cell_type": "code",
   "execution_count": 53,
   "metadata": {},
   "outputs": [
    {
     "data": {
      "text/plain": [
       "<Element 'users' at 0x00000146FA22D040>"
      ]
     },
     "execution_count": 53,
     "metadata": {},
     "output_type": "execute_result"
    }
   ],
   "source": [
    "xmlstr = '''<?xml version=\"1.0\" encoding=\"utf-8\" ?>\n",
    "<users>\n",
    "\t<user grade=\"gold\">\n",
    "            <name>Kim Cheol Soo</name>\n",
    "            <age>25</age>\n",
    "            <birthday>19940215</birthday>\n",
    "        </user>\n",
    "        <user grade=\"diamond\">\n",
    "            <name>Kim Yoo Mee</name>\n",
    "            <age>21</age>\n",
    "            <birthday>19980417</birthday>\n",
    "        </user>\n",
    "</users>\n",
    "'''\n",
    "tree1 = elemTree.fromstring(xmlstr)\n",
    "tree1"
   ]
  },
  {
   "cell_type": "markdown",
   "metadata": {},
   "source": [
    "## 2. XML 데이터 다루기"
   ]
  },
  {
   "cell_type": "markdown",
   "metadata": {},
   "source": [
    "#### 1) 태그명 검색"
   ]
  },
  {
   "cell_type": "code",
   "execution_count": 55,
   "metadata": {},
   "outputs": [
    {
     "name": "stdout",
     "output_type": "stream",
     "text": [
      "<Element 'user' at 0x00000146FA230CC0>\n",
      "<class 'xml.etree.ElementTree.Element'>\n",
      "user\n",
      "{'grade': 'gold'}\n",
      "gold\n",
      "-----------------------------\n",
      "name\n",
      "{}\n",
      "Kim Cheol Soo\n"
     ]
    }
   ],
   "source": [
    "#data = tree1.find('user')\n",
    "data = tree1.find('user[1]')\n",
    "\n",
    "##### Xpath : ./, ../, ...\n",
    "data = tree1.find('./user[1]')\n",
    "\n",
    "print(data)\n",
    "print(type(data))\n",
    "dir(data)\n",
    "print(data.tag)\n",
    "print(data.attrib)\n",
    "print(data.get(\"grade\"))\n",
    "\n",
    "print('-----------------------------')\n",
    "\n",
    "username = data.find('name')\n",
    "print(username.tag)\n",
    "print(username.attrib)\n",
    "print(username.text)"
   ]
  },
  {
   "cell_type": "markdown",
   "metadata": {},
   "source": [
    "#### 2) 태그 조건으로 검색"
   ]
  },
  {
   "cell_type": "code",
   "execution_count": 56,
   "metadata": {},
   "outputs": [
    {
     "name": "stdout",
     "output_type": "stream",
     "text": [
      "{'grade': 'diamond'}\n",
      "['grade']\n",
      "[('grade', 'diamond')]\n"
     ]
    }
   ],
   "source": [
    "#data = tree1.find('./user[@grade]')\n",
    "data = tree1.find('./user[@grade][2]')\n",
    "\n",
    "\n",
    "print(data.attrib)\n",
    "print(data.keys())\n",
    "print(data.items())"
   ]
  },
  {
   "cell_type": "markdown",
   "metadata": {},
   "source": [
    "#### 3) 여러개의 태그를 한꺼번에 가져오기"
   ]
  },
  {
   "cell_type": "code",
   "execution_count": 57,
   "metadata": {},
   "outputs": [
    {
     "name": "stdout",
     "output_type": "stream",
     "text": [
      "{'grade': 'gold'}\n",
      "Kim Cheol Soo\n",
      "{'grade': 'diamond'}\n",
      "Kim Yoo Mee\n"
     ]
    }
   ],
   "source": [
    "users = tree1.findall('./user')\n",
    "users\n",
    "\n",
    "for user in users:\n",
    "    print(user.attrib)\n",
    "    print(user.find('name').text)"
   ]
  },
  {
   "cell_type": "markdown",
   "metadata": {},
   "source": [
    "#### 4) document sample"
   ]
  },
  {
   "cell_type": "code",
   "execution_count": 12,
   "metadata": {},
   "outputs": [],
   "source": [
    "str = '''<?xml version=\"1.0\"?>\n",
    "<data>\n",
    "    <country name=\"Liechtenstein\">\n",
    "        <rank>1</rank>\n",
    "        <year>2008</year>\n",
    "        <gdppc>141100</gdppc>\n",
    "        <neighbor name=\"Austria\" direction=\"E\"/>\n",
    "        <neighbor name=\"Switzerland\" direction=\"W\"/>\n",
    "    </country>\n",
    "    <country name=\"Singapore\">\n",
    "        <rank>4</rank>\n",
    "        <year>2011</year>\n",
    "        <gdppc>59900</gdppc>\n",
    "        <neighbor name=\"Malaysia\" direction=\"N\"/>\n",
    "    </country>\n",
    "    <country name=\"Panama\">\n",
    "        <rank>68</rank>\n",
    "        <year>2011</year>\n",
    "        <gdppc>13600</gdppc>\n",
    "        <neighbor name=\"Costa Rica\" direction=\"W\"/>\n",
    "        <neighbor name=\"Colombia\" direction=\"E\"/>\n",
    "    </country>\n",
    "</data>\n",
    "'''"
   ]
  },
  {
   "cell_type": "code",
   "execution_count": 15,
   "metadata": {},
   "outputs": [
    {
     "ename": "NameError",
     "evalue": "name 'data' is not defined",
     "output_type": "error",
     "traceback": [
      "\u001b[1;31m---------------------------------------------------------------------------\u001b[0m",
      "\u001b[1;31mNameError\u001b[0m                                 Traceback (most recent call last)",
      "\u001b[1;32m<ipython-input-15-5533d17b368b>\u001b[0m in \u001b[0;36m<module>\u001b[1;34m\u001b[0m\n\u001b[0;32m      1\u001b[0m \u001b[1;31m# singapore에 있는 이웃나라 이름은?\u001b[0m\u001b[1;33m\u001b[0m\u001b[1;33m\u001b[0m\u001b[1;33m\u001b[0m\u001b[0m\n\u001b[1;32m----> 2\u001b[1;33m \u001b[0mdata\u001b[0m \u001b[1;33m=\u001b[0m \u001b[0mstr\u001b[0m\u001b[1;33m.\u001b[0m\u001b[0mfind\u001b[0m\u001b[1;33m(\u001b[0m\u001b[0mdata\u001b[0m\u001b[1;33m[\u001b[0m\u001b[1;36m1\u001b[0m\u001b[1;33m]\u001b[0m\u001b[1;33m)\u001b[0m\u001b[1;33m\u001b[0m\u001b[1;33m\u001b[0m\u001b[0m\n\u001b[0m\u001b[0;32m      3\u001b[0m \u001b[1;33m\u001b[0m\u001b[0m\n\u001b[0;32m      4\u001b[0m \u001b[1;31m# Panama에 있는 이웃나라 중 Costa Rica의 방향은?\u001b[0m\u001b[1;33m\u001b[0m\u001b[1;33m\u001b[0m\u001b[1;33m\u001b[0m\u001b[0m\n",
      "\u001b[1;31mNameError\u001b[0m: name 'data' is not defined"
     ]
    }
   ],
   "source": [
    "# singapore에 있는 이웃나라 이름은?\n",
    "data = str.find(data[1])\n",
    "\n",
    "# Panama에 있는 이웃나라 중 Costa Rica의 방향은?\n",
    "\n",
    "# 각 나라의 gdppc를 조회\n",
    "\n",
    "# 각 나라의 인접국가 조회"
   ]
  },
  {
   "cell_type": "code",
   "execution_count": 58,
   "metadata": {},
   "outputs": [
    {
     "ename": "AttributeError",
     "evalue": "module 'urllib.request' has no attribute 'get'",
     "output_type": "error",
     "traceback": [
      "\u001b[1;31m---------------------------------------------------------------------------\u001b[0m",
      "\u001b[1;31mAttributeError\u001b[0m                            Traceback (most recent call last)",
      "\u001b[1;32m<ipython-input-58-76a668262b79>\u001b[0m in \u001b[0;36m<module>\u001b[1;34m\u001b[0m\n\u001b[0;32m      1\u001b[0m \u001b[1;32mimport\u001b[0m \u001b[0murllib\u001b[0m\u001b[1;33m.\u001b[0m\u001b[0mrequest\u001b[0m \u001b[1;32mas\u001b[0m \u001b[0mreq\u001b[0m\u001b[1;33m\u001b[0m\u001b[1;33m\u001b[0m\u001b[0m\n\u001b[0;32m      2\u001b[0m \u001b[1;32mimport\u001b[0m \u001b[0mrequests\u001b[0m\u001b[1;33m\u001b[0m\u001b[1;33m\u001b[0m\u001b[0m\n\u001b[1;32m----> 3\u001b[1;33m \u001b[0mhealth\u001b[0m \u001b[1;33m=\u001b[0m \u001b[0mreq\u001b[0m\u001b[1;33m.\u001b[0m\u001b[0mget\u001b[0m\u001b[1;33m(\u001b[0m\u001b[1;34m'http://www.khan.co.kr/rss/rssdata/kh_sports.xml'\u001b[0m\u001b[1;33m)\u001b[0m\u001b[1;33m\u001b[0m\u001b[1;33m\u001b[0m\u001b[0m\n\u001b[0m\u001b[0;32m      4\u001b[0m \u001b[0mhealth\u001b[0m\u001b[1;33m.\u001b[0m\u001b[0mtext\u001b[0m\u001b[1;33m(\u001b[0m\u001b[1;33m)\u001b[0m\u001b[1;33m\u001b[0m\u001b[1;33m\u001b[0m\u001b[0m\n",
      "\u001b[1;31mAttributeError\u001b[0m: module 'urllib.request' has no attribute 'get'"
     ]
    }
   ],
   "source": [
    "import urllib.request as req\n",
    "import requests\n",
    "health = req.get('http://www.khan.co.kr/rss/rssdata/kh_sports.xml')\n",
    "health.text()"
   ]
  },
  {
   "cell_type": "markdown",
   "metadata": {},
   "source": [
    "---\n",
    "\n",
    "## 2. JSON(Javascript Object Notation)"
   ]
  },
  {
   "cell_type": "code",
   "execution_count": 29,
   "metadata": {},
   "outputs": [],
   "source": [
    "import json \n",
    "\n",
    "# dumps() : 데이터를 저장\n",
    "# loads() : 데이터를 불러올 때\n",
    "\n"
   ]
  },
  {
   "cell_type": "code",
   "execution_count": 47,
   "metadata": {
    "scrolled": false
   },
   "outputs": [
    {
     "name": "stdout",
     "output_type": "stream",
     "text": [
      "<class 'dict'>\n",
      "{'name': '홍길동', 'birth': '0519', 'age': 20}\n",
      "----------------------------------------\n",
      "{\n",
      "  \"name\": \"\\ud64d\\uae38\\ub3d9\",\n",
      "  \"birth\": \"0519\",\n",
      "  \"age\": 20\n",
      "}\n",
      "<class 'str'>\n",
      "----------------------------------------\n",
      "[1, 2, 3]\n",
      "<class 'str'>\n",
      "----------------------------------------\n",
      "{'name': '홍길동', 'birth': '0519', 'age': 20}\n"
     ]
    }
   ],
   "source": [
    "j1 = {'name':'홍길동','birth':'0519','age':20}\n",
    "print(type(j1))\n",
    "print(j1)\n",
    "\n",
    "print('----------------------------------------')\n",
    "\n",
    "#j2 = json.dumps(j1)\n",
    "j2 = json.dumps(j1,indent=2)\n",
    "\n",
    "print(j2)\n",
    "print(type(j2))\n",
    "\n",
    "print('----------------------------------------')\n",
    "\n",
    "# 리스트나 튜플로 json으로 변환\n",
    "#j3 = json.dumps([1,2,3])\n",
    "j3 = json.dumps((1,2,3))\n",
    "print(j3)\n",
    "print(type(j3))\n",
    "\n",
    "print('----------------------------------------')\n",
    "\n",
    "j4 = json.loads(j2)\n",
    "print(j4)"
   ]
  },
  {
   "cell_type": "code",
   "execution_count": 60,
   "metadata": {},
   "outputs": [
    {
     "name": "stdout",
     "output_type": "stream",
     "text": [
      "<class 'str'>\n"
     ]
    }
   ],
   "source": [
    "obj = \"\"\"\n",
    "{\n",
    "\"id\": \"0001\",\n",
    "\"type\": \"donut\",\n",
    "\"name\": \"Cake\",\n",
    "\"ppu\": 0.55,\n",
    "\"batters\":\n",
    "{\n",
    "\"batter\":\n",
    "[\n",
    "{ \"id\": \"1001\", \"type\": \"Regular\" },\n",
    "{ \"id\": \"1002\", \"type\": \"Chocolate\" },\n",
    "{ \"id\": \"1003\", \"type\": \"Blueberry\" },\n",
    "{ \"id\": \"1004\", \"type\": \"Devil's Food\" }\n",
    "]\n",
    "},\n",
    "\"topping\":\n",
    "[\n",
    "{ \"id\": \"5001\", \"type\": \"None\" },\n",
    "{ \"id\": \"5002\", \"type\": \"Glazed\" },\n",
    "{ \"id\": \"5005\", \"type\": \"Sugar\" },\n",
    "{ \"id\": \"5007\", \"type\": \"Powdered Sugar\" },\n",
    "{ \"id\": \"5006\", \"type\": \"Chocolate with Sprinkles\" },\n",
    "{ \"id\": \"5003\", \"type\": \"Chocolate\" },\n",
    "{ \"id\": \"5004\", \"type\": \"Maple\" }\n",
    "]\n",
    "}\n",
    "\"\"\"\n",
    "print(type(obj))"
   ]
  },
  {
   "cell_type": "code",
   "execution_count": 67,
   "metadata": {},
   "outputs": [
    {
     "name": "stdout",
     "output_type": "stream",
     "text": [
      "<class 'dict'>\n",
      "{'id': '0001', 'type': 'donut', 'name': 'Cake', 'ppu': 0.55, 'batters': {'batter': [{'id': '1001', 'type': 'Regular'}, {'id': '1002', 'type': 'Chocolate'}, {'id': '1003', 'type': 'Blueberry'}, {'id': '1004', 'type': \"Devil's Food\"}]}, 'topping': [{'id': '5001', 'type': 'None'}, {'id': '5002', 'type': 'Glazed'}, {'id': '5005', 'type': 'Sugar'}, {'id': '5007', 'type': 'Powdered Sugar'}, {'id': '5006', 'type': 'Chocolate with Sprinkles'}, {'id': '5003', 'type': 'Chocolate'}, {'id': '5004', 'type': 'Maple'}]}\n",
      "---------------------------------\n",
      "1001\n"
     ]
    }
   ],
   "source": [
    "result = json.loads(obj)\n",
    "print(type(result))\n",
    "print(result)\n",
    "\n",
    "print('---------------------------------')\n",
    "\n",
    "print(result['batters']['batter'][0]['id'])"
   ]
  },
  {
   "cell_type": "markdown",
   "metadata": {},
   "source": [
    "---\n",
    "\n",
    "## BeautifulSoup"
   ]
  },
  {
   "cell_type": "markdown",
   "metadata": {},
   "source": [
    "#### 1) 웹 소스 가져오기"
   ]
  },
  {
   "cell_type": "code",
   "execution_count": 1,
   "metadata": {},
   "outputs": [],
   "source": [
    "import urllib.request as req \n",
    "from urllib.request import urlopen\n",
    "from urllib.error import HTTPError,URLError\n"
   ]
  },
  {
   "cell_type": "code",
   "execution_count": 2,
   "metadata": {},
   "outputs": [
    {
     "name": "stdout",
     "output_type": "stream",
     "text": [
      "<class 'http.client.HTTPResponse'>\n",
      "<class 'bytes'>\n"
     ]
    }
   ],
   "source": [
    "##### 텍스트 내용 읽어오기\n",
    "\n",
    "html = urlopen('http://google.com')\n",
    "print(type(html))\n",
    "print(type(html.read()))"
   ]
  },
  {
   "cell_type": "code",
   "execution_count": 3,
   "metadata": {},
   "outputs": [
    {
     "name": "stdout",
     "output_type": "stream",
     "text": [
      "HTTP error 입니다 HTTP Error 404: Not Found\n"
     ]
    }
   ],
   "source": [
    "from urllib.error import HTTPError,URLError\n",
    "\n",
    "try:\n",
    "    naver = urlopen('https://www.naver.com/abc.jsp')\n",
    "except HTTPError as e:\n",
    "    print('HTTP error 입니다',e)\n",
    "except URLError as e:\n",
    "    print('URL error 입니다',e)\n",
    "else:\n",
    "    print(naver.read())"
   ]
  },
  {
   "cell_type": "code",
   "execution_count": 4,
   "metadata": {},
   "outputs": [
    {
     "name": "stdout",
     "output_type": "stream",
     "text": [
      "저장\n"
     ]
    }
   ],
   "source": [
    "##### 이미지 가져오기\n",
    "\n",
    "req.urlretrieve('https://t1.daumcdn.net/daumtop_chanel/op/20200723055344399.png','data/daum.png')\n",
    "print('저장')"
   ]
  },
  {
   "cell_type": "code",
   "execution_count": 12,
   "metadata": {},
   "outputs": [
    {
     "name": "stdout",
     "output_type": "stream",
     "text": [
      "저장\n"
     ]
    }
   ],
   "source": [
    "img = urlopen('https://t1.daumcdn.net/daumtop_chanel/op/20200723055344399.png')\n",
    "img_data = img.read()\n",
    "img_data\n",
    "\n",
    "f = open('data/daum2.png','wb')\n",
    "f.write(img_data)\n",
    "print('저장')\n",
    "f.close()"
   ]
  },
  {
   "cell_type": "code",
   "execution_count": 5,
   "metadata": {},
   "outputs": [
    {
     "name": "stdout",
     "output_type": "stream",
     "text": [
      "stnld=109\n",
      "http://www.weather.go.kr/weather/lifenindustry/sevice_rss.jsp?stnld=109\n",
      "b'<!DOCTYPE html>\\n\\n<html lang=\"ko\">\\n\\t<head>\\n\\t\\t<meta http-equiv=\"X-UA-Compatible\" content=\"IE=Edge\" />\\n\\t\\t<title>RSS &gt; \\xc0\\xce\\xc5\\xcd\\xb3\\xdd &gt; \\xbc\\xad\\xba\\xf1\\xbd\\xba &gt; \\xbb\\xfd\\xc8\\xb0\\xb0\\xfa \\xbb\\xea\\xbe\\xf7 &gt; \\xb3\\xaf\\xbe\\xbe &gt; \\xb1\\xe2\\xbb\\xf3\\xc3\\xbb </title>\\n\\t\\t<link rel=\"shortcut icon\" href=\"https://www.kma.go.kr/iphone-shortcut.png\" />\\n\\t\\t<link rel=\\'apple-touch-icon-precomposed\\' href=\\'https://www.kma.go.kr/iphone-shortcut.png\\'/> \\n\\t\\t<meta http-equiv=\"Content-Type\" content=\"text/html; charset=euc-kr\" />\\n\\t\\t<link rel=\"stylesheet\" type=\"text/css\" href=\"/share/css/base.css?ver=20210616\" />\\n\\t\\t<link rel=\"stylesheet\" type=\"text/css\" href=\"/share/css/common.css?ver=20210616\" />\\n\\t\\t<link rel=\"stylesheet\" type=\"text/css\" href=\"/share/css/weather-layout.css?ver=20210616\" />\\n\\t\\t<link rel=\"stylesheet\" type=\"text/css\" href=\"/share/css/component.css?ver=20210616\" />\\n\\t\\t<link rel=\"stylesheet\" type=\"text/css\" href=\"/share/css/add_2018.css?ver=20210616\" />\\n\\t\\t\\n\\t\\t\\n\\t\\t\\t<link rel=\"stylesheet\" type=\"text/css\" href=\"/share/css/weather-life.css?ver=20210616\" />\\n\\t\\t\\n\\t\\t\\n\\t\\t<script src=\"/share/js/jquery-1.7.1.min.js\"></script>\\n\\t\\t<script src=\"/share/js/weather-common.js?ver=20210616\"></script>\\n\\t\\t\\n\\t\\t<link rel=\"stylesheet\" type=\"text/css\" href=\"/share/css/warninglayer.css?ver=20210616\" />\\n\\t\\t<!--[if gte IE 7]><link rel=\"stylesheet\" type=\"text/css\" href=\"/share/css/ie7.css\" /><![endif]-->\\n\\t\\t<meta name=\"title\" content=\"\\xb1\\xe2\\xbb\\xf3\\xc3\\xbb \" />\\n\\t\\t<meta name=\"author\" content=\"\\xb1\\xe2\\xbb\\xf3\\xc3\\xbb\" />\\n\\t\\t<meta name=\"keywords\" content=\"\\xb3\\xaf\\xbe\\xbe, \\xb1\\xe2\\xbb\\xf3\\xc3\\xbb\" />\\n\\t\\t<meta name=\"description\" content=\"\\xb1\\xe2\\xbb\\xf3\\xc3\\xbb \\xb3\\xaf\\xbe\\xbe\\xb4\\xa9\\xb8\\xae\\xc0\\xd4\\xb4\\xcf\\xb4\\xd9.\" />\\n\\t\\t\\n\\t\\t\\r\\n\\t<meta name=\"content-css\" content=\"weather-life.css\" />\\r\\n\\t<meta name=\"parent-image\" content=\"../../images/weather/lifenindustry/h4_10_1.gif\" />\\r\\n\\t<meta name=\"parent-alt\" content=\"\\xbc\\xad\\xba\\xf1\\xbd\\xba\" />\\r\\n\\t<meta name=\"title-image\" content=\"../../images/weather/lifenindustry/h5_10_1.gif\" />\\r\\n\\t<meta name=\"title-alt\" content=\"\\xc0\\xce\\xc5\\xcd\\xb3\\xdd\" />\\r\\n\\t<meta name=\"help-url\" content=\"\" />\\r\\n    <script type=\"text/javascript\">\\r\\n        function openRss(link) { \\r\\n            if( window.clipboardData ) {\\r\\n                window.clipboardData.setData(\\'Text\\', link.href);\\r\\n                alert(\"\\xc1\\xd6\\xbc\\xd2\\xb8\\xa6 \\xc5\\xac\\xb8\\xb3\\xba\\xb8\\xb5\\xe5\\xbf\\xa1 \\xba\\xb9\\xbb\\xe7\\xc7\\xcf\\xbf\\xb4\\xbd\\xc0\\xb4\\xcf\\xb4\\xd9.\");\\r\\n            } else {\\r\\n                prompt(\"Ctrl + c \\xb8\\xa6 \\xb4\\xad\\xb7\\xaf \\xc5\\xac\\xb8\\xb3\\xba\\xb8\\xb5\\xe5\\xb7\\xce \\xba\\xb9\\xbb\\xe7\\xc7\\xcf\\xbc\\xbc\\xbf\\xe4\", link.href);\\r\\n            }\\r\\n            window.open(link.href);\\r\\n        }\\r\\n    </script>\\r\\n\\n\\t</head>\\n\\t<body\\n\\t\\t\\n\\t\\t\\n\\t\\t>\\n\\t\\t<div class=\"body-wrapper\">\\n\\t\\t\\t<div class=\"menu-bg\"></div>\\n\\t\\t\\t\\n\\t\\t\\t\\n\\t\\t\\t\\n\\t\\t\\t\\n\\t\\t\\t\\n\\t\\t\\t\\n\\t\\t\\t\\n\\t\\t\\t\\n\\t\\t\\t\\n\\t\\t\\t\\n\\t\\t\\t\\n\\t\\t\\t\\n\\t\\t\\t\\n\\t\\t\\t\\n\\t\\t\\t\\n\\t\\t\\t\\n\\t\\t\\t\\t\\n\\t\\t\\t\\t\\t\\r\\n\\t<div class=\"header-wrapper\">\\r\\n\\t\\t<div class=\"header-wrap-bar\"></div>\\r\\n\\t\\t<div id=\"header\">\\r\\n\\t\\t\\t\\r\\n\\t<dl id=\"skip\">\\r\\n\\t\\t<dt><strong class=\"hid\">\\xb9\\xd9\\xb7\\xce\\xb0\\xa1\\xb1\\xe2 \\xb8\\xde\\xb4\\xba</strong></dt>\\r\\n\\t\\t<dd><a class=\"golnb\" href=\"#main_menu\">\\xb8\\xde\\xc0\\xce\\xb8\\xde\\xb4\\xba \\xb9\\xd9\\xb7\\xce\\xb0\\xa1\\xb1\\xe2</a></dd>\\r\\n\\t</dl>\\r\\n\\t<div id=\"gnb\">\\r\\n\\t\\t<div id=\"goto-kma\" class=\"goto-kma\"><a href=\"#content\">\\xba\\xbb\\xb9\\xae\\xb9\\xd9\\xb7\\xce\\xb0\\xa1\\xb1\\xe2 (SKIP TO CONTENT) </a></div>\\r\\n\\t\\t<div style=\"display: inline-block; position: relative; left: 262px; top: 10px;\"><a href=\"http://www.weather.go.kr\" target=\"_blank\" style=\"text-decoration:none; \"><p style=\"width:190px; text-align:center; font-size:14px; font-weight:bold; color:#ffffff; padding: 3px; \">(\\xbd\\xc5)\\xb3\\xaf\\xbe\\xbe\\xb4\\xa9\\xb8\\xae \\xb9\\xd9\\xb7\\xce\\xb0\\xa1\\xb1\\xe2 ></p></a></div>\\r\\n\\t\\t\\t<ul id=\"area\">\\r\\n\\t\\t\\t\\t<li class=\"sitemap\"><a href=\"/weather/global/sitemap_weather.jsp\">\\xbb\\xe7\\xc0\\xcc\\xc6\\xae\\xb8\\xca</a></li>\\r\\n\\t\\t\\t\\t<li class=\"wind\">\\r\\n\\t\\t\\t\\t\\t<ul class=\"clearfix\" id=\"unit-option-group\">\\r\\n\\t\\t\\t\\t\\t\\t<li class=\"title\">\\xc7\\xb3\\xbc\\xd3\\xb4\\xdc\\xc0\\xa7</li>\\r\\n\\t\\t\\t\\t\\t\\t<li><a href=\"#unit-ms\" data-option-windspeed=\"M\">m/s</a></li>\\r\\n\\t\\t\\t\\t\\t\\t<li><a href=\"#unit-kmh\" data-option-windspeed=\"K\">km/h</a></li>\\r\\n\\t\\t\\t\\t\\t</ul>\\r\\n\\t\\t\\t\\t</li>\\r\\n\\t\\t\\t\\t\\r\\n\\t\\t\\t<li class=\"language\">\\r\\n\\t\\t\\t\\t<ul class=\"clearfix\">\\r\\n\\t\\t\\t\\t\\t<li><a href=\"http://www.kma.go.kr/eng/index.jsp\" target=\"_blank\" title=\"\\xbb\\xf5\\xc3\\xa2\\xbf\\xad\\xb8\\xb2\">ENG</a></li>\\r\\n\\t\\t\\t\\t\\t<li><a href=\"http://www.kma.go.kr/jpn/index.jsp\" target=\"_blank\" title=\"\\xbb\\xf5\\xc3\\xa2\\xbf\\xad\\xb8\\xb2\">JPN</a></li>\\r\\n\\t\\t\\t\\t\\t<li><a href=\"http://www.kma.go.kr/chn/index.jsp\" target=\"_blank\" title=\"\\xbb\\xf5\\xc3\\xa2\\xbf\\xad\\xb8\\xb2\">CHN</a></li>\\r\\n\\t\\t\\t\\t</ul>\\r\\n\\t\\t\\t</li>\\r\\n\\t\\t\\t<li class=\"search\">\\r\\n\\t\\t\\t\\t<form name=\"search_dictionary\" method=\"post\" class=\"global_top_search\" action=\"http://www.kma.go.kr/search/kmaSearch.jsp\">\\r\\n\\t\\t\\t\\t\\t<fieldset>\\r\\n\\t\\t\\t\\t\\t\\t<legend>\\xc5\\xeb\\xc7\\xd5 \\xb0\\xcb\\xbb\\xf6</legend>\\r\\n\\t\\t\\t\\t\\t\\t<p class=\"view\">\\r\\n\\t\\t\\t\\t\\t\\t<input type=\"text\" id=\"input_keyword1\" name=\"keyword\" class=\"inputbase\" placeholder=\"\\xb0\\xcb\\xbb\\xf6\\xbe\\xee \\xc0\\xd4\\xb7\\xc2\" value=\"\" title=\"\\xb0\\xcb\\xbb\\xf6\\xbe\\xee \\xc0\\xd4\\xb7\\xc2\"/>\\r\\n\\t\\t\\t\\t\\t\\t<input type=\"image\" class=\"button\" src=\"/weather/home/images/search-btn01.gif\" alt=\"\\xb0\\xcb\\xbb\\xf6\" /></p>\\r\\n\\t\\t\\t\\t\\t</fieldset>\\r\\n\\t\\t\\t\\t</form>\\r\\n\\t\\t\\t</li>\\r\\n\\t\\t\\t<li class=\"homepage\"><a href=\"http://www.kma.go.kr/home/index.jsp\" ><span>\\xb1\\xe2\\xbb\\xf3\\xc3\\xbb \\xc7\\xe0\\xc1\\xa4\\xc8\\xa8\\xc6\\xe4\\xc0\\xcc\\xc1\\xf6 \\xb9\\xd9\\xb7\\xce \\xb0\\xa1\\xb1\\xe2</span></a></li>\\r\\n\\t\\t</ul>\\r\\n\\t</div>\\r\\n\\t\\t\\t<div id=\"topMenu\">\\r\\n\\t            <h1><a href=\"/weather/main.jsp\"><img src=\"/images/kma/weather_logo_b.gif\" alt=\"\\xb3\\xaf\\xbe\\xbe\\xb4\\xa9\\xb8\\xae \\xb1\\xe2\\xbb\\xf3\\xc3\\xbb \\xb1\\xb9\\xb0\\xa1\\xb1\\xe2\\xbb\\xf3\\xc1\\xbe\\xc7\\xd5\\xc1\\xa4\\xba\\xb8\"></a></h1>\\r\\n\\t\\t\\t\\t\\r\\n\\t            \\r\\n\\r\\n\\r\\n\\r\\n\\t\\r\\n\\t\\r\\n\\t\\r\\n\\t\\r\\n\\t\\r\\n\\r\\n\\r\\n\\r\\n\\r\\n\\r\\n\\r\\n\\r\\n\\t\\t\\t\\t\\r\\n\\t\\t\\t\\t<div id=\"main_menu\">\\r\\n\\t\\t\\t\\t\\t<noscript>\\xc7\\xcf\\xc0\\xa7\\xb8\\xde\\xb4\\xba\\xbc\\xb1\\xc5\\xc3\\xc0\\xba \\xc0\\xda\\xb9\\xd9\\xbd\\xba\\xc5\\xa9\\xb8\\xb3\\xc6\\xae \\xb1\\xe2\\xb4\\xc9\\xc0\\xcc \\xc0\\xd6\\xbe\\xee\\xbe\\xdf \\xbc\\xb1\\xc5\\xc3\\xc7\\xcf\\xbd\\xc7 \\xbc\\xf6 \\xc0\\xd6\\xbd\\xc0\\xb4\\xcf\\xb4\\xd9.</noscript>\\r\\n\\t\\t\\t\\t\\t<a id=\"golnb\"></a>\\r\\n\\t\\t\\t\\t\\t<ul id=\"lnb\">\\r\\n\\t\\t\\t\\t\\t\\t<li class=\"div-9\" id=\"top-menu1\"><a href=\"/weather/warning/status.jsp\" id=\"top-menu-head1\">\\xc6\\xaf\\xba\\xb8 \\xa1\\xa4 \\xbf\\xb9\\xba\\xb8</a>\\r\\n\\t\\t\\t\\t\\t\\t\\t<ul id=\"top-sub-menu1\" style=\"display: none;\">\\r\\n\\t\\t\\t\\t\\t\\t\\t\\t<li id=\"top-1-1\"><a href=\"/weather/warning/status.jsp\" class=\"addon\">\\xc6\\xaf\\xba\\xb8 \\xa1\\xa4 \\xc1\\xa4\\xba\\xb8</a>\\r\\n\\t\\t\\t\\t\\t\\t\\t\\t\\t<ul>\\r\\n\\t\\t\\t\\t\\t\\t\\t\\t\\t\\t<li><a href=\"/weather/warning/status.jsp\">\\xc6\\xaf\\xba\\xb8\\xc7\\xf6\\xc8\\xb2</a></li>\\r\\n\\t\\t\\t\\t\\t\\t\\t\\t\\t\\t<li><a href=\"/weather/warning/report.jsp\">\\xc5\\xeb\\xba\\xb8\\xb9\\xae</a></li>\\r\\n\\t\\t\\t\\t\\t\\t\\t\\t\\t\\t<!--<li><a href=\"/weather/warning/heatwave.jsp\">\\xc6\\xf8\\xbf\\xb0\\xbf\\xb5\\xc7\\xe2\\xbf\\xb9\\xba\\xb8</a></li>\\r\\n\\t\\t\\t\\t\\t\\t\\t\\t\\t\\t<li><a href=\"/weather/warning/coldwave.jsp\">\\xc7\\xd1\\xc6\\xc4\\xbf\\xb5\\xc7\\xe2\\xbf\\xb9\\xba\\xb8</a></li>-->\\r\\n\\t\\t\\t\\t\\t\\t\\t\\t\\t\\t<li><a href=\"/weather/warning/wtouchqNew.jsp\">\\xc0\\xce\\xc5\\xcd\\xb3\\xdd\\xb1\\xe2\\xbb\\xf3\\xb9\\xe6\\xbc\\xdb<br/>(\\xb3\\xaf\\xbe\\xbeON)</a></li>\\r\\n\\t\\t\\t\\t\\t\\t\\t\\t\\t\\t<li><a href=\"/weather/warning/standard.jsp\">\\xb1\\xe2\\xbb\\xf3\\xc6\\xaf\\xba\\xb8 \\xb9\\xdf\\xc7\\xa5\\xb1\\xe2\\xc1\\xd8</a></li>\\r\\n\\t\\t\\t\\t\\t\\t\\t\\t\\t\\t<li><a href=\"/weather/warning/safetyguide_asiandust.jsp\">\\xb1\\xb9\\xb9\\xce\\xc7\\xe0\\xb5\\xbf\\xbf\\xe4\\xb7\\xc9</a></li>\\r\\n\\t\\t\\t\\t\\t\\t\\t\\t\\t\\t<li><a href=\"/weather/warning/fog_status.jsp\">\\xbe\\xc8\\xb0\\xb3\\xc1\\xa4\\xba\\xb8\\xbc\\xad\\xba\\xf1\\xbd\\xba</a></li>\\r\\n\\t\\t\\t\\t\\t\\t\\t\\t\\t</ul>\\r\\n\\t\\t\\t\\t\\t\\t\\t\\t</li>\\r\\n\\t\\t\\t\\t\\t\\t\\t\\t<li id=\"top-1-2\"><a href=\"/weather/forecast/timeseries.jsp\">\\xc0\\xb0\\xbb\\xf3\\xbf\\xb9\\xba\\xb8</a>\\r\\n\\t\\t\\t\\t\\t\\t\\t\\t\\t<ul>\\r\\n\\t\\t\\t\\t\\t\\t\\t\\t\\t\\t<li><a href=\"/weather/forecast/timeseries.jsp\">\\xb5\\xbf\\xb3\\xd7\\xbf\\xb9\\xba\\xb8</a></li>\\r\\n\\t\\t\\t\\t\\t\\t\\t\\t\\t\\t<li><a href=\"/weather/forecast/mid-term_01.jsp\">\\xc1\\xdf\\xb1\\xe2\\xbf\\xb9\\xba\\xb8(10\\xc0\\xcf \\xbf\\xb9\\xba\\xb8)</a></li>\\r\\n\\t\\t\\t\\t\\t\\t\\t\\t\\t\\t<li><a href=\"/weather/forecast/weekend.jsp\">\\xc1\\xd6\\xb8\\xbb\\xbf\\xb9\\xba\\xb8</a></li>\\r\\n\\t\\t\\t\\t\\t\\t\\t\\t\\t\\t<li><a href=\"/weather/forecast/long-range1.jsp\">1\\xb0\\xb3\\xbf\\xf9\\xc0\\xfc\\xb8\\xc1</a></li>\\r\\n\\t\\t\\t\\t\\t\\t\\t\\t\\t\\t<li><a href=\"/weather/forecast/long-range3.jsp\">3\\xb0\\xb3\\xbf\\xf9\\xc0\\xfc\\xb8\\xc1</a></li>\\r\\n\\t\\t\\t\\t\\t\\t\\t\\t\\t\\t<li><a href=\"/weather/forecast/long-range3-guide.jsp\">3\\xb0\\xb3\\xbf\\xf9\\xc0\\xfc\\xb8\\xc1 \\xc7\\xd8\\xbc\\xb3\\xbc\\xad</a></li>\\r\\n\\t\\t\\t\\t\\t\\t\\t\\t\\t\\t<li><a href=\"/weather/forecast/season.jsp\">\\xb1\\xe2\\xc8\\xc4\\xc0\\xfc\\xb8\\xc1</a></li>\\r\\n\\t\\t\\t\\t\\t\\t\\t\\t\\t\\t<li><a href=\"/weather/forecast/drought-range1.jsp\">\\xb1\\xe2\\xbb\\xf3\\xb0\\xa1\\xb9\\xb3\\xbf\\xb9\\xba\\xb8</a></li>\\r\\n\\t\\t\\t\\t\\t\\t\\t\\t\\t</ul>\\r\\n\\t\\t\\t\\t\\t\\t\\t\\t</li>\\r\\n\\t\\t\\t\\t\\t\\t\\t\\t<li id=\"top-1-3\"><a href=\"/weather/forecast/marine_daily.jsp\">\\xc7\\xd8\\xbb\\xf3\\xbf\\xb9\\xba\\xb8</a>\\r\\n\\t\\t\\t\\t\\t\\t\\t\\t\\t<ul>\\r\\n\\t\\t\\t\\t\\t\\t\\t\\t\\t\\t<li><a href=\"/weather/forecast/marine_daily.jsp\">\\xc0\\xcf\\xc0\\xcf\\xbf\\xb9\\xba\\xb8</a></li>\\r\\n\\t\\t\\t\\t\\t\\t\\t\\t\\t\\t<li><a href=\"/weather/forecast/marine_mid-term.jsp\">\\xc1\\xdf\\xb1\\xe2\\xbf\\xb9\\xba\\xb8(10\\xc0\\xcf \\xbf\\xb9\\xba\\xb8)</a></li>\\r\\n\\t\\t\\t\\t\\t\\t\\t\\t\\t</ul>\\r\\n\\t\\t\\t\\t\\t\\t\\t\\t</li>\\r\\n\\t\\t\\t\\t\\t\\t\\t\\t<li id=\"top-1-4\"><a href=\"/weather/forecast/northkorea01.jsp\">\\xba\\xcf\\xc7\\xd1\\xbf\\xb9\\xba\\xb8</a>\\r\\n\\t\\t\\t\\t\\t\\t\\t\\t\\t<ul>\\r\\n\\t\\t\\t\\t\\t\\t\\t\\t\\t\\t<li><a href=\"/weather/forecast/northkorea01.jsp\">\\xc0\\xb0\\xbb\\xf3\\xbf\\xb9\\xba\\xb8</a></li>\\r\\n\\t\\t\\t\\t\\t\\t\\t\\t\\t\\t<li><a href=\"/weather/forecast/northkorea02.jsp\">\\xb9\\xd9\\xb4\\xd9\\xbf\\xb9\\xba\\xb8</a></li>\\r\\n\\t\\t\\t\\t\\t\\t\\t\\t\\t</ul>\\r\\n\\t\\t\\t\\t\\t\\t\\t\\t</li>\\r\\n\\t\\t\\t\\t\\t\\t\\t\\t<li id=\"top-1-5\"><a href=\"/weather/forecast/mountain_01.jsp\">\\xc5\\xd7\\xb8\\xb6\\xbf\\xb9\\xba\\xb8</a>\\r\\n\\t\\t\\t\\t\\t\\t\\t\\t\\t<ul>\\r\\n\\t\\t\\t\\t\\t\\t\\t\\t\\t\\t<li><a href=\"/weather/forecast/mountain_01.jsp\">\\xbb\\xea\\xbe\\xc7\\xb1\\xe2\\xbb\\xf3</a></li>\\r\\n\\t\\t\\t\\t\\t\\t\\t\\t\\t\\t<li><a href=\"/weather/forecast/theme_beach.jsp\">\\xc7\\xd8\\xbc\\xf6\\xbf\\xe5\\xc0\\xe5 \\xbf\\xb9\\xba\\xb8</a></li>\\r\\n\\t\\t\\t\\t\\t\\t\\t\\t\\t\\t<li><a href=\"/weather/forecast/theme_regional.jsp\">\\xc1\\xf6\\xbf\\xaa\\xba\\xb0\\xb1\\xe2\\xbb\\xf3\\xc1\\xa4\\xba\\xb8</a></li>\\r\\n\\t\\t\\t\\t\\t\\t\\t\\t\\t</ul>\\r\\n\\t\\t\\t\\t\\t\\t\\t\\t</li>\\r\\n\\t\\t\\t\\t\\t\\t\\t\\t<li id=\"top-1-7\"><a href=\"/weather/forecast/el-la.jsp\">\\xbf\\xa4\\xb4\\xcf\\xb4\\xa2<br />\\xa1\\xa4\\xb6\\xf3\\xb4\\xcf\\xb3\\xc4\\xc0\\xfc\\xb8\\xc1</a>\\r\\n\\t\\t\\t\\t\\t\\t\\t\\t\\t<ul class=\"ul01 clearfix\">\\r\\n\\t\\t\\t\\t\\t\\t\\t\\t\\t\\t<li id=\"top-1-8\" class=\"mgr0\"><a href=\"/weather/forecast/forecaetevalue_01.jsp\">\\xbf\\xb9\\xba\\xb8\\xc6\\xf2\\xb0\\xa1</a>\\r\\n\\t\\t\\t\\t\\t\\t\\t\\t\\t\\t\\t<ul>\\r\\n\\t\\t\\t\\t\\t\\t\\t\\t\\t\\t\\t\\t<li><a href=\"/weather/forecast/forecaetevalue_01.jsp\">\\xbf\\xac\\xb5\\xb5\\xba\\xb0</a></li>\\r\\n\\t\\t\\t\\t\\t\\t\\t\\t\\t\\t\\t\\t<li><a href=\"/weather/forecast/forecaetevalue_02.jsp\">\\xbf\\xf9\\xba\\xb0</a></li>\\r\\n\\t\\t\\t\\t\\t\\t\\t\\t\\t\\t\\t</ul>\\r\\n\\t\\t\\t\\t\\t\\t\\t\\t\\t\\t</li>\\r\\n\\t\\t\\t\\t\\t\\t\\t\\t\\t</ul>\\r\\n\\t\\t\\t\\t\\t\\t\\t\\t</li>\\r\\n\\t\\t\\t\\t\\t\\t\\t\\t<li class=\"bottom\">\\r\\n\\t\\t\\t\\t\\t\\t\\t\\t\\t<ul class=\"clearfix\">\\r\\n\\t\\t\\t\\t\\t\\t\\t\\t\\t\\t<li><a href=\"http://amo.kma.go.kr/new/html/weather/weather01_04.jsp\" target=\"_blank\" title=\"\\xbb\\xf5\\xc3\\xa2 \\xbf\\xad\\xb8\\xb2\">\\xb0\\xf8\\xc7\\xd7\\xb0\\xe6\\xba\\xb8<br />(\\xc7\\xd7\\xb0\\xf8\\xb1\\xe2\\xbb\\xf3\\xc3\\xbb)</a></li>\\t\\t\\t\\t\\t\\t\\r\\n\\t\\t\\t\\t\\t\\t\\t\\t\\t\\t<li><a href=\"http://amo.kma.go.kr/new/html/weather/weather01_03.jsp\" target=\"_blank\" title=\"\\xbb\\xf5\\xc3\\xa2 \\xbf\\xad\\xb8\\xb2\">\\xb0\\xf8\\xc7\\xd7\\xbf\\xb9\\xba\\xb8<br />(\\xc7\\xd7\\xb0\\xf8\\xb1\\xe2\\xbb\\xf3\\xc3\\xbb)</a></li>\\r\\n\\t\\t\\t\\t\\t\\t\\t\\t\\t\\t<li><a href=\"https://www.airkorea.or.kr\" target=\"_blank\" title=\"\\xbb\\xf5\\xc3\\xa2 \\xbf\\xad\\xb8\\xb2\">\\xb9\\xcc\\xbc\\xbc\\xb8\\xd5\\xc1\\xf6\\xbf\\xb9\\xba\\xb8<br />(Air Korea)</a></li>\\r\\n\\t\\t\\t\\t\\t\\t\\t\\t\\t\\t<li></li>\\r\\n\\t\\t\\t\\t\\t\\t\\t\\t\\t\\t<li></li>\\r\\n\\t\\t\\t\\t\\t\\t\\t\\t\\t</ul>\\r\\n\\t\\t\\t\\t\\t\\t\\t\\t</li>\\r\\n\\t\\t\\t\\t\\t\\t\\t</ul>\\r\\n\\t\\t\\t\\t\\t\\t</li>\\r\\n\\t\\t\\t\\t\\t\\t<li class=\"div-9\" id=\"top-menu2\"><a href=\"/weather/images/rader.jsp\" id=\"top-menu-head2\">\\xb3\\xaf\\xbe\\xbe\\xbf\\xb5\\xbb\\xf3</a>\\r\\n\\t\\t\\t\\t\\t\\t\\t<ul id=\"top-sub-menu2\" style=\"display:none; left: -105px;\">\\r\\n\\t\\t\\t\\t\\t\\t\\t\\t<li id=\"top-2-1\"><a href=\"/weather/images/rader.jsp\">\\xb7\\xb9\\xc0\\xcc\\xb4\\xf5</a>\\r\\n\\t\\t\\t\\t\\t\\t\\t\\t\\t<ul>\\r\\n\\t\\t\\t\\t\\t\\t\\t\\t\\t\\t<li><a href=\"/weather/images/rader.jsp\">\\xc7\\xd5\\xbc\\xba\\xbf\\xb5\\xbb\\xf3</a></li>\\r\\n\\t\\t\\t\\t\\t\\t\\t\\t\\t\\t<li><a href=\"/weather/images/rader_02.jsp\">\\xb4\\xab\\xba\\xf1\\xbf\\xb5\\xbf\\xaa</a></li>\\r\\n\\t\\t\\t\\t\\t\\t\\t\\t\\t\\t<li><a href=\"/weather/images/rader_04.jsp\">\\xbf\\xec\\xb9\\xda</a></li>\\r\\n\\t\\t\\t\\t\\t\\t\\t\\t\\t\\t<li><a href=\"/weather/images/rader_03.jsp\">\\xb4\\xa9\\xc0\\xfb\\xb0\\xad\\xbc\\xf6</a></li>\\r\\n\\t\\t\\t\\t\\t\\t\\t\\t\\t\\t<li><a href=\"/weather/images/rader_individual.jsp\">\\xc1\\xf6\\xc1\\xa1\\xba\\xb0 \\xbf\\xb5\\xbb\\xf3</a></li>\\r\\n\\t\\t\\t\\t\\t\\t\\t\\t\\t\\t\\r\\n\\t\\t\\t\\t\\t\\t\\t\\t\\t</ul>\\r\\n\\t\\t\\t\\t\\t\\t\\t\\t</li>\\r\\n\\t\\t\\t\\t\\t\\t\\t\\t<li id=\"top-2-2\"><a href=\"/weather/images/satellite_service.jsp\">\\xc0\\xa7\\xbc\\xba</a>\\r\\n\\t\\t\\t\\t\\t\\t\\t\\t\\t<ul class=\"clearfix\">\\r\\n\\t\\t\\t\\t\\t\\t\\t\\t\\t\\t<li><a href=\"/weather/images/satellite_service.jsp\">\\xb1\\xe2\\xba\\xbb\\xbf\\xb5\\xbb\\xf3</a></li>\\r\\n\\t\\t\\t\\t\\t\\t\\t\\t\\t\\t<li><a href=\"/weather/images/satellite_case.jsp\">\\xbb\\xe7\\xb7\\xca\\xbf\\xb5\\xbb\\xf3</a></li>\\r\\n\\t\\t\\t\\t\\t\\t\\t\\t\\t</ul>\\r\\n\\t\\t\\t\\t\\t\\t\\t\\t</li>\\r\\n\\t\\t\\t\\t\\t\\t\\t\\t<li id=\"top-2-3\"><a href=\"/weather/images/lightning.jsp\">\\xb3\\xab\\xb7\\xda</a></li>\\r\\n\\t\\t\\t\\t\\t\\t\\t\\t<li id=\"top-2-4\"><a href=\"/weather/images/rader_sat_lgt.jsp\">\\xc1\\xbe\\xc7\\xd5\\xbf\\xb5\\xbb\\xf3<br />(\\xb7\\xb9\\xc0\\xcc\\xb4\\xf5/\\xc0\\xa7\\xbc\\xba/\\xb3\\xab\\xb7\\xda)</a>\\r\\n\\t\\t\\t\\t\\t\\t\\t\\t\\t<ul class=\"ul01 clearfix\">\\r\\n\\t\\t\\t\\t\\t\\t\\t\\t\\t\\t<li id=\"top-2-5\" class=\"mgr0\"><a href=\"/weather/images/rader_qpf.jsp\">\\xc3\\xca\\xb4\\xdc\\xb1\\xe2 \\xb0\\xad\\xbc\\xf6\\xbf\\xb9\\xc3\\xf8</a></li>\\r\\n\\t\\t\\t\\t\\t\\t\\t\\t\\t</ul>\\r\\n\\t\\t\\t\\t\\t\\t\\t\\t</li>\\r\\n\\t\\t\\t\\t\\t\\t\\t\\t<li id=\"top-2-6\"><a href=\"/weather/images/analysischart.jsp\">\\xc0\\xcf\\xb1\\xe2\\xb5\\xb5</a>\\r\\n\\t\\t\\t\\t\\t\\t\\t\\t\\t<ul>\\r\\n\\t\\t\\t\\t\\t\\t\\t\\t\\t\\t<li><a href=\"/weather/images/analysischart.jsp\">\\xba\\xd0\\xbc\\xae\\xc0\\xcf\\xb1\\xe2\\xb5\\xb5</a></li>\\r\\n\\t\\t\\t\\t\\t\\t\\t\\t\\t\\t<li><a href=\"/weather/images/forecastchart.jsp\">\\xc0\\xb0\\xbb\\xf3\\xbf\\xb9\\xbb\\xf3\\xc0\\xcf\\xb1\\xe2\\xb5\\xb5</a></li>\\r\\n\\t\\t\\t\\t\\t\\t\\t\\t\\t\\t<li><a href=\"/weather/images/wavemodel_r3.jsp\">\\xc7\\xd8\\xbb\\xf3\\xbf\\xb9\\xbb\\xf3\\xc0\\xcf\\xb1\\xe2\\xb5\\xb5</a></li>\\r\\n\\t\\t\\t\\t\\t\\t\\t\\t\\t\\t<li><a href=\"/weather/images/expertchart.jsp\">\\xc0\\xfc\\xb9\\xae\\xb0\\xa1\\xbf\\xeb\\xc0\\xcf\\xb1\\xe2\\xb5\\xb5</a></li>\\r\\n\\t\\t\\t\\t\\t\\t\\t\\t\\t</ul>\\r\\n\\t\\t\\t\\t\\t\\t\\t\\t</li>\\r\\n\\t\\t\\t\\t\\t\\t\\t\\t<li id=\"top-2-7\"><a href=\"/weather/home/earth/index.jsp\" target=\"_blank\">\\xba\\xf1\\xc1\\xd6\\xbe\\xf3\\xb8\\xca</a></li>\\r\\n\\t\\t\\t\\t\\t\\t\\t\\t<li class=\"bottom\">\\r\\n\\t\\t\\t\\t\\t\\t\\t\\t\\t<ul class=\"clearfix\">\\r\\n\\t\\t\\t\\t\\t\\t\\t\\t\\t\\t<li><a href=\"http://nmsc.kma.go.kr\" target=\"_blank\" title=\"\\xbb\\xf5\\xc3\\xa2 \\xbf\\xad\\xb8\\xb2\">\\xb1\\xb9\\xb0\\xa1\\xb1\\xe2\\xbb\\xf3\\xc0\\xa7\\xbc\\xba\\xbc\\xbe\\xc5\\xcd<br>&nbsp;</a></li>\\r\\n\\t\\t\\t\\t\\t\\t\\t\\t\\t\\t<li><a href=\"http://radar.kma.go.kr\" target=\"_blank\" title=\"\\xbb\\xf5\\xc3\\xa2 \\xbf\\xad\\xb8\\xb2\">\\xb1\\xe2\\xbb\\xf3\\xb7\\xb9\\xc0\\xcc\\xb4\\xf5\\xbc\\xbe\\xc5\\xcd<br>&nbsp;</a></li>\\r\\n\\t\\t\\t\\t\\t\\t\\t\\t\\t\\t<li></li>\\r\\n\\t\\t\\t\\t\\t\\t\\t\\t\\t\\t<li></li>\\r\\n\\t\\t\\t\\t\\t\\t\\t\\t\\t\\t<li></li>\\r\\n\\t\\t\\t\\t\\t\\t\\t\\t\\t</ul>\\r\\n\\t\\t\\t\\t\\t\\t\\t\\t</li>\\r\\n\\t\\t\\t\\t\\t\\t\\t</ul>\\r\\n\\t\\t\\t\\t\\t\\t</li>\\r\\n\\t\\t\\t\\t\\t\\t<li class=\"div-9\" id=\"top-menu3\"><a href=\"/mini/marine/marine_integrate.jsp\" id=\"top-menu-head3\">\\xb9\\xd9\\xb4\\xd9\\xb3\\xaf\\xbe\\xbe</a>\\r\\n\\t\\t\\t\\t\\t\\t\\t<ul id=\"top-sub-menu3\" style=\"display:none; left: -211px;\">\\r\\n\\t\\t\\t\\t\\t\\t\\t\\t<li id=\"top-3-1\"><a href=\"/mini/marine/marine_integrate.jsp\">\\xc7\\xf6\\xc0\\xe7\\xb9\\xd9\\xb4\\xd9\\xb3\\xaf\\xbe\\xbe</a>\\r\\n\\t\\t\\t\\t\\t\\t\\t\\t\\t<ul>\\r\\n\\t\\t\\t\\t\\t\\t\\t\\t\\t\\t<li><a href=\"/mini/marine/marine_integrate.jsp\">\\xc7\\xd8\\xbe\\xe7\\xb1\\xe2\\xbb\\xf3\\xba\\xce\\xc0\\xcc</a></li>\\r\\n\\t\\t\\t\\t\\t\\t\\t\\t\\t\\t<li><a href=\"/mini/marine/marine_beacon.jsp\">\\xb1\\xb9\\xb3\\xbb\\xb5\\xee\\xc7\\xa5</a></li>\\r\\n\\t\\t\\t\\t\\t\\t\\t\\t\\t\\t<li><a href=\"/mini/marine/marine_buoy_cosmos.jsp\">\\xc6\\xc4\\xb0\\xed\\xba\\xce\\xc0\\xcc</a></li>\\r\\n\\t\\t\\t\\t\\t\\t\\t\\t\\t\\t<li><a href=\"/mini/marine/marine_asia.jsp\">\\xbe\\xc6\\xbd\\xc3\\xbe\\xc6\\xbf\\xac\\xbe\\xc8\\xb0\\xfc\\xc3\\xf8\\xbd\\xc7\\xc8\\xb2</a></li>\\r\\n\\t\\t\\t\\t\\t\\t\\t\\t\\t\\t<li><a href=\"/mini/marine/marine_onshorewind.jsp\">\\xc0\\xa7\\xbc\\xba\\xbf\\xb5\\xbb\\xf3</a></li>\\r\\n\\t\\t\\t\\t\\t\\t\\t\\t\\t</ul>\\r\\n\\t\\t\\t\\t\\t\\t\\t\\t</li>\\r\\n\\t\\t\\t\\t\\t\\t\\t\\t<li id=\"top-3-2\"><a href=\"/mini/marine/marine_daily.jsp\">\\xc7\\xd8\\xbb\\xf3\\xbf\\xb9\\xba\\xb8</a>\\r\\n\\t\\t\\t\\t\\t\\t\\t\\t\\t<ul>\\r\\n\\t\\t\\t\\t\\t\\t\\t\\t\\t\\t<li><a href=\"/mini/marine/marine_daily.jsp\">\\xc0\\xcf\\xc0\\xcf\\xbf\\xb9\\xba\\xb8</a></li>\\r\\n\\t\\t\\t\\t\\t\\t\\t\\t\\t\\t<li><a href=\"/mini/marine/marine_mid-term.jsp\">\\xc1\\xdf\\xb1\\xe2\\xbf\\xb9\\xba\\xb8(10\\xc0\\xcf\\xbf\\xb9\\xba\\xb8)</a></li>\\r\\n\\t\\t\\t\\t\\t\\t\\t\\t\\t\\t<li><a href=\"/mini/marine/marine_zone_rwwsst.jsp\">\\xc7\\xd8\\xb1\\xb8\\xba\\xb0 \\xbf\\xb9\\xc3\\xf8\\xc1\\xa4\\xba\\xb8</a></li>\\r\\n\\t\\t\\t\\t\\t\\t\\t\\t\\t</ul>\\r\\n\\t\\t\\t\\t\\t\\t\\t\\t</li>\\r\\n\\t\\t\\t\\t\\t\\t\\t\\t<li id=\"top-3-3\"><a href=\"/mini/marine/wavemodel_r3.jsp\">\\xc7\\xd8\\xbb\\xf3\\xbc\\xf6\\xc4\\xa1\\xbf\\xb9\\xc3\\xf8\\xc0\\xcf\\xb1\\xe2\\xb5\\xb5</a>\\r\\n\\t\\t\\t\\t\\t\\t\\t\\t\\t<ul>\\r\\n\\t\\t\\t\\t\\t\\t\\t\\t\\t\\t<li><a href=\"/mini/marine/wavemodel_r3.jsp\">\\xc6\\xc4\\xb6\\xfb</a></li>\\r\\n\\t\\t\\t\\t\\t\\t\\t\\t\\t\\t<li><a href=\"/mini/marine/stormsurge.jsp\">\\xc6\\xf8\\xc7\\xb3\\xc7\\xd8\\xc0\\xcf</a></li>\\r\\n\\t\\t\\t\\t\\t\\t\\t\\t\\t\\t<li><a href=\"/mini/marine/roms_crnt.jsp\">\\xc7\\xd8\\xbe\\xe7\\xbc\\xf8\\xc8\\xaf</a></li>\\r\\n\\t\\t\\t\\t\\t\\t\\t\\t\\t\\t<li><a href=\"/mini/marine/marine_index_icing.jsp\">\\xc7\\xd8\\xbe\\xe7\\xc1\\xf6\\xbc\\xf6</a></li>\\r\\n\\t\\t\\t\\t\\t\\t\\t\\t\\t\\t<li><a href=\"/mini/marine/marine_route.jsp\">\\xc7\\xd7\\xb7\\xce</a></li>\\r\\n\\t\\t\\t\\t\\t\\t\\t\\t\\t</ul>\\r\\n\\t\\t\\t\\t\\t\\t\\t\\t</li>\\r\\n\\t\\t\\t\\t\\t\\t\\t\\t<li id=\"top-3-4\"><a href=\"/mini/marine/marine_fax04.jsp\">\\xc7\\xd8\\xbe\\xe7\\xb1\\xe2\\xbb\\xf3\\xb9\\xe6\\xbc\\xdb<br />(\\xc0\\xcf\\xb1\\xe2\\xb5\\xb5 FAX\\xb9\\xe6\\xbc\\xdb)</a>\\r\\n\\t\\t\\t\\t\\t\\t\\t\\t\\t<ul>\\r\\n\\t\\t\\t\\t\\t\\t\\t\\t\\t\\t<li><a href=\"/mini/marine/marine_fax04.jsp\">\\xb0\\xb3\\xbf\\xe4</a></li>\\r\\n\\t\\t\\t\\t\\t\\t\\t\\t\\t\\t<li><a href=\"/mini/marine/marine_fax02.jsp\">\\xb9\\xe6\\xbc\\xdb\\xb3\\xbb\\xbf\\xeb \\xb9\\xd7 \\xc1\\xa6\\xbf\\xf8</a></li>\\r\\n\\t\\t\\t\\t\\t\\t\\t\\t\\t\\t<li><a href=\"/mini/marine/marine_fax03.jsp\">\\xb9\\xe6\\xbc\\xdb\\xbd\\xc3\\xb0\\xa3\\xc7\\xa5</a></li>\\r\\n\\t\\t\\t\\t\\t\\t\\t\\t\\t\\t<li><a href=\"/mini/marine/marine_fax01.jsp\">\\xbc\\xbc\\xb0\\xe8\\xc1\\xd6\\xbf\\xe4\\xc1\\xf6\\xbf\\xaa \\xb1\\xe2\\xbb\\xf3\\xb9\\xe6\\xbc\\xdb\\xbc\\xbe\\xc5\\xcd</a></li>\\r\\n\\t\\t\\t\\t\\t\\t\\t\\t\\t</ul>\\r\\n\\t\\t\\t\\t\\t\\t\\t\\t</li>\\r\\n\\t\\t\\t\\t\\t\\t\\t\\t<li id=\"top-3-5\"><a href=\"/mini/marine/marine_summary.jsp\">\\xbf\\xf9\\xba\\xb0 \\xc7\\xd8\\xbe\\xe7\\xb1\\xe2\\xbb\\xf3\\xb5\\xb5</a>\\r\\n\\t\\t\\t\\t\\t\\t\\t\\t\\t<ul>\\r\\n\\t\\t\\t\\t\\t\\t\\t\\t\\t\\t<li><a href=\"/mini/marine/marine_summary.jsp\">\\xb0\\xb3\\xbf\\xe4</a></li>\\r\\n\\t\\t\\t\\t\\t\\t\\t\\t\\t\\t<li><a href=\"/mini/marine/marine_eastasia.jsp\">\\xb5\\xbf\\xbe\\xc6\\xbd\\xc3\\xbe\\xc6</a></li>\\r\\n\\t\\t\\t\\t\\t\\t\\t\\t\\t\\t<li><a href=\"/mini/marine/marine_northpacific.jsp\">\\xc5\\xc2\\xc6\\xf2\\xbe\\xe7</a></li>\\r\\n\\t\\t\\t\\t\\t\\t\\t\\t\\t</ul>\\r\\n\\t\\t\\t\\t\\t\\t\\t\\t</li>\\r\\n\\t\\t\\t\\t\\t\\t\\t\\t<li id=\"top-3-6\"><a href=\"/mini/marine/marine_vos01.jsp\">\\xb0\\xfc\\xc3\\xf8\\xc1\\xf6\\xbf\\xf8\\xbc\\xb1\\xb9\\xda(VOS)\\xc1\\xa6\\xb5\\xb5</a>\\r\\n\\t\\t\\t\\t\\t\\t\\t\\t\\t<ul>\\r\\n\\t\\t\\t\\t\\t\\t\\t\\t\\t\\t<li><a href=\"/mini/marine/marine_vos01.jsp\">\\xbc\\xd2\\xb0\\xb3</a></li>\\r\\n\\t\\t\\t\\t\\t\\t\\t\\t\\t\\t<li><a href=\"/mini/marine/marine_shipobserv.jsp\">\\xbc\\xb1\\xb9\\xda\\xb0\\xfc\\xc3\\xf8\\xc0\\xda\\xb7\\xe1</a></li>\\r\\n\\t\\t\\t\\t\\t\\t\\t\\t\\t\\t<li><a href=\"/mini/marine/marine_vos02.jsp\">\\xbc\\xb1\\xb9\\xda\\xb0\\xfc\\xc3\\xf8 \\xc0\\xfc\\xb9\\xae\\xc7\\xd8\\xbc\\xb3</a></li>\\r\\n\\t\\t\\t\\t\\t\\t\\t\\t\\t\\t<li><a href=\"/mini/marine/marine_vos03.jsp\">\\xc7\\xd7\\xb8\\xb8\\xb1\\xe2\\xbb\\xf3\\xb0\\xfc \\xc7\\xf6\\xc8\\xb2</a></li>\\r\\n\\t\\t\\t\\t\\t\\t\\t\\t\\t\\t<li><a href=\"/mini/marine/marine_vos04.jsp\">\\xb0\\xfc\\xc3\\xf8\\xc1\\xf6\\xbf\\xf8\\xbc\\xb1\\xb9\\xda \\xb8\\xf1\\xb7\\xcf</a></li>\\r\\n\\t\\t\\t\\t\\t\\t\\t\\t\\t</ul>\\r\\n\\t\\t\\t\\t\\t\\t\\t\\t</li>\\r\\n\\t\\t\\t\\t\\t   \\r\\n\\t\\t\\t\\t\\t\\t\\t\\t<li class=\"bottom\">\\r\\n\\t\\t\\t\\t\\t\\t\\t\\t\\t<ul class=\"clearfix\">\\r\\n\\t\\t\\t\\t\\t\\t\\t\\t\\t\\t<li><a href=\"http://marine.kma.go.kr\" target=\"_blank\" title=\"\\xbb\\xf5\\xc3\\xa2 \\xbf\\xad\\xb8\\xb2\">\\xc7\\xd8\\xbe\\xe7\\xb1\\xe2\\xbb\\xf3\\xc1\\xa4\\xba\\xb8\\xc6\\xf7\\xc5\\xd0<br>Sea for you</a></li>\\r\\n\\t\\t\\t\\t\\t\\t\\t\\t\\t\\t<li><a href=\"http://www.kma.go.kr/communication/webzine/marine.jsp\" target=\"_blank\" title=\"\\xbb\\xf5\\xc3\\xa2 \\xbf\\xad\\xb8\\xb2\">\\xbf\\xac\\xb1\\xd9\\xc7\\xd8\\xbc\\xb1\\xb9\\xda\\xb1\\xe2\\xbb\\xf3\\xc1\\xa4\\xba\\xb8<br />(\\xbf\\xf9\\xb0\\xa3)</a></li>\\r\\n\\t\\t\\t\\t\\t\\t\\t\\t\\t\\t<li><a href=\"http://www.nifs.go.kr/risa/main.risa\" target=\"_blank\" title=\"\\xbb\\xf5\\xc3\\xa2 \\xbf\\xad\\xb8\\xb2\">\\xbf\\xac\\xb1\\xd9\\xc7\\xd8\\xbc\\xf6\\xbf\\xc2\\xc1\\xa4\\xba\\xb8<br />(\\xb1\\xb9\\xb8\\xb3\\xbc\\xf6\\xbb\\xea\\xb0\\xfa\\xc7\\xd0\\xbf\\xf8)</a></li>\\r\\n\\t\\t\\t\\t\\t\\t\\t\\t\\t\\t<li><a href=\"http://www.khoa.go.kr/kcom/cnt/selectContentsPage.do?cntId=31304010\" target=\"_blank\" title=\"\\xbb\\xf5\\xc3\\xa2 \\xbf\\xad\\xb8\\xb2\">\\xc7\\xd7\\xc7\\xd8\\xbe\\xc8\\xc0\\xfc\\xc1\\xa4\\xba\\xb8<br />(\\xb1\\xb9\\xb8\\xb3\\xc7\\xd8\\xbe\\xe7\\xc1\\xb6\\xbb\\xe7\\xbf\\xf8)</a></li>\\r\\n\\t\\t\\t\\t\\t\\t\\t\\t\\t\\t<li><a href=\"http://www.khoa.go.kr/swtc/main.do\" target=\"_blank\" title=\"\\xbb\\xf5\\xc3\\xa2 \\xbf\\xad\\xb8\\xb2\">\\xb9\\xb0\\xb6\\xa7\\xc1\\xa4\\xba\\xb8<br />(\\xb1\\xb9\\xb8\\xb3\\xc7\\xd8\\xbe\\xe7\\xc1\\xb6\\xbb\\xe7\\xbf\\xf8)</a></li>\\r\\n\\t\\t\\t\\t\\t\\t\\t\\t\\t\\t<li></li>\\r\\n\\t\\t\\t\\t\\t\\t\\t\\t\\t</ul>\\r\\n\\t\\t\\t\\t\\t\\t\\t\\t</li>\\r\\n\\t\\t\\t\\t\\t\\t\\t</ul>\\r\\n\\t\\t\\t\\t\\t\\t</li>\\r\\n\\t\\t\\t\\t\\t\\t<li class=\"div-9\" id=\"top-menu4\"><a href=\"/weather/typoon/report.jsp\" id=\"top-menu-head4\">\\xc5\\xc2\\xc7\\xb3</a>\\r\\n\\t\\t\\t\\t\\t\\t\\t<ul id=\"top-sub-menu4\" style=\"display:none; left: -316px;\">\\r\\n\\t\\t\\t\\t\\t\\t\\t\\t<li id=\"top-4-1\"><a href=\"/weather/typoon/report.jsp\">\\xc5\\xc2\\xc7\\xb3\\xc1\\xa4\\xba\\xb8</a>\\r\\n\\t\\t\\t\\t\\t\\t\\t\\t\\t<ul>\\r\\n\\t\\t\\t\\t\\t\\t\\t\\t\\t\\t<li><a href=\"/weather/typoon/report.jsp\">\\xc5\\xeb\\xba\\xb8\\xb9\\xae</a></li>\\r\\n\\t\\t\\t\\t\\t\\t\\t\\t\\t\\t<li><a href=\"/weather/typoon/detail.jsp\">\\xbb\\xf3\\xbc\\xbc\\xc1\\xa4\\xba\\xb8</a></li>\\r\\n\\t\\t\\t\\t\\t\\t\\t\\t\\t\\t<li><a href=\"/weather/typoon/prediction.jsp\">\\xb8\\xf0\\xb5\\xa8\\xbf\\xb9\\xc3\\xf8</a></li>\\r\\n\\t\\t\\t\\t\\t\\t\\t\\t\\t</ul>\\r\\n\\t\\t\\t\\t\\t\\t\\t\\t</li>\\r\\n\\t\\t\\t\\t\\t\\t\\t\\t<li id=\"top-4-2\"><a href=\"/weather/typoon/typhoon_06_02.jsp\">\\xc2\\xfc\\xb0\\xed\\xc1\\xa4\\xba\\xb8</a>\\r\\n\\t\\t\\t\\t\\t\\t\\t\\t\\t<ul>\\r\\n\\t\\t\\t\\t\\t\\t\\t\\t\\t\\t<li><a href=\"/weather/typoon/typhoon_06_02.jsp\">\\xb9\\xdf\\xbb\\xfd \\xb0\\xa8\\xbd\\xc3</a></li>\\r\\n\\t\\t\\t\\t\\t\\t\\t\\t\\t\\t<li><a href=\"/weather/typoon/statistic.jsp\">\\xb9\\xdf\\xbb\\xfd \\xc5\\xeb\\xb0\\xe8</a></li>\\r\\n\\t\\t\\t\\t\\t\\t\\t\\t\\t\\t<li><a href=\"/weather/typoon/typhoon_06_01.jsp\">\\xc5\\xc2\\xc7\\xb3 \\xc3\\xa3\\xbe\\xc6\\xba\\xb8\\xb1\\xe2</a></li>\\r\\n\\t\\t\\t\\t\\t\\t\\t\\t\\t\\t<li><a href=\"/weather/typoon/knowledge_01.jsp\">\\xb1\\xe2\\xba\\xbb \\xc1\\xf6\\xbd\\xc4</a></li>\\r\\n\\t\\t\\t\\t\\t\\t\\t\\t\\t</ul>\\r\\n\\t\\t\\t\\t\\t\\t\\t\\t</li>\\r\\n\\t\\t\\t\\t\\t\\t\\t\\t<li class=\"bottom\">\\r\\n\\t\\t\\t\\t\\t\\t\\t\\t\\t<ul class=\"clearfix\">\\r\\n\\t\\t\\t\\t\\t\\t\\t\\t\\t\\t<!--<li><a href=\"http://typ.kma.go.kr\" target=\"_blank\" title=\"\\xbb\\xf5\\xc3\\xa2 \\xbf\\xad\\xb8\\xb2\">\\xb1\\xb9\\xb0\\xa1\\xc5\\xc2\\xc7\\xb3\\xbc\\xbe\\xc5\\xcd<br />&nbsp;</a></li>-->\\r\\n\\t\\t\\t\\t\\t\\t\\t\\t\\t\\t<li><a href=\"http://www.safekorea.go.kr\" target=\"_blank\" title=\"\\xbb\\xf5\\xc3\\xa2 \\xbf\\xad\\xb8\\xb2\">\\xb1\\xb9\\xb9\\xce\\xc0\\xe7\\xb3\\xad\\xbe\\xc8\\xc0\\xfc\\xc6\\xf7\\xc5\\xbb<br />(\\xc7\\xe0\\xc1\\xa4\\xbe\\xc8\\xc0\\xfc\\xba\\xce)</a></li>\\r\\n\\t\\t\\t\\t\\t\\t\\t\\t\\t\\t<li></li>\\r\\n\\t\\t\\t\\t\\t\\t\\t\\t\\t\\t<li></li>\\r\\n\\t\\t\\t\\t\\t\\t\\t\\t\\t\\t<li></li>\\r\\n\\t\\t\\t\\t\\t\\t\\t\\t\\t</ul>\\r\\n\\t\\t\\t\\t\\t\\t\\t\\t</li>\\r\\n\\t\\t\\t\\t\\t\\t\\t</ul>\\r\\n\\t\\t\\t\\t\\t\\t</li>\\r\\n\\t\\t\\t\\t\\t\\t<li class=\"div-9\" id=\"top-menu5\"><a href=\"/weather/asiandust/density.jsp\" id=\"top-menu-head5\">\\xc8\\xb2\\xbb\\xe7</a>\\r\\n\\t\\t\\t\\t\\t\\t\\t<ul id=\"top-sub-menu5\" style=\"display:none; left: -422px;\">\\r\\n\\t\\t\\t\\t\\t\\t\\t\\t<li id=\"top-5-1\"><a href=\"/weather/asiandust/density.jsp\">\\xc8\\xb2\\xbb\\xe7/\\xba\\xce\\xc0\\xaf\\xba\\xd0\\xc1\\xf8<br />\\xb0\\xfc\\xc3\\xf8\\xb0\\xaa</a></li>\\r\\n\\t\\t\\t\\t\\t\\t\\t\\t<li id=\"top-5-2\"><a href=\"/weather/asiandust/graph.jsp\">\\xc8\\xb2\\xbb\\xe7/\\xba\\xce\\xc0\\xaf\\xba\\xd0\\xc1\\xf8<br/>\\xb0\\xfc\\xc3\\xf8 \\xb1\\xd7\\xb7\\xa1\\xc7\\xc1</a></li>\\r\\n\\t\\t\\t\\t\\t\\t\\t\\t<li id=\"top-5-3\"><a href=\"/weather/asiandust/prediction.jsp\">\\xb8\\xf0\\xb5\\xa8\\xbf\\xb9\\xc3\\xf8</a></li>\\r\\n\\t\\t\\t\\t\\t\\t\\t\\t<li id=\"top-5-4\"><a href=\"/weather/asiandust/chart.jsp\">\\xc1\\xf6\\xbb\\xf3\\xc0\\xcf\\xb1\\xe2\\xb5\\xb5</a></li>\\r\\n\\t\\t\\t\\t\\t\\t\\t\\t<li id=\"top-5-6\"><a href=\"/weather/asiandust/observday.jsp\">\\xc8\\xb2\\xbb\\xe7\\xb0\\xfc\\xc3\\xf8\\xc0\\xcf\\xbc\\xf6</a></li>\\r\\n\\t\\t\\t\\t\\t\\t\\t\\t<li class=\"bottom\">\\r\\n\\t\\t\\t\\t\\t\\t\\t\\t\\t<ul class=\"clearfix\">\\r\\n\\t\\t\\t\\t\\t\\t\\t\\t\\t\\t<li><a href=\"http://www.kma.go.kr/aboutkma/biz/asiandust01.jsp\" target=\"_blank\" title=\"\\xbb\\xf5\\xc3\\xa2 \\xbf\\xad\\xb8\\xb2\">\\xc8\\xb2\\xbb\\xe7\\xbe\\xf7\\xb9\\xab\\xbc\\xd2\\xb0\\xb3<br />(\\xc7\\xe0\\xc1\\xa4)</a></li>\\r\\n\\t\\t\\t\\t\\t\\t\\t\\t\\t\\t<li><a href=\"http://www.safekorea.go.kr\" target=\"_blank\" title=\"\\xbb\\xf5\\xc3\\xa2 \\xbf\\xad\\xb8\\xb2\">\\xb1\\xb9\\xb9\\xce\\xc0\\xe7\\xb3\\xad\\xbe\\xc8\\xc0\\xfc\\xc6\\xf7\\xc5\\xbb<br />(\\xc7\\xe0\\xc1\\xa4\\xbe\\xc8\\xc0\\xfc\\xba\\xce)</a></li>\\r\\n\\t\\t\\t\\t\\t\\t\\t\\t\\t\\t<li></li>\\r\\n\\t\\t\\t\\t\\t\\t\\t\\t\\t\\t<li></li>\\r\\n\\t\\t\\t\\t\\t\\t\\t\\t\\t\\t<li></li>\\r\\n\\t\\t\\t\\t\\t\\t\\t\\t\\t</ul>\\r\\n\\t\\t\\t\\t\\t\\t\\t\\t</li>\\r\\n\\t\\t\\t\\t\\t\\t\\t</ul>\\r\\n\\t\\t\\t\\t\\t\\t</li>\\r\\n\\t\\t\\t\\t\\t\\t<li class=\"div-9\" id=\"top-menu6\"><a href=\"/weather/earthquake_volcano/report.jsp\" id=\"top-menu-head6\">\\xc1\\xf6\\xc1\\xf8 \\xa1\\xa4 \\xc8\\xad\\xbb\\xea</a>\\r\\n\\t\\t\\t\\t\\t\\t\\t<ul id=\"top-sub-menu6\" style=\"display:none; left: -527px;\">\\r\\n\\t\\t\\t\\t\\t\\t\\t\\t<li id=\"top-6-1\"><a href=\"/weather/earthquake_volcano/report.jsp\">\\xb9\\xdf\\xc7\\xa5\\xc1\\xa4\\xba\\xb8</a></li>\\r\\n\\t\\t\\t\\t\\t\\t\\t\\t<li id=\"top-6-2\"><a href=\"/weather/earthquake_volcano/domesticlist.jsp\">\\xc1\\xf6\\xc1\\xf8</a>\\r\\n\\t\\t\\t\\t\\t\\t\\t\\t\\t<ul>\\r\\n\\t\\t\\t\\t\\t\\t\\t\\t\\t<li><a href=\"/weather/earthquake_volcano/domesticlist.jsp\">\\xb1\\xb9\\xb3\\xbb\\xc1\\xf6\\xc1\\xf8 \\xb8\\xf1\\xb7\\xcf</a></li>\\r\\n\\t\\t\\t\\t\\t\\t\\t\\t\\t<li><a href=\"/weather/earthquake_volcano/internationallist.jsp\">\\xb1\\xb9\\xbf\\xdc\\xc1\\xf6\\xc1\\xf8 \\xb8\\xf1\\xb7\\xcf</a></li>\\r\\n\\t\\t\\t\\t\\t\\t\\t\\t\\t<li><a href=\"/weather/earthquake_volcano/domestictrend.jsp\">\\xb1\\xb9\\xb3\\xbb\\xc1\\xf6\\xc1\\xf8 \\xb9\\xdf\\xbb\\xfd\\xc3\\xdf\\xc0\\xcc</a></li>\\r\\n\\t\\t\\t\\t\\t\\t\\t\\t\\t<li><a href=\"/weather/earthquake_volcano/scalelist.jsp\">\\xb1\\xb9\\xb3\\xbb\\xc1\\xf6\\xc1\\xf8 \\xb1\\xd4\\xb8\\xf0\\xba\\xb0\\xbc\\xf8\\xc0\\xa7</a></li>\\r\\n\\t\\t\\t\\t\\t\\t\\t\\t\\t<li><a href=\"/weather/earthquake_volcano/major_912.jsp\">\\xc1\\xd6\\xbf\\xe4 \\xc1\\xf6\\xc1\\xf8</a></li>\\r\\n\\t\\t\\t\\t\\t\\t\\t\\t\\t</ul>\\r\\n\\t\\t\\t\\t\\t\\t\\t\\t</li>\\r\\n\\t\\t\\t\\t\\t\\t\\t\\t<li id=\"top-6-3\"><a href=\"/weather/earthquake_volcano/tidalwave_02.jsp\">\\xc1\\xf6\\xc1\\xf8\\xc7\\xd8\\xc0\\xcf</a>\\r\\n\\t\\t\\t\\t\\t\\t\\t\\t\\t<ul class=\"clearfix\">\\r\\n\\t\\t\\t\\t\\t\\t\\t\\t\\t\\t<li><a href=\"/weather/earthquake_volcano/tidalwave_02.jsp\">\\xb0\\xfa\\xb0\\xc5 \\xc1\\xf6\\xc1\\xf8\\xc7\\xd8\\xc0\\xcf<br />\\xbb\\xe7\\xb7\\xca</a></li>\\r\\n\\t\\t\\t\\t\\t\\t\\t\\t\\t</ul>\\r\\n\\t\\t\\t\\t\\t\\t\\t\\t</li>\\r\\n\\t\\t\\t\\t\\t\\t\\t\\t<li id=\"top-6-4\"><a href=\"/weather/earthquake_volcano/volcano_01.jsp\">\\xc8\\xad\\xbb\\xea</a>\\r\\n\\t\\t\\t\\t\\t\\t\\t\\t\\t<ul>\\r\\n\\t\\t\\t\\t\\t\\t\\t\\t\\t\\t<li><a href=\"/weather/earthquake_volcano/volcano_02_1.jsp\">\\xb0\\xfa\\xb0\\xc5 \\xc8\\xad\\xbb\\xea \\xbb\\xe7\\xb7\\xca</a></li>\\r\\n\\t\\t\\t\\t\\t\\t\\t\\t\\t\\t<li><a href=\"/weather/earthquake_volcano/volcano_03.jsp\">\\xc8\\xad\\xbb\\xea\\xc0\\xe7\\xc7\\xd8 \\xc0\\xaf\\xc7\\xfc</a></li>\\r\\n\\t\\t\\t\\t\\t\\t\\t\\t\\t</ul>\\r\\n\\t\\t\\t\\t\\t\\t\\t\\t</li>\\r\\n\\t\\t\\t\\t\\t\\t\\t\\t<li id=\"top-6-6\"><a href=\"/weather/earthquake_volcano/evacuation_procedure.jsp\">\\xb1\\xb3\\xc0\\xb0\\xa1\\xa4\\xc8\\xab\\xba\\xb8</a>\\r\\n\\t\\t\\t\\t\\t\\t\\t\\t\\t<ul>\\r\\n\\t\\t\\t\\t\\t\\t\\t\\t\\t\\t<li><a href=\"/weather/earthquake_volcano/evacuation_procedure.jsp\">\\xc1\\xf6\\xc1\\xf8\\xa1\\xa4\\xc8\\xad\\xbb\\xea \\xb4\\xeb\\xc7\\xc7\\xbf\\xe4\\xb7\\xc9</a></li>\\r\\n\\t\\t\\t\\t\\t\\t\\t\\t\\t\\t<li><a href=\"/weather/earthquake_volcano/earthquakemovie.jsp\">\\xc1\\xf6\\xc1\\xf8\\xa1\\xa4\\xc8\\xad\\xbb\\xea \\xc8\\xab\\xba\\xb8\\xb9\\xb0</a></li>\\r\\n\\t\\t\\t\\t\\t\\t\\t\\t\\t\\t<li><a href=\"/weather/earthquake_volcano/faq.jsp\">FAQ</a></li>\\r\\n\\t\\t\\t\\t\\t\\t\\t\\t\\t</ul>\\r\\n\\t\\t\\t\\t\\t\\t\\t\\t</li>\\r\\n\\t\\t\\t\\t\\t\\t\\t\\t<li class=\"bottom\">\\r\\n\\t\\t\\t\\t\\t\\t\\t\\t\\t<ul class=\"clearfix\">\\r\\n\\t\\t\\t\\t\\t\\t\\t\\t\\t\\t<li><a href=\"http://www.kma.go.kr/communication/webzine/earthquakeyearly.jsp\" target=\"_blank\" title=\"\\xbb\\xf5\\xc3\\xa2 \\xbf\\xad\\xb8\\xb2\">\\xc1\\xf6\\xc1\\xf8\\xbf\\xac\\xba\\xb8<br />(\\xc7\\xe0\\xc1\\xa4)</a></li>\\r\\n\\t\\t\\t\\t\\t\\t\\t\\t\\t\\t<li><a href=\"http://www.kma.go.kr/aboutkma/biz/earthquake_volcano_01.jsp\" target=\"_blank\" title=\"\\xbb\\xf5\\xc3\\xa2 \\xbf\\xad\\xb8\\xb2\">\\xc1\\xf6\\xc1\\xf8\\xa1\\xa4\\xc8\\xad\\xbb\\xea \\xbe\\xf7\\xb9\\xab\\xbc\\xd2\\xb0\\xb3<br />(\\xc7\\xe0\\xc1\\xa4)</a></li>\\r\\n\\t\\t\\t\\t\\t\\t\\t\\t\\t\\t<li><a href=\"http://www.safekorea.go.kr\" target=\"_blank\" title=\"\\xbb\\xf5\\xc3\\xa2 \\xbf\\xad\\xb8\\xb2\">\\xb1\\xb9\\xb9\\xce\\xc0\\xe7\\xb3\\xad\\xbe\\xc8\\xc0\\xfc\\xc6\\xf7\\xc5\\xbb<br />(\\xc7\\xe0\\xc1\\xa4\\xbe\\xc8\\xc0\\xfc\\xba\\xce)</a></li>\\r\\n\\t\\t\\t\\t\\t\\t\\t\\t\\t\\t<li></li>\\r\\n\\t\\t\\t\\t\\t\\t\\t\\t\\t\\t<li></li>\\r\\n\\t\\t\\t\\t\\t\\t\\t\\t\\t</ul>\\r\\n\\t\\t\\t\\t\\t\\t\\t\\t</li>\\r\\n\\t\\t\\t\\t\\t\\t\\t</ul>\\r\\n\\t\\t\\t\\t\\t\\t</li>\\r\\n\\t\\t\\t\\t\\t\\t<li class=\"div-9\" id=\"top-menu7\"><a href=\"/weather/observation/currentweather.jsp\" id=\"top-menu-head7\">\\xb0\\xfc\\xc3\\xf8\\xc0\\xda\\xb7\\xe1</a>\\r\\n\\t\\t\\t\\t\\t\\t\\t<ul id=\"top-sub-menu7\" style=\"display:none; left: -633px;\">\\r\\n\\t\\t\\t\\t\\t\\t\\t\\t<li id=\"top-7-1\"><a href=\"/weather/observation/currentweather.jsp\">\\xc1\\xf6\\xbb\\xf3\\xb0\\xfc\\xc3\\xf8\\xc0\\xda\\xb7\\xe1</a>\\r\\n\\t\\t\\t\\t\\t\\t\\t\\t\\t<ul>\\r\\n\\t\\t\\t\\t\\t\\t\\t\\t\\t\\t<li><a href=\"/weather/observation/currentweather.jsp\">\\xb5\\xb5\\xbd\\xc3\\xba\\xb0 \\xc7\\xf6\\xc0\\xe7\\xb3\\xaf\\xbe\\xbe</a></li>\\r\\n\\t\\t\\t\\t\\t\\t\\t\\t\\t\\t<li><a href=\"/weather/observation/dashboard.jsp\">\\xb3\\xaf\\xbe\\xbe\\xbb\\xf3\\xc8\\xb2\\xc6\\xc7</a></li>\\r\\n\\t\\t\\t\\t\\t\\t\\t\\t\\t\\t<li><a href=\"/weather/climate/past_cal.jsp\">\\xb0\\xfa\\xb0\\xc5\\xc0\\xda\\xb7\\xe1</a></li>\\r\\n\\t\\t\\t\\t\\t\\t\\t\\t\\t</ul>\\r\\n\\t\\t\\t\\t\\t\\t\\t\\t</li>\\r\\n\\t\\t\\t\\t\\t\\t\\t\\t<li id=\"top-7-2\"><a href=\"http://web.kma.go.kr/weather/observation/flower_photo.jsp\">\\xb0\\xe8\\xc0\\xfd\\xb0\\xfc\\xc3\\xf8\\xc0\\xda\\xb7\\xe1</a>\\r\\n\\t\\t\\t\\t\\t\\t\\t\\t\\t<ul>\\r\\n\\t\\t\\t\\t\\t\\t\\t\\t\\t\\t<li><a href=\"http://web.kma.go.kr/weather/observation/flower_photo.jsp\">\\xba\\xbd\\xb2\\xc9\\xb0\\xb3\\xc8\\xad\\xc7\\xf6\\xc8\\xb2<br />(\\xba\\xa2\\xb2\\xc9,\\xc3\\xb6\\xc2\\xdf)</a></li>\\r\\n\\t\\t\\t\\t\\t\\t\\t\\t\\t\\t<!--<li><a href=\"http://web.kma.go.kr/weather/observation/maple_photo.jsp\">\\xc0\\xaf\\xb8\\xed\\xbb\\xea \\xb4\\xdc\\xc7\\xb3\\xc7\\xf6\\xc8\\xb2</a></li>-->\\r\\n\\t\\t\\t\\t\\t\\t\\t\\t\\t</ul>\\r\\n\\t\\t\\t\\t\\t\\t\\t\\t</li>\\r\\n\\t\\t\\t\\t\\t\\t\\t\\t<li id=\"top-7-3\"><a href=\"/weather/observation/marine_buoy.jsp\">\\xb9\\xd9\\xb4\\xd9\\xb0\\xfc\\xc3\\xf8\\xc0\\xda\\xb7\\xe1</a>\\r\\n\\t\\t\\t\\t\\t\\t\\t\\t\\t<ul>\\r\\n\\t\\t\\t\\t\\t\\t\\t\\t\\t\\t<li><a href=\"/weather/observation/marine_buoy.jsp\">\\xb1\\xb9\\xb3\\xbb\\xba\\xce\\xc0\\xcc</a></li>\\r\\n\\t\\t\\t\\t\\t\\t\\t\\t\\t\\t<li><a href=\"/weather/observation/marine_buoy_cosmos.jsp\">\\xc6\\xc4\\xb0\\xed\\xba\\xce\\xc0\\xcc</a></li>\\r\\n\\t\\t\\t\\t\\t\\t\\t\\t\\t\\t<li><a href=\"/weather/observation/marine_beacon.jsp\">\\xb1\\xb9\\xb3\\xbb\\xb5\\xee\\xc7\\xa5</a></li>\\r\\n\\t\\t\\t\\t\\t\\t\\t\\t\\t</ul>\\r\\n\\t\\t\\t\\t\\t\\t\\t\\t</li>\\r\\n\\t\\t\\t\\t\\t\\t\\t\\t<li class=\"bottom\">\\r\\n\\t\\t\\t\\t\\t\\t\\t\\t\\t<ul class=\"clearfix\">\\r\\n\\t\\t\\t\\t\\t\\t\\t\\t\\t\\t<li><a href=\"/weather/observation/aws_table_popup.jsp\" target=\"_blank\" title=\"\\xbb\\xf5\\xc3\\xa2\\xbf\\xad\\xb8\\xb2\">\\xc1\\xf6\\xbf\\xaa\\xba\\xb0 \\xbb\\xf3\\xbc\\xbc\\xb0\\xfc\\xc3\\xf8\\xc0\\xda\\xb7\\xe1<br />(AWS)</a></li>\\r\\n\\t\\t\\t\\t\\t\\t\\t\\t\\t\\t<li></li>\\r\\n\\t\\t\\t\\t\\t\\t\\t\\t\\t\\t<li></li>\\r\\n\\t\\t\\t\\t\\t\\t\\t\\t\\t\\t<li></li>\\r\\n\\t\\t\\t\\t\\t\\t\\t\\t\\t\\t<li></li>\\r\\n\\t\\t\\t\\t\\t\\t\\t\\t\\t</ul>\\r\\n\\t\\t\\t\\t\\t\\t\\t\\t</li>\\r\\n\\t\\t\\t\\t\\t\\t\\t</ul>\\r\\n\\t\\t\\t\\t\\t\\t</li>\\r\\n\\t\\t\\t\\t\\t\\t<li class=\"div-9 left-popup\" id=\"top-menu8\"><a href=\"/weather/climate/average_south.jsp\" id=\"top-menu-head8\">\\xb1\\xe2\\xc8\\xc4\\xc0\\xda\\xb7\\xe1</a>\\r\\n\\t\\t\\t\\t\\t\\t\\t<ul id=\"top-sub-menu8\" style=\"display:none; left: -738px;\">\\r\\n\\t\\t\\t\\t\\t\\t\\t\\t<li id=\"top-8-1\"><a href=\"/weather/climate/average_south.jsp\">\\xb1\\xb9\\xb3\\xbb\\xb1\\xe2\\xc8\\xc4\\xc0\\xda\\xb7\\xe1</a>\\r\\n\\t\\t\\t\\t\\t\\t\\t\\t\\t<ul>\\r\\n\\t\\t\\t\\t\\t\\t\\t\\t\\t\\t<li><a href=\"/weather/climate/average_south.jsp\">\\xbf\\xec\\xb8\\xae\\xb3\\xaa\\xb6\\xf3\\xb1\\xe2\\xc8\\xc4</a></li>\\r\\n\\t\\t\\t\\t\\t\\t\\t\\t\\t\\t<li><a href=\"/weather/climate/climate_link_guide.jsp\">\\xb1\\xe2\\xc8\\xc4\\xc0\\xda\\xb7\\xe1\\xc1\\xa6\\xb0\\xf8\\xbe\\xc8\\xb3\\xbb</a></li>\\r\\n\\t\\t\\t\\t\\t\\t\\t\\t\\t</ul>\\r\\n\\t\\t\\t\\t\\t\\t\\t\\t</li>\\r\\n\\t\\t\\t\\t\\t\\t\\t\\t<li id=\"top-8-3\">\\r\\n\\t\\t\\t\\t\\t\\t\\t\\t\\t<a href=\"/weather/climate/wind_solar_guide.jsp\">\\xc7\\xb3\\xb7\\xc2\\xa1\\xa4\\xc5\\xc2\\xbe\\xe7\\xb1\\xa4\\xb1\\xe2\\xbb\\xf3\\xc0\\xda\\xbf\\xf8\\xc1\\xf6\\xb5\\xb5 \\xbe\\xc8\\xb3\\xbb</a>\\r\\n\\t\\t\\t\\t\\t\\t\\t\\t</li>\\r\\n\\t\\t\\t\\t\\t\\t\\t\\t<li class=\"bottom\">\\r\\n\\t\\t\\t\\t\\t\\t\\t\\t\\t<ul class=\"clearfix\">\\r\\n\\t\\t\\t\\t\\t\\t\\t\\t\\t\\t<li><a href=\"http://www.climate.go.kr\" target=\"_blank\" title=\"\\xbb\\xf5\\xc3\\xa2\\xbf\\xad\\xb8\\xb2\">\\xb1\\xe2\\xc8\\xc4\\xc1\\xa4\\xba\\xb8\\xc6\\xf7\\xc5\\xd0<br />(\\xb1\\xe2\\xbb\\xf3\\xc3\\xbb)</a></li>\\r\\n\\t\\t\\t\\t\\t\\t\\t\\t\\t\\t<li><a href=\"https://data.kma.go.kr/\" target=\"_blank\" title=\"\\xbb\\xf5\\xc3\\xa2\\xbf\\xad\\xb8\\xb2\">\\xb1\\xe2\\xbb\\xf3\\xc0\\xda\\xb7\\xe1\\xb0\\xb3\\xb9\\xe6\\xc6\\xf7\\xc5\\xd0<br />(\\xb1\\xe2\\xbb\\xf3\\xc3\\xbb)</a></li>\\r\\n\\t\\t\\t\\t\\t\\t\\t\\t\\t\\t<li><a href=\"http://www.greenmap.go.kr/\" target=\"_blank\" title=\"\\xbb\\xf5\\xc3\\xa2\\xbf\\xad\\xb8\\xb2\">\\xb0\\xed\\xc7\\xd8\\xbb\\xf3\\xb5\\xb5\\xb1\\xe2\\xbb\\xf3\\xc0\\xda\\xbf\\xf8\\xc1\\xf6\\xb5\\xb5<br />(\\xb1\\xb9\\xb8\\xb3\\xb1\\xe2\\xbb\\xf3\\xb0\\xfa\\xc7\\xd0\\xbf\\xf8)</a></li>\\r\\n\\t\\t\\t\\t\\t\\t\\t\\t\\t\\t<li></li>\\r\\n\\t\\t\\t\\t\\t\\t\\t\\t\\t\\t<li></li>\\r\\n\\t\\t\\t\\t\\t\\t\\t\\t\\t</ul>\\r\\n\\t\\t\\t\\t\\t\\t\\t\\t</li>\\r\\n\\t\\t\\t\\t\\t\\t\\t</ul>\\r\\n\\t\\t\\t\\t\\t\\t</li>\\r\\n\\t\\t\\t\\t\\t\\t<li class=\"div-9 left-popup\" id=\"top-menu9\"><a href=\"/weather/lifenindustry/life_jisu.jsp\" id=\"top-menu-head9\">\\xbb\\xfd\\xc8\\xb0\\xb0\\xfa\\xbb\\xea\\xbe\\xf7</a>\\r\\n\\t\\t\\t\\t\\t\\t\\t<ul id=\"top-sub-menu9\" style=\"display:none; left: -844px;\">\\r\\n\\t\\t\\t\\t\\t\\t\\t\\t<li id=\"top-9-1\"><a href=\"/weather/lifenindustry/life_jisu.jsp\">\\xbb\\xfd\\xc8\\xb0\\xb1\\xe2\\xbb\\xf3\\xc1\\xa4\\xba\\xb8</a></li>\\r\\n\\t\\t\\t\\t\\t\\t\\t\\t<!--<li id=\"top-9-4\"><a href=\"/weather/lifenindustry/disaster_01.jsp\">\\xb1\\xe2\\xbb\\xf3\\xc0\\xe7\\xc7\\xd8\\xc5\\xeb\\xb0\\xe8</a>\\r\\n\\t\\t\\t\\t\\t\\t\\t\\t\\t<ul>\\r\\n\\t\\t\\t\\t\\t\\t\\t\\t\\t\\t<li><a href=\"/weather/lifenindustry/disaster_01.jsp\">\\xb1\\xe2\\xbb\\xf3\\xc0\\xe7\\xc7\\xd8\\xc7\\xf6\\xc8\\xb2</a></li>\\r\\n\\t\\t\\t\\t\\t\\t\\t\\t\\t\\t<li><a href=\"/weather/lifenindustry/disaster_03.jsp\">\\xb1\\xe2\\xbb\\xf3\\xc0\\xe7\\xc7\\xd8\\xbc\\xf8\\xc0\\xa7</a></li>\\r\\n\\t\\t\\t\\t\\t\\t\\t\\t\\t\\t<li><a href=\"/weather/lifenindustry/disaster_04.jsp\">\\xc5\\xc2\\xc7\\xb3\\xc7\\xc7\\xc7\\xd8\\xbc\\xf8\\xc0\\xa7</a></li>\\r\\n\\t\\t\\t\\t\\t\\t\\t\\t\\t</ul>\\r\\n\\t\\t\\t\\t\\t\\t\\t\\t</li>-->\\r\\n\\t\\t\\t\\t\\t\\t\\t\\t<li id=\"top-9-5\"><a href=\"/weather/world/cityweather.jsp\">\\xbc\\xbc\\xb0\\xe8\\xb3\\xaf\\xbe\\xbe</a></li>\\r\\n\\t\\t\\t\\t\\t\\t\\t\\t<li id=\"top-9-6\"><a href=\"/weather/lifenindustry/sevice_website.jsp\">\\xbc\\xad\\xba\\xf1\\xbd\\xba</a>\\r\\n\\t\\t\\t\\t\\t\\t\\t\\t\\t<ul>\\r\\n\\t\\t\\t\\t\\t\\t\\t\\t\\t\\t<li><a href=\"/weather/lifenindustry/sevice_website.jsp\">\\xc0\\xce\\xc5\\xcd\\xb3\\xdd</a></li>\\r\\n\\t\\t\\t\\t\\t\\t\\t\\t\\t\\t<li><a href=\"/weather/lifenindustry/sevice_use.jsp\">\\xb8\\xf0\\xb9\\xd9\\xc0\\xcf</a></li>\\r\\n\\t\\t\\t\\t\\t\\t\\t\\t\\t</ul>\\r\\n\\t\\t\\t\\t\\t\\t\\t\\t</li>\\r\\n\\t\\t\\t\\t\\t\\t\\t\\t<li class=\"bottom\">\\r\\n\\t\\t\\t\\t\\t\\t\\t\\t\\t<ul class=\"clearfix\">\\r\\n\\t\\t\\t\\t\\t\\t\\t\\t\\t\\t<li><a href=\"https://data.kma.go.kr/data/grnd/selectAgrRltmList.do?pgmNo=72\" target=\"_blank\" title=\"\\xbb\\xf5\\xc3\\xa2\\xbf\\xad\\xb8\\xb2\">\\xb3\\xf3\\xbe\\xf7\\xb1\\xe2\\xbb\\xf3\\xc1\\xa4\\xba\\xb8<br />(\\xb1\\xb9\\xb0\\xa1\\xb1\\xe2\\xc8\\xc4\\xb5\\xa5\\xc0\\xcc\\xc5\\xcd\\xbc\\xbe\\xc5\\xcd)</a></li>\\r\\n\\t\\t\\t\\t\\t\\t\\t\\t\\t\\t<li><a href=\"https://hydro.kma.go.kr\" target=\"_blank\" title=\"\\xbb\\xf5\\xc3\\xa2\\xbf\\xad\\xb8\\xb2\">\\xb0\\xa1\\xb9\\xb3\\xc1\\xa4\\xba\\xb8<br />(\\xb0\\xad\\xbc\\xf6\\xc7\\xf6\\xc8\\xb2)</a></li>\\r\\n\\t\\t\\t\\t\\t\\t\\t\\t\\t\\t<li><a href=\"http://www.safekorea.go.kr\" target=\"_blank\" title=\"\\xbb\\xf5\\xc3\\xa2 \\xbf\\xad\\xb8\\xb2\">\\xb1\\xb9\\xb9\\xce\\xc0\\xe7\\xb3\\xad\\xbe\\xc8\\xc0\\xfc\\xc6\\xf7\\xc5\\xbb<br />(\\xc7\\xe0\\xc1\\xa4\\xbe\\xc8\\xc0\\xfc\\xba\\xce)</a></li>\\r\\n\\t\\t\\t\\t\\t\\t\\t\\t\\t\\t<li><a class=\"last-of-top-menu\" href=\"http://forestfire.nifos.go.kr\" target=\"_blank\" title=\"\\xbb\\xf5\\xc3\\xa2 \\xbf\\xad\\xb8\\xb2\">\\xbb\\xea\\xba\\xd2\\xc0\\xa7\\xc7\\xe8\\xbf\\xb9\\xba\\xb8\\xbd\\xc3\\xbd\\xba\\xc5\\xdb<br />(\\xb1\\xb9\\xb8\\xb3\\xbb\\xea\\xb8\\xb2\\xb0\\xfa\\xc7\\xd0\\xbf\\xf8)</a></li>\\r\\n\\t\\t\\t\\t\\t\\t\\t\\t\\t\\t<li></li>\\r\\n\\t\\t\\t\\t\\t\\t\\t\\t\\t</ul>\\r\\n\\t\\t\\t\\t\\t\\t\\t\\t</li>\\r\\n\\t\\t\\t\\t\\t\\t\\t</ul>\\r\\n\\t\\t\\t\\t\\t\\t</li>\\r\\n\\t\\t\\t\\t\\t</ul>\\r\\n\\t\\t\\t\\t\\t<a href=\"#more-all\" class=\"menu-more\"><img src=\"/weather/home/images/menu-all.gif\" alt=\"\\xc0\\xfc\\xc3\\xbc\\xb8\\xde\\xb4\\xba \\xba\\xb8\\xb1\\xe2\"></a>\\r\\n\\t\\t\\t\\t\\t\\t<a href=\"#more-all-close\" class=\"menu-more-close\" ><img src=\"/weather/home/images/menu-all-close.gif\" alt=\"\\xc0\\xfc\\xc3\\xbc\\xb8\\xde\\xb4\\xba \\xb4\\xdd\\xb1\\xe2\"></a>\\r\\n\\t\\t\\t\\t\\t<div class=\"menu-all-div\" tabindex=\"0\">\\r\\n\\t\\t\\t\\t\\t\\t<ul class=\"lnb\">\\r\\n\\t\\t\\t\\t\\t\\t\\t<li class=\"div-9\"><a href=\"/weather/warning/status.jsp\">\\xc6\\xaf\\xba\\xb8 \\xa1\\xa4 \\xbf\\xb9\\xba\\xb8</a>\\r\\n\\t\\t\\t\\t\\t\\t\\t\\t<ul>\\r\\n\\t\\t\\t\\t\\t\\t\\t\\t\\t<li><a href=\"/weather/warning/status.jsp\" class=\"addon\">\\xc6\\xaf\\xba\\xb8 \\xa1\\xa4 \\xc1\\xa4\\xba\\xb8</a>\\r\\n\\t\\t\\t\\t\\t\\t\\t\\t\\t\\t<ul>\\r\\n\\t\\t\\t\\t\\t\\t\\t\\t\\t\\t\\t<li><a href=\"/weather/warning/status.jsp\">\\xc6\\xaf\\xba\\xb8\\xc7\\xf6\\xc8\\xb2</a></li>\\r\\n\\t\\t\\t\\t\\t\\t\\t\\t\\t\\t\\t<li><a href=\"/weather/warning/report.jsp\">\\xc5\\xeb\\xba\\xb8\\xb9\\xae</a></li>\\r\\n\\t\\t\\t\\t\\t\\t\\t\\t\\t\\t\\t<!--<li><a href=\"/weather/warning/heatwave.jsp\">\\xc6\\xf8\\xbf\\xb0\\xbf\\xb5\\xc7\\xe2\\xbf\\xb9\\xba\\xb8</a></li>\\r\\n\\t\\t\\t\\t\\t\\t\\t\\t\\t\\t\\t<li><a href=\"/weather/warning/coldwave.jsp\">\\xc7\\xd1\\xc6\\xc4\\xbf\\xb5\\xc7\\xe2\\xbf\\xb9\\xba\\xb8</a></li>-->\\r\\n\\t\\t\\t\\t\\t\\t\\t\\t\\t\\t\\t<li><a href=\"/weather/warning/wtouchqNew.jsp\">\\xc0\\xce\\xc5\\xcd\\xb3\\xdd\\xb1\\xe2\\xbb\\xf3\\xb9\\xe6\\xbc\\xdb<br/>(\\xb3\\xaf\\xbe\\xbeON)</a></li>\\r\\n\\t\\t\\t\\t\\t\\t\\t\\t\\t\\t\\t<li><a href=\"/weather/warning/standard.jsp\">\\xb1\\xe2\\xbb\\xf3\\xc6\\xaf\\xba\\xb8 \\xb9\\xdf\\xc7\\xa5\\xb1\\xe2\\xc1\\xd8</a></li>\\r\\n\\t\\t\\t\\t\\t\\t\\t\\t\\t\\t\\t<li><a href=\"/weather/warning/safetyguide_asiandust.jsp\">\\xb1\\xb9\\xb9\\xce\\xc7\\xe0\\xb5\\xbf\\xbf\\xe4\\xb7\\xc9</a></li>\\r\\n\\t\\t\\t\\t\\t\\t\\t\\t\\t\\t\\t<li><a href=\"/weather/warning/fog_status.jsp\">\\xbe\\xc8\\xb0\\xb3\\xc1\\xa4\\xba\\xb8\\xbc\\xad\\xba\\xf1\\xbd\\xba</a></li>\\r\\n\\t\\t\\t\\t\\t\\t\\t\\t\\t\\t</ul>\\r\\n\\t\\t\\t\\t\\t\\t\\t\\t\\t</li>\\r\\n\\t\\t\\t\\t\\t\\t\\t\\t\\t<li><a href=\"/weather/forecast/timeseries.jsp\" class=\"addon\">\\xc0\\xb0\\xbb\\xf3\\xbf\\xb9\\xba\\xb8</a>\\r\\n\\t\\t\\t\\t\\t\\t\\t\\t\\t\\t<ul>\\r\\n\\t\\t\\t\\t\\t\\t\\t\\t\\t\\t\\t<li><a href=\"/weather/forecast/timeseries.jsp\">\\xb5\\xbf\\xb3\\xd7\\xbf\\xb9\\xba\\xb8</a></li>\\r\\n\\t\\t\\t\\t\\t\\t\\t\\t\\t\\t\\t<li><a href=\"/weather/forecast/mid-term_01.jsp\">\\xc1\\xdf\\xb1\\xe2\\xbf\\xb9\\xba\\xb8(10\\xc0\\xcf \\xbf\\xb9\\xba\\xb8)</a></li>\\r\\n\\t\\t\\t\\t\\t\\t\\t\\t\\t\\t\\t<li><a href=\"/weather/forecast/weekend.jsp\">\\xc1\\xd6\\xb8\\xbb\\xbf\\xb9\\xba\\xb8</a></li>\\r\\n\\t\\t\\t\\t\\t\\t\\t\\t\\t\\t\\t<li><a href=\"/weather/forecast/long-range1.jsp\">1\\xb0\\xb3\\xbf\\xf9\\xc0\\xfc\\xb8\\xc1</a></li>\\r\\n\\t\\t\\t\\t\\t\\t\\t\\t\\t\\t\\t<li><a href=\"/weather/forecast/long-range3.jsp\">3\\xb0\\xb3\\xbf\\xf9\\xc0\\xfc\\xb8\\xc1</a></li>\\r\\n\\t\\t\\t\\t\\t\\t\\t\\t\\t\\t\\t<li><a href=\"/weather/forecast/long-range3-guide.jsp\">3\\xb0\\xb3\\xbf\\xf9\\xc0\\xfc\\xb8\\xc1 \\xc7\\xd8\\xbc\\xb3\\xbc\\xad</a></li>\\r\\n\\t\\t\\t\\t\\t\\t\\t\\t\\t\\t\\t<li><a href=\"/weather/forecast/season.jsp\">\\xb1\\xe2\\xc8\\xc4\\xc0\\xfc\\xb8\\xc1</a></li>\\r\\n\\t\\t\\t\\t\\t\\t\\t\\t\\t\\t\\t<li><a href=\"/weather/forecast/drought-range1.jsp\">\\xb1\\xe2\\xbb\\xf3\\xb0\\xa1\\xb9\\xb3\\xbf\\xb9\\xba\\xb8</a></li>\\r\\n\\t\\t\\t\\t\\t\\t\\t\\t\\t\\t</ul>\\r\\n\\t\\t\\t\\t\\t\\t\\t\\t\\t</li>\\r\\n\\t\\t\\t\\t\\t\\t\\t\\t\\t<li><a href=\"/weather/forecast/marine_daily.jsp\" class=\"addon\">\\xc7\\xd8\\xbb\\xf3\\xbf\\xb9\\xba\\xb8</a>\\r\\n\\t\\t\\t\\t\\t\\t\\t\\t\\t\\t<ul>\\r\\n\\t\\t\\t\\t\\t\\t\\t\\t\\t\\t\\t<li><a href=\"/weather/forecast/marine_daily.jsp\">\\xc0\\xcf\\xc0\\xcf\\xbf\\xb9\\xba\\xb8</a></li>\\r\\n\\t\\t\\t\\t\\t\\t\\t\\t\\t\\t\\t<li><a href=\"/weather/forecast/marine_mid-term.jsp\">\\xc1\\xdf\\xb1\\xe2\\xbf\\xb9\\xba\\xb8(10\\xc0\\xcf \\xbf\\xb9\\xba\\xb8)</a></li>\\r\\n\\t\\t\\t\\t\\t\\t\\t\\t\\t\\t</ul>\\r\\n\\t\\t\\t\\t\\t\\t\\t\\t\\t</li>\\r\\n\\t\\t\\t\\t\\t\\t\\t\\t\\t<li><a href=\"/weather/forecast/northkorea01.jsp\" class=\"addon\">\\xba\\xcf\\xc7\\xd1\\xbf\\xb9\\xba\\xb8</a>\\r\\n\\t\\t\\t\\t\\t\\t\\t\\t\\t\\t<ul>\\r\\n\\t\\t\\t\\t\\t\\t\\t\\t\\t\\t\\t<li><a href=\"/weather/forecast/northkorea01.jsp\">\\xc0\\xb0\\xbb\\xf3\\xbf\\xb9\\xba\\xb8</a></li>\\r\\n\\t\\t\\t\\t\\t\\t\\t\\t\\t\\t\\t<li><a href=\"/weather/forecast/northkorea02.jsp\">\\xb9\\xd9\\xb4\\xd9\\xbf\\xb9\\xba\\xb8</a></li>\\r\\n\\t\\t\\t\\t\\t\\t\\t\\t\\t\\t</ul>\\r\\n\\t\\t\\t\\t\\t\\t\\t\\t\\t</li>\\r\\n\\t\\t\\t\\t\\t\\t\\t\\t\\t<li><a href=\"/weather/forecast/mountain_01.jsp\" class=\"addon\">\\xc5\\xd7\\xb8\\xb6\\xbf\\xb9\\xba\\xb8</a>\\r\\n\\t\\t\\t\\t\\t\\t\\t\\t\\t\\t<ul>\\r\\n\\t\\t\\t\\t\\t\\t\\t\\t\\t\\t\\t<li><a href=\"/weather/forecast/mountain_01.jsp\">\\xbb\\xea\\xbe\\xc7\\xb1\\xe2\\xbb\\xf3</a></li>\\r\\n\\t\\t\\t\\t\\t\\t\\t\\t\\t\\t\\t<li><a href=\"/weather/forecast/theme_beach.jsp\">\\xc7\\xd8\\xbc\\xf6\\xbf\\xe5\\xc0\\xe5 \\xbf\\xb9\\xba\\xb8</a></li>\\r\\n\\t\\t\\t\\t\\t\\t\\t\\t\\t\\t\\t<li><a href=\"/weather/forecast/theme_regional.jsp\">\\xc1\\xf6\\xbf\\xaa\\xba\\xb0\\xb1\\xe2\\xbb\\xf3\\xc1\\xa4\\xba\\xb8</a></li>\\r\\n\\t\\t\\t\\t\\t\\t\\t\\t\\t\\t</ul>\\r\\n\\t\\t\\t\\t\\t\\t\\t\\t\\t</li>\\r\\n\\t\\t\\t\\t\\t\\t\\t\\t\\t<li><a href=\"/weather/forecast/el-la.jsp\" class=\"addon\">\\xbf\\xa4\\xb4\\xcf\\xb4\\xa2\\xa1\\xa4\\xb6\\xf3\\xb4\\xcf\\xb3\\xc4\\xc0\\xfc\\xb8\\xc1</a>\\r\\n\\t\\t\\t\\t\\t\\t\\t\\t\\t\\t<ul class=\"ul01 clearfix\">\\r\\n\\t\\t\\t\\t\\t\\t\\t\\t\\t\\t\\t<li class=\"mgr0\"><a href=\"/weather/forecast/forecaetevalue_01.jsp\" class=\"addon\">\\xbf\\xb9\\xba\\xb8\\xc6\\xf2\\xb0\\xa1</a>\\r\\n\\t\\t\\t\\t\\t\\t\\t\\t\\t\\t\\t\\t<ul>\\r\\n\\t\\t\\t\\t\\t\\t\\t\\t\\t\\t\\t\\t\\t<li><a href=\"/weather/forecast/forecaetevalue_01.jsp\">\\xbf\\xac\\xb5\\xb5\\xba\\xb0</a></li>\\r\\n\\t\\t\\t\\t\\t\\t\\t\\t\\t\\t\\t\\t\\t<li><a href=\"/weather/forecast/forecaetevalue_02.jsp\">\\xbf\\xf9\\xba\\xb0</a></li>\\r\\n\\t\\t\\t\\t\\t\\t\\t\\t\\t\\t\\t\\t</ul>\\r\\n\\t\\t\\t\\t\\t\\t\\t\\t\\t\\t\\t</li>\\r\\n\\t\\t\\t\\t\\t\\t\\t\\t\\t\\t</ul>\\r\\n\\t\\t\\t\\t\\t\\t\\t\\t\\t</li>\\r\\n\\t\\t\\t\\t\\t\\t\\t\\t</ul>\\r\\n\\t\\t\\t\\t\\t\\t\\t</li>\\r\\n\\t\\t\\t\\t\\t\\t\\t<li class=\"div-9\"><a href=\"/weather/images/rader.jsp\">\\xb3\\xaf\\xbe\\xbe\\xbf\\xb5\\xbb\\xf3</a>\\r\\n\\t\\t\\t\\t\\t\\t\\t\\t<ul style=\"height: 210px;\">\\r\\n\\t\\t\\t\\t\\t\\t\\t\\t\\t<li><a href=\"/weather/images/rader.jsp\" class=\"addon\">\\xb7\\xb9\\xc0\\xcc\\xb4\\xf5</a>\\r\\n\\t\\t\\t\\t\\t\\t\\t\\t\\t\\t<ul>\\r\\n\\t\\t\\t\\t\\t\\t\\t\\t\\t\\t\\t<li><a href=\"/weather/images/rader.jsp\">\\xc7\\xd5\\xbc\\xba\\xbf\\xb5\\xbb\\xf3</a></li>\\r\\n\\t\\t\\t\\t\\t\\t\\t\\t\\t\\t\\t<li><a href=\"/weather/images/rader_02.jsp\">\\xb4\\xab\\xba\\xf1\\xbf\\xb5\\xbf\\xaa</a></li>\\r\\n\\t\\t\\t\\t\\t\\t\\t\\t\\t\\t\\t<li><a href=\"/weather/images/rader_04.jsp\">\\xbf\\xec\\xb9\\xda</a></li>\\r\\n\\t\\t\\t\\t\\t\\t\\t\\t\\t\\t\\t<li><a href=\"/weather/images/rader_03.jsp\">\\xb4\\xa9\\xc0\\xfb\\xb0\\xad\\xbc\\xf6</a></li>\\r\\n\\t\\t\\t\\t\\t\\t\\t\\t\\t\\t\\t<li><a href=\"/weather/images/rader_individual.jsp\">\\xc1\\xf6\\xc1\\xa1\\xba\\xb0 \\xbf\\xb5\\xbb\\xf3</a></li>\\r\\n\\t\\t\\t\\t\\t\\t\\t\\t\\t\\t\\t\\r\\n\\t\\t\\t\\t\\t\\t\\t\\t\\t\\t</ul>\\r\\n\\t\\t\\t\\t\\t\\t\\t\\t\\t</li>\\r\\n\\t\\t\\t\\t\\t\\t\\t\\t\\t<li><a href=\"/weather/images/satellite_service.jsp\" class=\"addon\">\\xc0\\xa7\\xbc\\xba</a>\\r\\n\\t\\t\\t\\t\\t\\t\\t\\t\\t\\t<ul class=\"clearfix\">\\r\\n\\t\\t\\t\\t\\t\\t\\t\\t\\t\\t\\t<li><a href=\"/weather/images/satellite_service.jsp\">\\xb1\\xe2\\xba\\xbb\\xbf\\xb5\\xbb\\xf3</a></li>\\r\\n\\t\\t\\t\\t\\t\\t\\t\\t\\t\\t\\t<li><a href=\"/weather/images/satellite_case.jsp\">\\xbb\\xe7\\xb7\\xca\\xbf\\xb5\\xbb\\xf3</a></li>\\r\\n\\t\\t\\t\\t\\t\\t\\t\\t\\t\\t</ul>\\r\\n\\t\\t\\t\\t\\t\\t\\t\\t\\t</li>\\r\\n\\t\\t\\t\\t\\t\\t\\t\\t\\t<li><a href=\"/weather/images/lightning.jsp\">\\xb3\\xab\\xb7\\xda</a></li>\\r\\n\\t\\t\\t\\t\\t\\t\\t\\t\\t<li><a href=\"/weather/images/rader_sat_lgt.jsp\">\\xc1\\xbe\\xc7\\xd5\\xbf\\xb5\\xbb\\xf3<br/>(\\xb7\\xb9\\xc0\\xcc\\xb4\\xf5/\\xc0\\xa7\\xbc\\xba/\\xb3\\xab\\xb7\\xda)</a>\\r\\n\\t\\t\\t\\t\\t\\t\\t\\t\\t\\t<ul class=\"ul01 clearfix\">\\r\\n\\t\\t\\t\\t\\t\\t\\t\\t\\t\\t\\t<li class=\"mgr0\"><a href=\"/weather/images/rader_qpf.jsp\">\\xc3\\xca\\xb4\\xdc\\xb1\\xe2 \\xb0\\xad\\xbc\\xf6\\xbf\\xb9\\xc3\\xf8</a></li>\\r\\n\\t\\t\\t\\t\\t\\t\\t\\t\\t\\t</ul>\\r\\n\\t\\t\\t\\t\\t\\t\\t\\t\\t</li>\\r\\n\\t\\t\\t\\t\\t\\t\\t\\t\\t<li><a href=\"/weather/images/analysischart.jsp\" class=\"addon\">\\xc0\\xcf\\xb1\\xe2\\xb5\\xb5</a>\\r\\n\\t\\t\\t\\t\\t\\t\\t\\t\\t\\t<ul>\\r\\n\\t\\t\\t\\t\\t\\t\\t\\t\\t\\t\\t<li><a href=\"/weather/images/analysischart.jsp\">\\xba\\xd0\\xbc\\xae\\xc0\\xcf\\xb1\\xe2\\xb5\\xb5</a></li>\\r\\n\\t\\t\\t\\t\\t\\t\\t\\t\\t\\t\\t<li><a href=\"/weather/images/forecastchart.jsp\">\\xc0\\xb0\\xbb\\xf3\\xbf\\xb9\\xbb\\xf3\\xc0\\xcf\\xb1\\xe2\\xb5\\xb5</a></li>\\r\\n\\t\\t\\t\\t\\t\\t\\t\\t\\t\\t\\t<li><a href=\"/weather/images/wavemodel_r3.jsp\">\\xc7\\xd8\\xbb\\xf3\\xbf\\xb9\\xbb\\xf3\\xc0\\xcf\\xb1\\xe2\\xb5\\xb5</a></li>\\r\\n\\t\\t\\t\\t\\t\\t\\t\\t\\t\\t\\t<li><a href=\"/weather/images/expertchart.jsp\">\\xc0\\xfc\\xb9\\xae\\xb0\\xa1\\xbf\\xeb\\xc0\\xcf\\xb1\\xe2\\xb5\\xb5</a></li>\\r\\n\\t\\t\\t\\t\\t\\t\\t\\t\\t\\t</ul>\\r\\n\\t\\t\\t\\t\\t\\t\\t\\t\\t</li>\\r\\n\\t\\t\\t\\t\\t\\t\\t\\t\\t<li><a href=\"/weather/home/earth/index.jsp\" target=\"_blank\">\\xba\\xf1\\xc1\\xd6\\xbe\\xf3\\xb8\\xca</a></li>\\r\\n\\t\\t\\t\\t\\t\\t\\t\\t</ul>\\r\\n\\t\\t\\t\\t\\t\\t\\t</li>\\r\\n\\t\\t\\t\\t\\t\\t\\t<li class=\"div-9\"><a href=\"/mini/marine/marine_integrate.jsp\">\\xb9\\xd9\\xb4\\xd9\\xb3\\xaf\\xbe\\xbe</a>\\r\\n\\t\\t\\t\\t\\t\\t\\t\\t<ul>\\r\\n\\t\\t\\t\\t\\t\\t\\t\\t\\t<li style=\"height: 210px;\"><a href=\"/mini/marine/marine_integrate.jsp\" class=\"addon\">\\xc7\\xf6\\xc0\\xe7\\xb9\\xd9\\xb4\\xd9\\xb3\\xaf\\xbe\\xbe</a>\\r\\n\\t\\t\\t\\t\\t\\t\\t\\t\\t\\t<ul>\\r\\n\\t\\t\\t\\t\\t\\t\\t\\t\\t\\t\\t<li><a href=\"/mini/marine/marine_integrate.jsp\">\\xc7\\xd8\\xbe\\xe7\\xb1\\xe2\\xbb\\xf3\\xba\\xce\\xc0\\xcc</a></li>\\r\\n\\t\\t\\t\\t\\t\\t\\t\\t\\t\\t\\t<li><a href=\"/mini/marine/marine_beacon.jsp\">\\xb1\\xb9\\xb3\\xbb\\xb5\\xee\\xc7\\xa5</a></li>\\r\\n\\t\\t\\t\\t\\t\\t\\t\\t\\t\\t\\t<li><a href=\"/mini/marine/marine_buoy_cosmos.jsp\">\\xc6\\xc4\\xb0\\xed\\xba\\xce\\xc0\\xcc</a></li>\\r\\n\\t\\t\\t\\t\\t\\t\\t\\t\\t\\t\\t<li><a href=\"/mini/marine/marine_asia.jsp\">\\xbe\\xc6\\xbd\\xc3\\xbe\\xc6\\xbf\\xac\\xbe\\xc8\\xb0\\xfc\\xc3\\xf8\\xbd\\xc7\\xc8\\xb2</a></li>\\r\\n\\t\\t\\t\\t\\t\\t\\t\\t\\t\\t\\t<li><a href=\"/mini/marine/marine_onshorewind.jsp\">\\xc0\\xa7\\xbc\\xba\\xbf\\xb5\\xbb\\xf3</a></li>\\r\\n\\t\\t\\t\\t\\t\\t\\t\\t\\t\\t</ul>\\r\\n\\t\\t\\t\\t\\t\\t\\t\\t\\t</li>\\r\\n\\t\\t\\t\\t\\t\\t\\t\\t\\t<li style=\"height: 210px;\"><a href=\"/mini/marine/marine_daily.jsp\" class=\"addon\">\\xc7\\xd8\\xbb\\xf3\\xbf\\xb9\\xba\\xb8</a>\\r\\n\\t\\t\\t\\t\\t\\t\\t\\t\\t\\t<ul>\\r\\n\\t\\t\\t\\t\\t\\t\\t\\t\\t\\t\\t<li><a href=\"/mini/marine/marine_daily.jsp\">\\xc0\\xcf\\xc0\\xcf\\xbf\\xb9\\xba\\xb8</a></li>\\r\\n\\t\\t\\t\\t\\t\\t\\t\\t\\t\\t\\t<li><a href=\"/mini/marine/marine_mid-term.jsp\">\\xc1\\xdf\\xb1\\xe2\\xbf\\xb9\\xba\\xb8(10\\xc0\\xcf\\xbf\\xb9\\xba\\xb8)</a></li>\\r\\n\\t\\t\\t\\t\\t\\t\\t\\t\\t\\t\\t<li><a href=\"/mini/marine/marine_zone_rwwsst.jsp\">\\xc7\\xd8\\xb1\\xb8\\xba\\xb0 \\xbf\\xb9\\xc3\\xf8\\xc1\\xa4\\xba\\xb8</a></li>\\r\\n\\t\\t\\t\\t\\t\\t\\t\\t\\t\\t</ul>\\r\\n\\t\\t\\t\\t\\t\\t\\t\\t\\t</li>\\r\\n\\t\\t\\t\\t\\t\\t\\t\\t\\t<li style=\"height: 210px;\"><a href=\"/mini/marine/wavemodel_r3.jsp\" class=\"addon\">\\xc7\\xd8\\xbb\\xf3\\xbc\\xf6\\xc4\\xa1\\xbf\\xb9\\xc3\\xf8\\xc0\\xcf\\xb1\\xe2\\xb5\\xb5</a>\\r\\n\\t\\t\\t\\t\\t\\t\\t\\t\\t\\t<ul>\\r\\n\\t\\t\\t\\t\\t\\t\\t\\t\\t\\t\\t<li><a href=\"/mini/marine/wavemodel_r3.jsp\">\\xc6\\xc4\\xb6\\xfb</a></li>\\r\\n\\t\\t\\t\\t\\t\\t\\t\\t\\t\\t\\t<li><a href=\"/mini/marine/stormsurge.jsp\">\\xc6\\xf8\\xc7\\xb3\\xc7\\xd8\\xc0\\xcf</a></li>\\r\\n\\t\\t\\t\\t\\t\\t\\t\\t\\t\\t\\t<li><a href=\"/mini/marine/roms_crnt.jsp\">\\xc7\\xd8\\xbe\\xe7\\xbc\\xf8\\xc8\\xaf</a></li>\\r\\n\\t\\t\\t\\t\\t\\t\\t\\t\\t\\t\\t<li><a href=\"/mini/marine/marine_index_icing.jsp\">\\xc7\\xd8\\xbe\\xe7\\xc1\\xf6\\xbc\\xf6</a></li>\\r\\n\\t\\t\\t\\t\\t\\t\\t\\t\\t\\t\\t<li><a href=\"/mini/marine/marine_route.jsp\">\\xc7\\xd7\\xb7\\xce</a></li>\\r\\n\\t\\t\\t\\t\\t\\t\\t\\t\\t\\t</ul>\\r\\n\\t\\t\\t\\t\\t\\t\\t\\t\\t</li>\\r\\n\\t\\t\\t\\t\\t\\t\\t\\t\\t<li style=\"height: 210px;\"><a href=\"/mini/marine/marine_fax04.jsp\" class=\"addon\">\\xc7\\xd8\\xbe\\xe7\\xb1\\xe2\\xbb\\xf3\\xb9\\xe6\\xbc\\xdb<br />(\\xc0\\xcf\\xb1\\xe2\\xb5\\xb5 FAX\\xb9\\xe6\\xbc\\xdb)</a>\\r\\n\\t\\t\\t\\t\\t\\t\\t\\t\\t\\t<ul>\\r\\n\\t\\t\\t\\t\\t\\t\\t\\t\\t\\t\\t<li><a href=\"/mini/marine/marine_fax04.jsp\">\\xb0\\xb3\\xbf\\xe4</a></li>\\r\\n\\t\\t\\t\\t\\t\\t\\t\\t\\t\\t\\t<li><a href=\"/mini/marine/marine_fax02.jsp\">\\xb9\\xe6\\xbc\\xdb\\xb3\\xbb\\xbf\\xeb \\xb9\\xd7 \\xc1\\xa6\\xbf\\xf8</a></li>\\r\\n\\t\\t\\t\\t\\t\\t\\t\\t\\t\\t\\t<li><a href=\"/mini/marine/marine_fax03.jsp\">\\xb9\\xe6\\xbc\\xdb\\xbd\\xc3\\xb0\\xa3\\xc7\\xa5</a></li>\\r\\n\\t\\t\\t\\t\\t\\t\\t\\t\\t\\t\\t<li><a href=\"/mini/marine/marine_fax01.jsp\">\\xbc\\xbc\\xb0\\xe8\\xc1\\xd6\\xbf\\xe4\\xc1\\xf6\\xbf\\xaa \\xb1\\xe2\\xbb\\xf3\\xb9\\xe6\\xbc\\xdb\\xbc\\xbe\\xc5\\xcd</a></li>\\r\\n\\t\\t\\t\\t\\t\\t\\t\\t\\t\\t</ul>\\r\\n\\t\\t\\t\\t\\t\\t\\t\\t\\t</li>\\r\\n\\t\\t\\t\\t\\t\\t\\t\\t\\t<li style=\"height: 210px;\"><a href=\"/mini/marine/marine_summary.jsp\" class=\"addon\">\\xbf\\xf9\\xba\\xb0 \\xc7\\xd8\\xbe\\xe7\\xb1\\xe2\\xbb\\xf3\\xb5\\xb5</a>\\r\\n\\t\\t\\t\\t\\t\\t\\t\\t\\t\\t<ul>\\r\\n\\t\\t\\t\\t\\t\\t\\t\\t\\t\\t<li><a href=\"/mini/marine/marine_summary.jsp\">\\xb0\\xb3\\xbf\\xe4</a></li>\\r\\n\\t\\t\\t\\t\\t\\t\\t\\t\\t\\t<li><a href=\"/mini/marine/marine_eastasia.jsp\">\\xb5\\xbf\\xbe\\xc6\\xbd\\xc3\\xbe\\xc6</a></li>\\r\\n\\t\\t\\t\\t\\t\\t\\t\\t\\t\\t<li><a href=\"/mini/marine/marine_northpacific.jsp\">\\xc5\\xc2\\xc6\\xf2\\xbe\\xe7</a></li>\\r\\n\\t\\t\\t\\t\\t\\t\\t\\t\\t\\t</ul>\\r\\n\\t\\t\\t\\t\\t\\t\\t\\t\\t</li>\\r\\n\\t\\t\\t\\t\\t\\t\\t\\t\\t<li style=\"height: 210px;\"><a href=\"/mini/marine/marine_vos01.jsp\" class=\"addon\">\\xb0\\xfc\\xc3\\xf8\\xc1\\xf6\\xbf\\xf8\\xbc\\xb1\\xb9\\xda(VOS)\\xc1\\xa6\\xb5\\xb5</a>\\r\\n\\t\\t\\t\\t\\t\\t\\t\\t\\t\\t<ul>\\r\\n\\t\\t\\t\\t\\t\\t\\t\\t\\t\\t\\t<li><a href=\"/mini/marine/marine_vos01.jsp\">\\xbc\\xd2\\xb0\\xb3</a></li>\\r\\n\\t\\t\\t\\t\\t\\t\\t\\t\\t\\t\\t<li><a href=\"/mini/marine/marine_shipobserv.jsp\">\\xbc\\xb1\\xb9\\xda\\xb0\\xfc\\xc3\\xf8\\xc0\\xda\\xb7\\xe1</a></li>\\r\\n\\t\\t\\t\\t\\t\\t\\t\\t\\t\\t\\t<li><a href=\"/mini/marine/marine_vos02.jsp\">\\xbc\\xb1\\xb9\\xda\\xb0\\xfc\\xc3\\xf8 \\xc0\\xfc\\xb9\\xae\\xc7\\xd8\\xbc\\xb3</a></li>\\r\\n\\t\\t\\t\\t\\t\\t\\t\\t\\t\\t\\t<li><a href=\"/mini/marine/marine_vos03.jsp\">\\xc7\\xd7\\xb8\\xb8\\xb1\\xe2\\xbb\\xf3\\xb0\\xfc \\xc7\\xf6\\xc8\\xb2</a></li>\\r\\n\\t\\t\\t\\t\\t\\t\\t\\t\\t\\t\\t<li><a href=\"/mini/marine/marine_vos04.jsp\">\\xb0\\xfc\\xc3\\xf8\\xc1\\xf6\\xbf\\xf8\\xbc\\xb1\\xb9\\xda \\xb8\\xf1\\xb7\\xcf</a></li>\\r\\n\\t\\t\\t\\t\\t\\t\\t\\t\\t\\t</ul>\\r\\n\\t\\t\\t\\t\\t\\t\\t\\t\\t</li>\\r\\n\\t\\t\\t\\t\\t\\t\\t\\t</ul>\\r\\n\\t\\t\\t\\t\\t\\t\\t</li>\\r\\n\\t\\t\\t\\t\\t\\t\\t<li class=\"div-9\"><a href=\"/weather/typoon/report.jsp\">\\xc5\\xc2\\xc7\\xb3</a>\\r\\n\\t\\t\\t\\t\\t\\t\\t\\t<ul class=\"active\">\\r\\n\\t\\t\\t\\t\\t\\t\\t\\t\\t<li style=\"height: 146px;\"><a href=\"/weather/typoon/report.jsp\" class=\"addon\">\\xc5\\xc2\\xc7\\xb3\\xc1\\xa4\\xba\\xb8</a>\\r\\n\\t\\t\\t\\t\\t\\t\\t\\t\\t\\t<ul>\\r\\n\\t\\t\\t\\t\\t\\t\\t\\t\\t\\t\\t<li><a href=\"/weather/typoon/report.jsp\">\\xc5\\xeb\\xba\\xb8\\xb9\\xae</a></li>\\r\\n\\t\\t\\t\\t\\t\\t\\t\\t\\t\\t\\t<li><a href=\"/weather/typoon/detail.jsp\">\\xbb\\xf3\\xbc\\xbc\\xc1\\xa4\\xba\\xb8</a></li>\\r\\n\\t\\t\\t\\t\\t\\t\\t\\t\\t\\t\\t<li><a href=\"/weather/typoon/prediction.jsp\">\\xb8\\xf0\\xb5\\xa8\\xbf\\xb9\\xc3\\xf8</a></li>\\r\\n\\t\\t\\t\\t\\t\\t\\t\\t\\t\\t</ul>\\r\\n\\t\\t\\t\\t\\t\\t\\t\\t\\t</li>\\r\\n\\t\\t\\t\\t\\t\\t\\t\\t\\t<li style=\"height: 146px;\"><a href=\"/weather/typoon/typhoon_06_02.jsp\" class=\"addon\">\\xc2\\xfc\\xb0\\xed\\xc1\\xa4\\xba\\xb8</a>\\r\\n\\t\\t\\t\\t\\t\\t\\t\\t\\t\\t<ul>\\r\\n\\t\\t\\t\\t\\t\\t\\t\\t\\t\\t\\t<li style=\"border-right: 1px solid #e5e5e5;\"><a href=\"/weather/typoon/typhoon_06_02.jsp\">\\xb9\\xdf\\xbb\\xfd \\xb0\\xa8\\xbd\\xc3</a></li>\\r\\n\\t\\t\\t\\t\\t\\t\\t\\t\\t\\t\\t<li style=\"border-right: 1px solid #e5e5e5;\"><a href=\"/weather/typoon/statistic.jsp\">\\xb9\\xdf\\xbb\\xfd \\xc5\\xeb\\xb0\\xe8</a></li>\\r\\n\\t\\t\\t\\t\\t\\t\\t\\t\\t\\t\\t<li style=\"position: absolute; left: 158px; top: 36px;\"><a href=\"/weather/typoon/typhoon_06_01.jsp\">\\xc5\\xc2\\xc7\\xb3 \\xc3\\xa3\\xbe\\xc6\\xba\\xb8\\xb1\\xe2</a></li>\\r\\n\\t\\t\\t\\t\\t\\t\\t\\t\\t\\t\\t<li style=\"position: absolute; left: 158px; top: 72px;\"><a href=\"/weather/typoon/knowledge_01.jsp\">\\xb1\\xe2\\xba\\xbb \\xc1\\xf6\\xbd\\xc4</a></li>\\r\\n\\t\\t\\t\\t\\t\\t\\t\\t\\t\\t</ul>\\r\\n\\t\\t\\t\\t\\t\\t\\t\\t\\t</li>\\r\\n\\t\\t\\t\\t\\t\\t\\t\\t</ul>\\r\\n\\t\\t\\t\\t\\t\\t\\t</li>\\r\\n\\t\\t\\t\\t\\t\\t\\t<li class=\"div-9\"><a href=\"/weather/asiandust/density.jsp\">\\xc8\\xb2\\xbb\\xe7</a>\\r\\n\\t\\t\\t\\t\\t\\t\\t\\t<ul>\\r\\n\\t\\t\\t\\t\\t\\t\\t\\t\\t<li style=\"height:57px;margin-bottom: 10px;\"><a href=\"/weather/asiandust/density.jsp\">\\xc8\\xb2\\xbb\\xe7/\\xba\\xce\\xc0\\xaf\\xba\\xd0\\xc1\\xf8<br />\\xb0\\xfc\\xc3\\xf8\\xb0\\xaa</a></li>\\r\\n\\t\\t\\t\\t\\t\\t\\t\\t\\t<li style=\"height:57px;margin-bottom: 10px;\"><a href=\"/weather/asiandust/graph.jsp\">\\xc8\\xb2\\xbb\\xe7/\\xba\\xce\\xc0\\xaf\\xba\\xd0\\xc1\\xf8<br />\\xb0\\xfc\\xc3\\xf8 \\xb1\\xd7\\xb7\\xa1\\xc7\\xc1</a></li>\\r\\n\\t\\t\\t\\t\\t\\t\\t\\t\\t<li style=\"height:57px;margin-bottom: 10px; border: 0;\"><a href=\"/weather/asiandust/prediction.jsp\">\\xb8\\xf0\\xb5\\xa8\\xbf\\xb9\\xc3\\xf8</a></li>\\r\\n\\t\\t\\t\\t\\t\\t\\t\\t\\t<li style=\"height:57px;\"><a href=\"/weather/asiandust/chart.jsp\">\\xc1\\xf6\\xbb\\xf3\\xc0\\xcf\\xb1\\xe2\\xb5\\xb5</a></li>\\r\\n\\t\\t\\t\\t\\t\\t\\t\\t\\t<li style=\"height:57px;\"><a href=\"/weather/asiandust/observday.jsp\">\\xc8\\xb2\\xbb\\xe7\\xb0\\xfc\\xc3\\xf8\\xc0\\xcf\\xbc\\xf6</a></li>\\r\\n\\t\\t\\t\\t\\t\\t\\t\\t</ul>\\r\\n\\t\\t\\t\\t\\t\\t\\t</li>\\r\\n\\t\\t\\t\\t\\t\\t\\t<li class=\"div-9\"><a href=\"/weather/earthquake_volcano/report.jsp\">\\xc1\\xf6\\xc1\\xf8 \\xa1\\xa4 \\xc8\\xad\\xbb\\xea</a>\\r\\n\\t\\t\\t\\t\\t\\t\\t\\t<ul>\\r\\n\\t\\t\\t\\t\\t\\t\\t\\t\\t<li style=\"height: 168px;\"><a href=\"/weather/earthquake_volcano/report.jsp\">\\xb9\\xdf\\xc7\\xa5\\xc1\\xa4\\xba\\xb8</a></li>\\r\\n\\t\\t\\t\\t\\t\\t\\t\\t\\t<li style=\"height: 168px;\"><a href=\"/weather/earthquake_volcano/domesticlist.jsp\" class=\"addon\">\\xc1\\xf6\\xc1\\xf8</a>\\r\\n\\t\\t\\t\\t\\t\\t\\t\\t\\t\\t<ul>\\r\\n\\t\\t\\t\\t\\t\\t\\t\\t\\t\\t\\t<li style=\"border-right: 1px solid #e5e5e5;\"><a href=\"/weather/earthquake_volcano/domesticlist.jsp\">\\xb1\\xb9\\xb3\\xbb\\xc1\\xf6\\xc1\\xf8 \\xb8\\xf1\\xb7\\xcf</a></li>\\r\\n\\t\\t\\t\\t\\t\\t\\t\\t\\t\\t\\t<li style=\" border-right: 1px solid #e5e5e5;\"><a href=\"/weather/earthquake_volcano/internationallist.jsp\">\\xb1\\xb9\\xbf\\xdc\\xc1\\xf6\\xc1\\xf8 \\xb8\\xf1\\xb7\\xcf</a></li>\\r\\n\\t\\t\\t\\t\\t\\t\\t\\t\\t\\t\\t<li style=\" border-right: 1px solid #e5e5e5;\"><a href=\"/weather/earthquake_volcano/domestictrend.jsp\">\\xb1\\xb9\\xb3\\xbb\\xc1\\xf6\\xc1\\xf8 \\xb9\\xdf\\xbb\\xfd\\xc3\\xdf\\xc0\\xcc</a></li>\\r\\n\\t\\t\\t\\t\\t\\t\\t\\t\\t\\t</ul>\\r\\n\\t\\t\\t\\t\\t\\t\\t\\t\\t</li>\\r\\n\\t\\t\\t\\t\\t\\t\\t\\t\\t<li style=\"height: 168px;\"><a class=\"addon\">&nbsp;</a>\\r\\n\\t\\t\\t\\t\\t\\t\\t\\t\\t\\t<ul>\\r\\n\\t\\t\\t\\t\\t\\t\\t\\t\\t\\t\\t<li style=\" border-right: 1px solid #e5e5e5;\"><a href=\"/weather/earthquake_volcano/scalelist.jsp\">\\xb1\\xb9\\xb3\\xbb\\xc1\\xf6\\xc1\\xf8 \\xb1\\xd4\\xb8\\xf0\\xba\\xb0\\xbc\\xf8\\xc0\\xa7</a></li>\\r\\n\\t\\t\\t\\t\\t\\t\\t\\t\\t\\t\\t<li style=\" border-right: 1px solid #e5e5e5;\"><a href=\"/weather/earthquake_volcano/major_912.jsp\">\\xc1\\xd6\\xbf\\xe4 \\xc1\\xf6\\xc1\\xf8</a></li>\\r\\n\\t\\t\\t\\t\\t\\t\\t\\t\\t\\t</ul>\\r\\n\\t\\t\\t\\t\\t\\t\\t\\t\\t</li>\\r\\n\\t\\t\\t\\t\\t\\t\\t\\t\\t<li style=\"height: 168px;\"><a href=\"/weather/earthquake_volcano/tidalwave_02.jsp\" class=\"addon\">\\xc1\\xf6\\xc1\\xf8\\xc7\\xd8\\xc0\\xcf</a>\\r\\n\\t\\t\\t\\t\\t\\t\\t\\t\\t\\t<ul class=\"clearfix\">\\r\\n\\t\\t\\t\\t\\t\\t\\t\\t\\t\\t\\t<li><a href=\"/weather/earthquake_volcano/tidalwave_02.jsp\">\\xb0\\xfa\\xb0\\xc5 \\xc1\\xf6\\xc1\\xf8\\xc7\\xd8\\xc0\\xcf<br />\\xbb\\xe7\\xb7\\xca</a></li>\\r\\n\\t\\t\\t\\t\\t\\t\\t\\t\\t\\t</ul>\\r\\n\\t\\t\\t\\t\\t\\t\\t\\t\\t</li>\\r\\n\\t\\t\\t\\t\\t\\t\\t\\t\\t<li style=\"height: 168px;\"><a href=\"/weather/earthquake_volcano/volcano_01.jsp\" class=\"addon\">\\xc8\\xad\\xbb\\xea</a>\\r\\n\\t\\t\\t\\t\\t\\t\\t\\t\\t\\t<ul>\\r\\n\\t\\t\\t\\t\\t\\t\\t\\t\\t\\t\\t<li><a href=\"/weather/earthquake_volcano/volcano_02_1.jsp\">\\xb0\\xfa\\xb0\\xc5 \\xc8\\xad\\xbb\\xea \\xbb\\xe7\\xb7\\xca</a></li>\\r\\n\\t\\t\\t\\t\\t\\t\\t\\t\\t\\t\\t<li><a href=\"/weather/earthquake_volcano/volcano_03.jsp\">\\xc8\\xad\\xbb\\xea\\xc0\\xe7\\xc7\\xd8 \\xc0\\xaf\\xc7\\xfc</a></li>\\r\\n\\t\\t\\t\\t\\t\\t\\t\\t\\t\\t</ul>\\r\\n\\t\\t\\t\\t\\t\\t\\t\\t\\t</li>\\r\\n\\t\\t\\t\\t\\t\\t\\t\\t\\t<li style=\"height: 168px;\"><a href=\"/weather/earthquake_volcano/evacuation_procedure.jsp\" class=\"addon\">\\xb1\\xb3\\xc0\\xb0\\xa1\\xa4\\xc8\\xab\\xba\\xb8</a>\\r\\n\\t\\t\\t\\t\\t\\t\\t\\t\\t\\t<ul>\\r\\n\\t\\t\\t\\t\\t\\t\\t\\t\\t\\t\\t<li><a href=\"/weather/earthquake_volcano/evacuation_procedure.jsp\">\\xc1\\xf6\\xc1\\xf8\\xa1\\xa4\\xc8\\xad\\xbb\\xea \\xb4\\xeb\\xc7\\xc7\\xbf\\xe4\\xb7\\xc9</a></li>\\r\\n\\t\\t\\t\\t\\t\\t\\t\\t\\t\\t\\t<li><a href=\"/weather/earthquake_volcano/earthquakemovie.jsp\">\\xc1\\xf6\\xc1\\xf8\\xa1\\xa4\\xc8\\xad\\xbb\\xea \\xc8\\xab\\xba\\xb8\\xb9\\xb0</a></li>\\r\\n\\t\\t\\t\\t\\t\\t\\t\\t\\t\\t\\t<li><a href=\"/weather/earthquake_volcano/faq.jsp\">FAQ</a></li>\\r\\n\\t\\t\\t\\t\\t\\t\\t\\t\\t\\t</ul>\\r\\n\\t\\t\\t\\t\\t\\t\\t\\t\\t</li>\\r\\n\\t\\t\\t\\t\\t\\t\\t\\t</ul>\\r\\n\\t\\t\\t\\t\\t\\t\\t</li>\\r\\n\\t\\t\\t\\t\\t\\t\\t<li class=\"div-9\"><a href=\"/weather/observation/currentweather.jsp\">\\xb0\\xfc\\xc3\\xf8\\xc0\\xda\\xb7\\xe1</a>\\r\\n\\t\\t\\t\\t\\t\\t\\t\\t<ul class=\"active\">\\r\\n\\t\\t\\t\\t\\t\\t\\t\\t\\t<li><a href=\"/weather/observation/currentweather.jsp\" class=\"addon\">\\xc1\\xf6\\xbb\\xf3\\xb0\\xfc\\xc3\\xf8\\xc0\\xda\\xb7\\xe1</a>\\r\\n\\t\\t\\t\\t\\t\\t\\t\\t\\t\\t<ul>\\r\\n\\t\\t\\t\\t\\t\\t\\t\\t\\t\\t\\t<li><a href=\"/weather/observation/currentweather.jsp\">\\xb5\\xb5\\xbd\\xc3\\xba\\xb0 \\xc7\\xf6\\xc0\\xe7\\xb3\\xaf\\xbe\\xbe</a></li>\\r\\n\\t\\t\\t\\t\\t\\t\\t\\t\\t\\t\\t<li><a href=\"/weather/observation/dashboard.jsp\">\\xb3\\xaf\\xbe\\xbe\\xbb\\xf3\\xc8\\xb2\\xc6\\xc7</a></li>\\r\\n\\t\\t\\t\\t\\t\\t\\t\\t\\t\\t\\t<li><a href=\"/weather/observation/aws_table_popup.jsp\" target=\"_blank\" title=\"\\xbb\\xf5\\xc3\\xa2\\xbf\\xad\\xb8\\xb2\">\\xc1\\xf6\\xbf\\xaa\\xba\\xb0\\xbb\\xf3\\xbc\\xbc\\xb0\\xfc\\xc3\\xf8\\xc0\\xda\\xb7\\xe1(AWS)<i>\\xbb\\xf5\\xc3\\xa2</i></a></li>\\r\\n\\t\\t\\t\\t\\t\\t\\t\\t\\t\\t\\t<li><a href=\"/weather/climate/past_cal.jsp\">\\xb0\\xfa\\xb0\\xc5\\xc0\\xda\\xb7\\xe1</a></li>\\r\\n\\t\\t\\t\\t\\t\\t\\t\\t\\t\\t</ul>\\r\\n\\t\\t\\t\\t\\t\\t\\t\\t\\t</li>\\r\\n\\t\\t\\t\\t\\t\\t\\t\\t\\t<li><a href=\"http://web.kma.go.kr/weather/observation/flower_photo.jsp\" class=\"addon\">\\xb0\\xe8\\xc0\\xfd\\xb0\\xfc\\xc3\\xf8\\xc0\\xda\\xb7\\xe1</a>\\r\\n\\t\\t\\t\\t\\t\\t\\t\\t\\t\\t<ul>\\r\\n\\t\\t\\t\\t\\t\\t\\t\\t\\t\\t\\t<li><a href=\"http://web.kma.go.kr/weather/observation/flower_photo.jsp\">\\xba\\xbd\\xb2\\xc9\\xb0\\xb3\\xc8\\xad\\xc7\\xf6\\xc8\\xb2<br />(\\xba\\xa2\\xb2\\xc9,\\xc3\\xb6\\xc2\\xdf)</a></li>\\r\\n\\t\\t\\t\\t\\t\\t\\t\\t\\t\\t\\t<!--<li><a href=\"http://web.kma.go.kr/weather/observation/maple_photo.jsp\">\\xc0\\xaf\\xb8\\xed\\xbb\\xea \\xb4\\xdc\\xc7\\xb3\\xc7\\xf6\\xc8\\xb2</a></li>-->\\r\\n\\t\\t\\t\\t\\t\\t\\t\\t\\t\\t</ul>\\r\\n\\t\\t\\t\\t\\t\\t\\t\\t\\t</li>\\r\\n\\t\\t\\t\\t\\t\\t\\t\\t\\t<li><a href=\"/weather/observation/marine_buoy.jsp\" class=\"addon\">\\xb9\\xd9\\xb4\\xd9\\xb0\\xfc\\xc3\\xf8\\xc0\\xda\\xb7\\xe1</a>\\r\\n\\t\\t\\t\\t\\t\\t\\t\\t\\t\\t<ul>\\r\\n\\t\\t\\t\\t\\t\\t\\t\\t\\t\\t\\t<li><a href=\"/weather/observation/marine_buoy.jsp\">\\xb1\\xb9\\xb3\\xbb\\xba\\xce\\xc0\\xcc</a></li>\\r\\n\\t\\t\\t\\t\\t\\t\\t\\t\\t\\t\\t<li><a href=\"/weather/observation/marine_buoy_cosmos.jsp\">\\xc6\\xc4\\xb0\\xed\\xba\\xce\\xc0\\xcc</a></li>\\r\\n\\t\\t\\t\\t\\t\\t\\t\\t\\t\\t\\t<li><a href=\"/weather/observation/marine_beacon.jsp\">\\xb1\\xb9\\xb3\\xbb\\xb5\\xee\\xc7\\xa5</a></li>\\r\\n\\t\\t\\t\\t\\t\\t\\t\\t\\t\\t</ul>\\r\\n\\t\\t\\t\\t\\t\\t\\t\\t\\t</li>\\r\\n\\t\\t\\t\\t\\t\\t\\t\\t</ul>\\r\\n\\t\\t\\t\\t\\t\\t\\t</li>\\r\\n\\t\\t\\t\\t\\t\\t\\t<li class=\"div-9 left-popup\"><a href=\"/weather/climate/average_south.jsp\">\\xb1\\xe2\\xc8\\xc4\\xc0\\xda\\xb7\\xe1</a>\\r\\n\\t\\t\\t\\t\\t\\t\\t\\t<ul>\\r\\n\\t\\t\\t\\t\\t\\t\\t\\t\\t<li><a href=\"/weather/climate/average_south.jsp\" class=\"addon\">\\xb1\\xb9\\xb3\\xbb\\xb1\\xe2\\xc8\\xc4\\xc0\\xda\\xb7\\xe1</a>\\r\\n\\t\\t\\t\\t\\t\\t\\t\\t\\t\\t<ul>\\r\\n\\t\\t\\t\\t\\t\\t\\t\\t\\t\\t\\t<li><a href=\"/weather/climate/average_south.jsp\">\\xbf\\xec\\xb8\\xae\\xb3\\xaa\\xb6\\xf3\\xb1\\xe2\\xc8\\xc4</a></li>\\r\\n\\t\\t\\t\\t\\t\\t\\t\\t\\t\\t\\t<li><a href=\"/weather/climate/climate_link_guide.jsp\">\\xb1\\xe2\\xc8\\xc4\\xc0\\xda\\xb7\\xe1\\xc1\\xa6\\xb0\\xf8\\xbe\\xc8\\xb3\\xbb</a></li>\\r\\n\\t\\t\\t\\t\\t\\t\\t\\t\\t\\t</ul>\\r\\n\\t\\t\\t\\t\\t\\t\\t\\t\\t</li>\\r\\n\\t\\t\\t\\t\\t\\t\\t\\t\\t<li><a href=\"/weather/climate/wind_solar_guide.jsp\">\\xc7\\xb3\\xb7\\xc2\\xa1\\xa4\\xc5\\xc2\\xbe\\xe7\\xb1\\xa4\\xb1\\xe2\\xbb\\xf3\\xc0\\xda\\xbf\\xf8\\xc1\\xf6\\xb5\\xb5 \\xbe\\xc8\\xb3\\xbb</a></li>\\r\\n\\t\\t\\t\\t\\t\\t\\t\\t</ul>\\r\\n\\t\\t\\t\\t\\t\\t\\t</li>\\r\\n\\t\\t\\t\\t\\t\\t\\t<li class=\"div-9 left-popup\"><a href=\"/weather/lifenindustry/life_jisu.jsp\">\\xbb\\xfd\\xc8\\xb0\\xb0\\xfa\\xbb\\xea\\xbe\\xf7</a>\\r\\n\\t\\t\\t\\t\\t\\t\\t\\t<ul>\\r\\n\\t\\t\\t\\t\\t\\t\\t\\t\\t<li><a href=\"/weather/lifenindustry/life_jisu.jsp\">\\xbb\\xfd\\xc8\\xb0\\xb1\\xe2\\xbb\\xf3\\xc1\\xa4\\xba\\xb8</a></li>\\r\\n\\t\\t\\t\\t\\t\\t\\t\\t\\t<!--<li><a href=\"/weather/lifenindustry/disaster_01.jsp\" class=\"addon\">\\xb1\\xe2\\xbb\\xf3\\xc0\\xe7\\xc7\\xd8\\xc5\\xeb\\xb0\\xe8</a>\\r\\n\\t\\t\\t\\t\\t\\t\\t\\t\\t\\t<ul>\\r\\n\\t\\t\\t\\t\\t\\t\\t\\t\\t\\t\\t<li><a href=\"/weather/lifenindustry/disaster_01.jsp\">\\xb1\\xe2\\xbb\\xf3\\xc0\\xe7\\xc7\\xd8\\xc7\\xf6\\xc8\\xb2</a></li>\\r\\n\\t\\t\\t\\t\\t\\t\\t\\t\\t\\t\\t<li><a href=\"/weather/lifenindustry/disaster_03.jsp\">\\xb1\\xe2\\xbb\\xf3\\xc0\\xe7\\xc7\\xd8\\xbc\\xf8\\xc0\\xa7</a></li>\\r\\n\\t\\t\\t\\t\\t\\t\\t\\t\\t\\t\\t<li><a href=\"/weather/lifenindustry/disaster_04.jsp\">\\xc5\\xc2\\xc7\\xb3\\xc7\\xc7\\xc7\\xd8\\xbc\\xf8\\xc0\\xa7</a></li>\\r\\n\\t\\t\\t\\t\\t\\t\\t\\t\\t\\t</ul>\\r\\n\\t\\t\\t\\t\\t\\t\\t\\t\\t</li>-->\\r\\n\\t\\t\\t\\t\\t\\t\\t\\t\\t<li><a href=\"/weather/world/cityweather.jsp\">\\xbc\\xbc\\xb0\\xe8\\xb3\\xaf\\xbe\\xbe</a></li>\\r\\n\\t\\t\\t\\t\\t\\t\\t\\t\\t<li><a href=\"/weather/lifenindustry/sevice_website.jsp\" class=\"addon\">\\xbc\\xad\\xba\\xf1\\xbd\\xba</a>\\r\\n\\t\\t\\t\\t\\t\\t\\t\\t\\t\\t<ul>\\r\\n\\t\\t\\t\\t\\t\\t\\t\\t\\t\\t\\t<li><a href=\"/weather/lifenindustry/sevice_website.jsp\">\\xc0\\xce\\xc5\\xcd\\xb3\\xdd</a></li>\\r\\n\\t\\t\\t\\t\\t\\t\\t\\t\\t\\t\\t<li><a href=\"/weather/lifenindustry/sevice_use.jsp\" onblur=\"$(\\'.menu-more-close\\').trigger(\\'focus\\');\">\\xb8\\xf0\\xb9\\xd9\\xc0\\xcf</a></li>\\r\\n\\t\\t\\t\\t\\t\\t\\t\\t\\t\\t</ul>\\r\\n\\t\\t\\t\\t\\t\\t\\t\\t\\t</li>\\r\\n\\t\\t\\t\\t\\t\\t\\t\\t</ul>\\r\\n\\t\\t\\t\\t\\t\\t\\t</li>\\r\\n\\t\\t\\t\\t\\t\\t</ul>\\r\\n\\t\\t\\t\\t\\t</div>\\r\\n\\t\\t\\t\\t</div>\\r\\n\\t\\t\\r\\n\\t\\t\\t</div>\\r\\n\\t\\t</div>\\r\\n\\t\\t<div class=\"menu-all-bg\" ></div>\\r\\n\\t</div>\\r\\n\\t<hr>\\r\\n\\n\\t\\t\\t\\t\\n\\t\\t\\t\\t\\n\\t\\t\\t\\n\\t\\t\\t<script src=\"/share/js/weather.options.js?ver=20210616\"></script>\\n\\t\\t\\t\\n\\t\\t\\t\\t\\n\\t\\t\\t\\t\\t\\n\\t\\t\\t\\t\\t\\t\\r\\n\\r\\n<div id=\"container\"><a id=\"gocontent\"></a>\\r\\n\\t<div id=\"sub-menu7\" class=\"snb\">\\r\\n\\t\\t<h3 class=\"section-head\"><span>\\xbb\\xfd\\xc8\\xb0\\xb0\\xfa \\xbb\\xea\\xbe\\xf7</span></h3>\\r\\n\\t\\t<ul>\\r\\n\\t\\t\\t<!--<li id=\"menu7-12\"><a class=\"section-sub\" href=\"http://www.weather.go.kr/weather/lifenindustry/life_01.jsp\"><span>\\xbb\\xfd\\xc8\\xb0\\xb1\\xe2\\xbb\\xf3\\xc1\\xa4\\xba\\xb8</span></a>\\r\\n\\t\\t\\t\\t<ul>\\r\\n\\t\\t\\t\\t\\t<li id=\"menu7-12-1\"><a href=\"http://www.weather.go.kr/weather/lifenindustry/life_01.jsp\">\\xbb\\xfd\\xc8\\xb0\\xb1\\xe2\\xbb\\xf3\\xc1\\xf6\\xbc\\xf6</a></li>\\r\\n\\t\\t\\t\\t\\t<li id=\"menu7-12-2\"><a href=\"http://www.weather.go.kr/weather/lifenindustry/life_02.jsp\">\\xbb\\xea\\xbe\\xf7\\xb1\\xe2\\xbb\\xf3\\xc1\\xf6\\xbc\\xf6</a></li>\\r\\n\\t\\t\\t\\t\\t<li id=\"menu7-12-3\"><a href=\"http://www.weather.go.kr/weather/lifenindustry/life_03.jsp\">\\xba\\xb8\\xb0\\xc7\\xb1\\xe2\\xbb\\xf3\\xc1\\xf6\\xbc\\xf6</a></li>\\r\\n\\t\\t\\t\\t</ul>\\r\\n\\t\\t\\t</li>-->\\r\\n            <!-- 2015.01.30 -->\\r\\n\\t\\t\\t<li id=\"menu7-20\"><a class=\"section-sub\" href=\"http://www.weather.go.kr/weather/lifenindustry/life_jisu.jsp\"><span>\\xbb\\xfd\\xc8\\xb0\\xb1\\xe2\\xbb\\xf3\\xc1\\xa4\\xba\\xb8</span></a>\\r\\n\\t\\t\\t</li>\\r\\n\\t\\t\\t<li id=\"menu7-13\"><a class=\"section-sub\" href=\"https://data.kma.go.kr/data/grnd/selectAgrRltmList.do?pgmNo=72\" target=\"_blank\" title=\"\\xbb\\xf5 \\xc3\\xa2(\\xbf\\xad\\xb1\\xe2)\"><span>\\xb3\\xf3\\xbe\\xf7\\xb1\\xe2\\xbb\\xf3\\xc1\\xa4\\xba\\xb8<i>\\xbb\\xf5\\xc3\\xa2</i></span></a>\\r\\n\\t\\t\\t\\t<!--<ul>\\r\\n                    <li id=\"menu7-13-1\"><a href=\"http://www.weather.go.kr/weather/lifenindustry/industry_09.jsp\">\\xbc\\xf8\\xb3\\xf3\\xbe\\xf7\\xb1\\xe2\\xbb\\xf3\\xc1\\xa4\\xba\\xb8</a></li>\\r\\n\\t\\t\\t\\t\\t<li id=\"menu7-13-2\"><a href=\"http://www.weather.go.kr/weather/lifenindustry/pds_weekly.jsp\">\\xc1\\xd6\\xb0\\xa3\\xbb\\xea\\xbe\\xf7\\xb1\\xe2\\xbb\\xf3\\xc1\\xa4\\xba\\xb8</a></li> \\r\\n\\t\\t\\t\\t\\t<li id=\"menu7-13-2\"><a href=\"javascript:alert(\\'\\xc1\\xd6\\xb0\\xa3\\xbb\\xea\\xbe\\xf7\\xb1\\xe2\\xbb\\xf3\\xc1\\xa4\\xba\\xb8 \\xb8\\xde\\xb4\\xba \\xc1\\xa1\\xb0\\xcb\\xc1\\xdf \\xc0\\xd4\\xb4\\xcf\\xb4\\xd9.\\\\n\\\\n\\xbc\\xad\\xba\\xf1\\xbd\\xba\\xbf\\xa1 \\xba\\xd2\\xc6\\xed\\xc0\\xbb \\xb3\\xa2\\xc3\\xc4 \\xb5\\xe5\\xb7\\xc1 \\xc1\\xcb\\xbc\\xdb\\xc7\\xd5\\xb4\\xcf\\xb4\\xd9.\\\\n\\');\">\\xc1\\xd6\\xb0\\xa3\\xbb\\xea\\xbe\\xf7\\xb1\\xe2\\xbb\\xf3\\xc1\\xa4\\xba\\xb8</a></li> \\r\\n\\t\\t\\t\\t\\t<li id=\"menu7-13-3\"><a href=\"http://www.weather.go.kr/weather/lifenindustry/pds_monthly.jsp\">\\xbf\\xf9\\xb0\\xa3\\xbb\\xea\\xbe\\xf7\\xb1\\xe2\\xbb\\xf3\\xc1\\xa4\\xba\\xb8</a></li> \\r\\n                      <li id=\"menu7-13-3\"><a href=\"javascript:alert(\\'\\xbf\\xf9\\xb0\\xa3\\xbb\\xea\\xbe\\xf7\\xb1\\xe2\\xbb\\xf3\\xc1\\xa4\\xba\\xb8 \\xb8\\xde\\xb4\\xba \\xc1\\xa1\\xb0\\xcb\\xc1\\xdf \\xc0\\xd4\\xb4\\xcf\\xb4\\xd9.\\\\n\\\\n\\xbc\\xad\\xba\\xf1\\xbd\\xba\\xbf\\xa1 \\xba\\xd2\\xc6\\xed\\xc0\\xbb \\xb3\\xa2\\xc3\\xc4 \\xb5\\xe5\\xb7\\xc1 \\xc1\\xcb\\xbc\\xdb\\xc7\\xd5\\xb4\\xcf\\xb4\\xd9.\\\\n\\');\">\\xbf\\xf9\\xb0\\xa3\\xbb\\xea\\xbe\\xf7\\xb1\\xe2\\xbb\\xf3\\xc1\\xa4\\xba\\xb8</a></li> \\r\\n\\t\\t\\t\\t</ul>-->\\r\\n\\t\\t\\t</li>\\r\\n\\t\\t\\t<li id=\"menu7-5\"><a class=\"section-sub\" href=\"https://hydro.kma.go.kr\" target=\"_blank\" title=\"\\xbb\\xf5 \\xc3\\xa2(\\xbf\\xad\\xb1\\xe2)\"><span>\\xb0\\xa1\\xb9\\xb3\\xc1\\xa4\\xba\\xb8(\\xb0\\xad\\xbc\\xf6\\xc7\\xf6\\xc8\\xb2)<i>\\xbb\\xf5\\xc3\\xa2</i></span></a></li>\\r\\n\\t\\t\\t<!--<li id=\"menu7-8\"><a class=\"section-sub\" href=\"http://www.weather.go.kr/weather/lifenindustry/disaster_01.jsp\"><span>\\xb1\\xe2\\xbb\\xf3\\xc0\\xe7\\xc7\\xd8\\xc5\\xeb\\xb0\\xe8</span></a>\\r\\n\\t\\t\\t\\t<ul>\\r\\n\\t\\t\\t\\t\\t<li id=\"menu7-8-1\"><a href=\"http://www.weather.go.kr/weather/lifenindustry/disaster_01.jsp\">\\xb1\\xe2\\xbb\\xf3\\xc0\\xe7\\xc7\\xd8\\xc7\\xf6\\xc8\\xb2</a></li>\\r\\n\\t\\t\\t\\t\\t<li id=\"menu7-8-2\"><a href=\"http://www.weather.go.kr/weather/lifenindustry/disaster_03.jsp\">\\xb1\\xe2\\xbb\\xf3\\xc0\\xe7\\xc7\\xd8\\xbc\\xf8\\xc0\\xa7</a></li>\\r\\n\\t\\t\\t\\t\\t<li id=\"menu7-8-3\"><a href=\"http://www.weather.go.kr/weather/lifenindustry/disaster_04.jsp\">\\xc5\\xc2\\xc7\\xb3\\xc7\\xc7\\xc7\\xd8\\xbc\\xf8\\xc0\\xa7</a></li>\\r\\n\\t\\t\\t\\t\\t<li id=\"menu7-8-4\"><a href=\"http://www.safekorea.go.kr\" target=\"_blank\" title=\"\\xbb\\xf5 \\xc3\\xa2(\\xbf\\xad\\xb1\\xe2)\">\\xb1\\xb9\\xb9\\xce\\xc0\\xe7\\xb3\\xad\\xbe\\xc8\\xc0\\xfc\\xc6\\xf7\\xc5\\xbb<i>\\xbb\\xf5\\xc3\\xa2</i></a></li>\\r\\n\\t\\t\\t\\t\\t<li id=\"menu7-8-5\" class=\"twoline\"><a href=\"http://forestfire.nifos.go.kr\" target=\"_blank\" title=\"\\xbb\\xf5 \\xc3\\xa2(\\xbf\\xad\\xb1\\xe2)\">\\xbb\\xea\\xba\\xd2\\xc0\\xa7\\xc7\\xe8\\xbf\\xb9\\xba\\xb8\\xbd\\xc3\\xbd\\xba\\xc5\\xdb<br /><i>\\xbb\\xf5\\xc3\\xa2</i></a></li>\\r\\n\\t\\t\\t\\t</ul>\\r\\n\\t\\t\\t</li>-->\\r\\n            <li id=\"menu7-7\"><a class=\"section-sub\" href=\"http://www.weather.go.kr/weather/world/cityweather.jsp\"><span>\\xbc\\xbc\\xb0\\xe8\\xb3\\xaf\\xbe\\xbe</span></a></li>\\r\\n\\t\\t\\t<li id=\"menu7-9\"><a class=\"section-sub\" href=\"http://www.weather.go.kr/weather/lifenindustry/sevice_website.jsp\"><span>\\xbc\\xad\\xba\\xf1\\xbd\\xba</span></a>\\r\\n\\t\\t\\t\\t<ul>\\r\\n\\t\\t\\t\\t\\t<li id=\"menu7-9-1\"><a href=\"http://www.weather.go.kr/weather/lifenindustry/sevice_website.jsp\" class=\"on\">\\xc0\\xce\\xc5\\xcd\\xb3\\xdd</a></li>\\r\\n\\t\\t\\t\\t\\t<li id=\"menu7-9-2\"><a href=\"http://www.weather.go.kr/weather/lifenindustry/sevice_use.jsp\">\\xb8\\xf0\\xb9\\xd9\\xc0\\xcf</a></li>\\r\\n\\t\\t\\t\\t</ul>\\r\\n\\t\\t\\t</li>\\r\\n\\r\\n\\t\\t</ul>\\r\\n\\t</div>\\r\\n\\t<hr />\\r\\n<script>initSubmenuByMenuId(\"9\",\"10\",\"1\",\"\",\"\");</script>\\n\\t\\t\\t\\t\\t\\n\\t\\t\\t\\t\\n\\t\\t\\t\\t\\n\\t\\t\\t\\n\\t\\t\\t\\n\\t\\t\\t\\t\\n\\t\\t\\t\\t\\n\\t\\t\\t\\n\\t\\t\\t<div id=\"wrap_content\" class=\"width2\">\\n\\t\\t\\t\\t\\n\\t\\t\\t\\t\\t\\n\\t\\t\\t\\t\\t\\n\\t\\t\\t\\t\\t\\n\\t\\t\\t\\t\\t\\t\\n\\t\\t\\t\\t\\t\\t\\t\\n\\t\\t\\t\\t\\t\\t\\t\\t\\r\\n\\r\\n<p id=\"location\"><a href=\"/weather/main.jsp\">\\xc8\\xa8</a>\\r\\n\\r\\n\\t\\r\\n\\r\\n\\t\\r\\n\\t\\t\\r\\n\\t\\t\\r\\n\\t\\t\\t\\r\\n\\t\\t\\t\\t &#62;  <a href=\"/weather/lifenindustry/life_jisu.jsp\">\\xbb\\xfd\\xc8\\xb0\\xb0\\xfa \\xbb\\xea\\xbe\\xf7</a>\\r\\n\\t\\t\\t\\r\\n\\t\\t\\t\\r\\n\\t\\t\\r\\n\\t\\r\\n\\r\\n\\t\\r\\n\\t\\t\\r\\n\\t\\t\\r\\n\\t\\t\\t\\r\\n\\t\\t\\t\\t &#62;  <a href=\"/weather/lifenindustry/sevice_website.jsp\">\\xbc\\xad\\xba\\xf1\\xbd\\xba</a>\\r\\n\\t\\t\\t\\r\\n\\t\\t\\t\\r\\n\\t\\t\\r\\n\\t\\r\\n\\r\\n\\t\\r\\n\\t\\t\\r\\n\\t\\t\\r\\n\\t\\t\\t\\r\\n\\t\\t\\t\\t &#62;  <a href=\"/weather/lifenindustry/sevice_website.jsp\">\\xc0\\xce\\xc5\\xcd\\xb3\\xdd</a>\\r\\n\\t\\t\\t\\r\\n\\t\\t\\t\\r\\n\\t\\t\\r\\n\\t\\r\\n\\r\\n\\t\\r\\n\\t\\t\\r\\n\\t\\t\\r\\n\\t\\t\\t\\r\\n\\t\\t\\t\\r\\n\\t\\t\\t\\t &#62;  <strong id=\"leaf-page-title\">RSS</strong>\\r\\n\\t\\t\\t\\r\\n\\t\\t\\r\\n\\t\\r\\n\\r\\n<span style=\"display:none\" id=\"location_text\">|\\xb3\\xaf\\xbe\\xbe|\\xbb\\xfd\\xc8\\xb0\\xb0\\xfa \\xbb\\xea\\xbe\\xf7|\\xbc\\xad\\xba\\xf1\\xbd\\xba|\\xc0\\xce\\xc5\\xcd\\xb3\\xdd|RSS</span>\\r\\n</p>\\n\\t\\t\\t\\t\\t\\t\\t\\n\\t\\t\\t\\t\\t\\t\\t\\n\\t\\t\\t\\t\\t\\t\\t\\n\\t\\t\\t\\t\\t\\t\\n\\t\\t\\t\\t\\t\\n\\t\\t\\t\\t\\n\\t\\t\\t\\t<div id=\"title\">\\n\\t\\t\\t\\t\\t<h4>\\xbc\\xad\\xba\\xf1\\xbd\\xba</h4>\\n\\t\\t\\t\\t\\t<h5>\\xc0\\xce\\xc5\\xcd\\xb3\\xdd</h5>\\n\\t\\t\\t\\t\\t\\n\\t\\t\\t\\t\\t\\r\\n\\r\\n\\r\\n<script>\\r\\n//<!--\\r\\n\\t\\r\\n\\t\\tfunction goScrap(){\\r\\n\\t\\t\\tvar scrapForm=document.scrapForm;\\r\\n\\t\\t\\tif(confirm(\"\\'\"+scrapForm.title1.value+\"\\'\\xc0\\xc7 \\'\"+scrapForm.title2.value+\"\\' \\xc6\\xe4\\xc0\\xcc\\xc1\\xf6\\xb8\\xa6 \\xbd\\xba\\xc5\\xa9\\xb7\\xa6 \\xc7\\xcf\\xbd\\xc3\\xb0\\xda\\xbd\\xc0\\xb4\\xcf\\xb1\\xee?\")==true){\\r\\n\\t\\t\\t\\tvar scrapUrl = scrapForm.scrapUrl.value;\\r\\n\\t\\t\\t\\tif (scrapUrl.indexOf(\"/weather/\") == 0 )\\r\\n\\t\\t\\t\\t{\\r\\n\\t\\t\\t\\t\\tscrapForm.scrapUrl.value = scrapUrl.replace(\"/weather/\",\"http://www.kma.go.kr/weather/\");\\r\\n\\t\\t\\t\\t}\\r\\n\\t\\t\\t\\treturn true;\\r\\n\\t\\t\\t}else{\\r\\n\\t\\t\\t\\treturn false;\\r\\n\\t\\t\\t}\\r\\n\\t\\t}\\r\\n\\t\\r\\n\\tfunction getPrintParam() {\\r\\n\\t\\tvar $btn = $(\\'#global-btn-print\\');\\r\\n\\t\\tvar paramName = $btn.attr(\\'data-param-name\\');\\r\\n\\t\\tvar paramValue = $btn.attr(\\'data-param-value\\');\\r\\n\\t\\tif(paramName && paramValue) {\\r\\n\\t\\t\\treturn \"&\" + paramName + \"=\" + paramValue;\\r\\n\\t\\t} else {\\r\\n\\t\\t\\treturn \"\";\\r\\n\\t\\t}\\r\\n\\t}\\r\\n//-->\\r\\n</script>\\t\\t\\t\\t\\r\\n\\t\\t\\t\\t\\r\\n\\t\\t\\t\\t<ul class=\"button\">\\r\\n\\t\\t\\t\\t\\t\\r\\n\\t\\t\\t\\t\\t\\r\\n\\t\\t\\t\\t\\t\\r\\n\\t\\t\\t\\t\\t\\r\\n\\t\\t\\t\\t\\t<!-- \\xb9\\xf6\\xc6\\xb0\\xc3\\xdf\\xb0\\xa1\\xbd\\xc3\\xc0\\xdb -->\\r\\n\\t\\t\\t\\t\\t\\r\\n\\t\\t\\t\\t\\t<!-- \\xb9\\xf6\\xc6\\xb0\\xc3\\xdf\\xb0\\xa1\\xb3\\xa1 -->\\r\\n\\t\\t\\t\\t\\t\\r\\n\\t\\t\\t\\t\\t\\r\\n\\t\\t\\t\\t\\t<li><a href=\"/weather/lifenindustry/sevice_rss.jsp?printable=true&amp;stnld=109\" target=\"_blank\" onclick=\"window.open(this.href + getPrintParam(),\\'helpwindow\\',\\'width=933px, height=703px, scrollbars=yes, resizable=yes\\'); return false;\" title=\"\\xbb\\xf5\\xc3\\xa2\\xbf\\xa1\\xbc\\xad \\xbf\\xad\\xb8\\xb2\" id=\"global-btn-print\"><img src=\"/images/common/btn_print.gif\" alt=\"\\xc0\\xce\\xbc\\xe2\\xc7\\xcf\\xb1\\xe2\" /></a></li>\\r\\n\\t\\t\\t\\t</ul>\\n\\t\\t\\t\\t</div>\\n\\t\\t\\t\\t\\n\\t\\t\\t\\t\\t\\n\\t\\t\\t\\t\\t\\t<div id=\"content_weather\"><a id=\"content\"></a>\\n\\t\\t\\t\\t\\t\\n\\t\\t\\t\\t\\t\\n\\t\\t\\t\\t\\n\\t\\t\\t\\t\\n\\t\\t\\t\\t\\n\\t\\t\\t\\t\\t\\r\\n\\t\\t<!-- content :Start -->\\r\\n   <p class=\"bx_summary\">RSS \\xbc\\xad\\xba\\xf1\\xbd\\xba\\xbf\\xa1\\xbc\\xad \\xc1\\xa6\\xb0\\xf8\\xc7\\xcf\\xb4\\xc2 \\xb1\\xe2\\xbb\\xf3 \\xc0\\xda\\xb7\\xe1\\xb4\\xc2 \\xb1\\xe2\\xbb\\xf3\\xc3\\xbb\\xc0\\xc7 \\xb1\\xe2\\xbb\\xf3\\xc0\\xda\\xb7\\xe1 \\xc1\\xa6\\xb0\\xf8 \\xc1\\xa4\\xc3\\xa5\\xbf\\xa1 \\xb5\\xfb\\xb6\\xf3 \\xc0\\xda\\xb7\\xe1 \\xc7\\xfc\\xbd\\xc4 \\xba\\xaf\\xb0\\xe6 \\xc8\\xa4\\xc0\\xba \\xc1\\xdf\\xb4\\xdc\\xb5\\xc9 \\xbc\\xf6 \\xc0\\xd6\\xc0\\xb8\\xb8\\xe7\\r\\n      <br />\\r\\n      \\xc0\\xcc \\xb0\\xe6\\xbf\\xec \\xb1\\xe2\\xbb\\xf3\\xc3\\xbb \\xc8\\xa8\\xc6\\xe4\\xc0\\xcc\\xc1\\xf6\\xb8\\xa6 \\xc5\\xeb\\xc7\\xcf\\xbf\\xa9 \\xbb\\xe7\\xc0\\xfc \\xb0\\xf8\\xc1\\xf6\\xb5\\xcb\\xb4\\xcf\\xb4\\xd9.(\\xc0\\xcc\\xbf\\xeb\\xc1\\xb6\\xb0\\xc7: \\xc3\\xe2\\xc3\\xb3\\xc7\\xa5\\xbd\\xc3)\\r\\n      <br />\\r\\n      \\xb6\\xc7\\xc7\\xd1, \\xb1\\xe2\\xc1\\xb8 XML \\xc7\\xfc\\xbd\\xc4\\xc0\\xc7 \\xc0\\xda\\xb7\\xe1 \\xc1\\xa6\\xb0\\xf8 \\xbc\\xad\\xba\\xf1\\xbd\\xba\\xb4\\xc2 \\xb1\\xb9\\xb0\\xa1 \\xc1\\xa4\\xba\\xb8\\xc8\\xad \\xc1\\xa4\\xc3\\xa5 \\xb1\\xe2\\xc1\\xb6\\xbf\\xa1 \\xb5\\xfb\\xb6\\xf3 \\r\\n\\xbe\\xd5\\xc0\\xb8\\xb7\\xce\\xb5\\xb5 \\xb0\\xe8\\xbc\\xd3  \\xc1\\xa6\\xb0\\xf8\\xb5\\xc9 \\xbf\\xb9\\xc1\\xa4\\xc0\\xd4\\xb4\\xcf\\xb4\\xd9. <br />\\r\\n(\\xb9\\xae\\xc0\\xc7: webmasterkma@korea.kr)\\r\\n<br />\\r\\n</p>\\r\\n\\r\\n\\t\\t\\r\\n\\t\\t<ul id=\"common_tab\" class=\"cmn-tab\">\\r\\n\\t\\t\\t<li><a href=\"sevice_website.jsp\"><span>&nbsp; \\xc0\\xa5 &nbsp;</span></a></li>\\r\\n\\t\\t\\t<li><a href=\"sevice_rss.jsp\"><span>&nbsp;&nbsp;RSS&nbsp;&nbsp;</span></a></li>\\r\\n\\t\\t\\t<li><a href=\"sevice_widget.jsp\"><span>\\xb3\\xaf\\xbe\\xbe\\xc0\\xa7\\xc1\\xac</span></a></li>\\r\\n\\t\\t</ul>\\r\\n\\t<script>initImgEffect(\"common_tab\",\\'1\\');</script>\\r\\n\\t\\t<h6 class=\"h6\">RSS\\xb6\\xf5?</h6>\\r\\n\\t\\t<p>RSS(Really Simple Syndication, Rich Site Summary)\\xb6\\xf5 \\xba\\xed\\xb7\\xce\\xb1\\xd7\\xc3\\xb3\\xb7\\xb3 \\xc4\\xc1\\xc5\\xd9\\xc3\\xf7 \\xbe\\xf7\\xb5\\xa5\\xc0\\xcc\\xc6\\xae\\xb0\\xa1 \\xc0\\xda\\xc1\\xd6 \\xc0\\xcf\\xbe\\xee\\xb3\\xaa\\xb4\\xc2 \\xc0\\xa5\\xbb\\xe7\\xc0\\xcc\\xc6\\xae\\xbf\\xa1\\xbc\\xad, \\xbe\\xf7\\xb5\\xa5\\xc0\\xcc\\xc6\\xae\\xb5\\xc8 \\xc1\\xa4\\xba\\xb8\\xb8\\xa6 \\xbd\\xb1\\xb0\\xd4 \\xb1\\xb8\\xb5\\xb6\\xc0\\xda\\xb5\\xe9\\xbf\\xa1\\xb0\\xd4 \\xc1\\xa6\\xb0\\xf8\\xc7\\xcf\\xb1\\xe2 \\xc0\\xa7\\xc7\\xd8 XML\\xc0\\xbb \\xb1\\xe2\\xc3\\xca\\xb7\\xce \\xb8\\xb8\\xb5\\xe9\\xbe\\xee\\xc1\\xf8 \\xb5\\xa5\\xc0\\xcc\\xc5\\xcd \\xc7\\xfc\\xbd\\xc4\\xc0\\xd4\\xb4\\xcf\\xb4\\xd9. RSS\\xbc\\xad\\xba\\xf1\\xbd\\xba\\xb8\\xa6 \\xc0\\xcc\\xbf\\xeb\\xc7\\xcf\\xb8\\xe9 \\xbe\\xf7\\xb5\\xa5\\xc0\\xcc\\xc6\\xae\\xb5\\xc8 \\xc1\\xa4\\xba\\xb8\\xb8\\xa6 \\xc3\\xa3\\xb1\\xe2 \\xc0\\xa7\\xc7\\xd8 \\xc8\\xa8\\xc6\\xe4\\xc0\\xcc\\xc1\\xf6\\xbf\\xa1 \\xc0\\xcf\\xc0\\xcf\\xc0\\xcc \\xb9\\xe6\\xb9\\xae\\xc7\\xcf\\xc1\\xf6 \\xbe\\xca\\xbe\\xc6\\xb5\\xb5 \\xbe\\xf7\\xb5\\xa5\\xc0\\xcc\\xc6\\xae \\xb5\\xc9 \\xb6\\xa7\\xb8\\xb6\\xb4\\xd9 \\xba\\xfc\\xb8\\xa3\\xb0\\xed \\xc6\\xed\\xb8\\xae\\xc7\\xcf\\xb0\\xd4 \\xc8\\xae\\xc0\\xce\\xc7\\xd2 \\xbc\\xf6 \\xc0\\xd6\\xbd\\xc0\\xb4\\xcf\\xb4\\xd9.</p>\\r\\n\\t\\t<h6 class=\"h6 MT25\">RSS \\xbc\\xad\\xba\\xf1\\xbd\\xba \\xc0\\xcc\\xbf\\xeb\\xc7\\xcf\\xb1\\xe2</h6>\\r\\n\\t\\t<ul class=\"ul_img_al\">\\r\\n\\t\\t\\t<li><img src=\"../../images/weather/lifenindustry/img_sw_10_3_1.gif\" alt=\"RSS\\xb8\\xae\\xb4\\xf5\\xb1\\xe2 \\xbc\\xb3\\xc4\\xa1\" /></li>\\r\\n\\t\\t\\t<li><img src=\"../../images/weather/lifenindustry/img_sw_10_3_2.gif\" alt=\"\\xb1\\xb8\\xb5\\xb6\\xc0\\xbb \\xbf\\xf8\\xc7\\xcf\\xb4\\xc2 \\xc1\\xa4\\xba\\xb8\\xc0\\xc7 RSS\\xc1\\xd6\\xbc\\xd2 \\xba\\xb9\\xbb\\xe7 \" /></li>\\r\\n\\t\\t\\t<li><img src=\"../../images/weather/lifenindustry/img_sw_10_3_3.gif\" alt=\"\\xba\\xb9\\xbb\\xe7\\xb5\\xc8 RSS\\xc1\\xd6\\xbc\\xd2\\xb8\\xa6 RSS \\xb8\\xae\\xb4\\xf5\\xb1\\xe2\\xbf\\xa1 \\xc3\\xdf\\xb0\\xa1\" /></li>\\r\\n\\t\\t\\t<li><img src=\"../../images/weather/lifenindustry/img_sw_10_3_4.gif\" alt=\"RSS\\xb8\\xae\\xb4\\xf5\\xb1\\xe2\\xb8\\xa6 \\xc5\\xeb\\xc7\\xd8 \\xbd\\xc7\\xbd\\xc3\\xb0\\xa3\\xc0\\xb8\\xb7\\xce \\xc1\\xa4\\xba\\xb8\\xb8\\xa6 \\xc8\\xae\\xc0\\xce\" /></li>\\r\\n\\t\\t</ul>\\r\\n\\t\\t\\r\\n\\t\\t<h6 class=\"h6 MT25\">\\xb5\\xbf\\xb3\\xd7\\xbf\\xb9\\xba\\xb8 &gt; \\xbd\\xc3\\xb0\\xa3\\xba\\xb0\\xbf\\xb9\\xba\\xb8</h6>\\r\\n\\t\\t\\r\\n\\r\\n\\r\\n<!--\\xb5\\xbf\\xb3\\xd7\\xbf\\xb9\\xba\\xb8 rss \\xbd\\xc3\\xc0\\xdb-->\\r\\n<table summary=\"\\xb5\\xbf\\xb3\\xd7\\xbf\\xb9\\xba\\xb8 \\xbc\\xad\\xba\\xf1\\xbd\\xba\\xc5\\xd7\\xc0\\xcc\\xba\\xed\\xb7\\xce rss\\xb9\\xf6\\xc6\\xb0\\xc0\\xb8\\xb7\\xce \\xc1\\xd6\\xbc\\xd2\\xb8\\xa6 \\xba\\xb9\\xbb\\xe7\\xc7\\xd2\\xbc\\xf6 \\xc0\\xd6\\xbd\\xc0\\xb4\\xcf\\xb4\\xd9.\" class=\"gary_line\">\\r\\n<caption>\\xb5\\xbf\\xb3\\xd7 \\xbc\\xb1\\xc5\\xc3 \\xb9\\xd7 RSS \\xb8\\xb5\\xc5\\xa9</caption>\\r\\n\\t\\t\\t<tbody>\\r\\n\\t\\t\\t\\t<tr>\\r\\n\\t\\t\\t\\t\\t<th scope=\"row\" width=\"13%\">\\xb5\\xbf\\xb3\\xd7\\xbf\\xb9\\xba\\xb8</th>\\r\\n\\t\\t\\t\\t\\t<td><form name=\"distibution_search\" method=\"get\" action=\"/weather/lifenindustry/sevice_rss.jsp\" >\\r\\n\\t\\t\\t\\t<fieldset class=\"MR5\">\\r\\n\\t\\t\\t\\t\\t<legend class=\"blind\">\\xbb\\xf3\\xbc\\xbc\\xc1\\xf6\\xbf\\xaa\\xb0\\xcb\\xbb\\xf6 \\xb9\\xd7 \\xb3\\xbb\\xc1\\xf6\\xbf\\xaa\\xbc\\xb3\\xc1\\xa4</legend>\\r\\n\\t\\t\\t\\t\\t<!--<img src=\"../../images/weather/forecast/img_select_area.gif\" alt=\"\\xc1\\xf6\\xbf\\xaa\\xbc\\xb1\\xc5\\xc3\" class=\"text\" />-->\\r\\n\\t\\t\\t\\t\\t<label for=\"search_area\" class=\"blind\">\\xbd\\xc3\\xb5\\xb5 \\xbc\\xb1\\xc5\\xc3</label>\\r\\n\\t\\t\\t\\t\\t<select name=\"sido\" id=\"search_area\" class=\"search_area\" title=\"\\xbd\\xc3\\xb5\\xb5 \\xbc\\xb1\\xc5\\xc3\">\\r\\n\\t\\t\\t\\t\\t\\t\\r\\n\\t\\t\\t\\t\\t\\t\\t\\r\\n\\t\\t\\t\\t\\t\\t\\t<option value=\"4200000000\" >\\xb0\\xad\\xbf\\xf8\\xb5\\xb5</option>\\r\\n\\t\\t\\t\\t\\t\\t\\t\\r\\n\\t\\t\\t\\t\\t\\t\\r\\n\\t\\t\\t\\t\\t\\t\\t\\r\\n\\t\\t\\t\\t\\t\\t\\t<option value=\"4100000000\" >\\xb0\\xe6\\xb1\\xe2\\xb5\\xb5</option>\\r\\n\\t\\t\\t\\t\\t\\t\\t\\r\\n\\t\\t\\t\\t\\t\\t\\r\\n\\t\\t\\t\\t\\t\\t\\t\\r\\n\\t\\t\\t\\t\\t\\t\\t<option value=\"4800000000\" >\\xb0\\xe6\\xbb\\xf3\\xb3\\xb2\\xb5\\xb5</option>\\r\\n\\t\\t\\t\\t\\t\\t\\t\\r\\n\\t\\t\\t\\t\\t\\t\\r\\n\\t\\t\\t\\t\\t\\t\\t\\r\\n\\t\\t\\t\\t\\t\\t\\t<option value=\"4700000000\" >\\xb0\\xe6\\xbb\\xf3\\xba\\xcf\\xb5\\xb5</option>\\r\\n\\t\\t\\t\\t\\t\\t\\t\\r\\n\\t\\t\\t\\t\\t\\t\\r\\n\\t\\t\\t\\t\\t\\t\\t\\r\\n\\t\\t\\t\\t\\t\\t\\t<option value=\"2900000000\" >\\xb1\\xa4\\xc1\\xd6\\xb1\\xa4\\xbf\\xaa\\xbd\\xc3</option>\\r\\n\\t\\t\\t\\t\\t\\t\\t\\r\\n\\t\\t\\t\\t\\t\\t\\r\\n\\t\\t\\t\\t\\t\\t\\t\\r\\n\\t\\t\\t\\t\\t\\t\\t<option value=\"2700000000\" >\\xb4\\xeb\\xb1\\xb8\\xb1\\xa4\\xbf\\xaa\\xbd\\xc3</option>\\r\\n\\t\\t\\t\\t\\t\\t\\t\\r\\n\\t\\t\\t\\t\\t\\t\\r\\n\\t\\t\\t\\t\\t\\t\\t\\r\\n\\t\\t\\t\\t\\t\\t\\t<option value=\"3000000000\" >\\xb4\\xeb\\xc0\\xfc\\xb1\\xa4\\xbf\\xaa\\xbd\\xc3</option>\\r\\n\\t\\t\\t\\t\\t\\t\\t\\r\\n\\t\\t\\t\\t\\t\\t\\r\\n\\t\\t\\t\\t\\t\\t\\t\\r\\n\\t\\t\\t\\t\\t\\t\\t<option value=\"2600000000\" >\\xba\\xce\\xbb\\xea\\xb1\\xa4\\xbf\\xaa\\xbd\\xc3</option>\\r\\n\\t\\t\\t\\t\\t\\t\\t\\r\\n\\t\\t\\t\\t\\t\\t\\r\\n\\t\\t\\t\\t\\t\\t\\t\\r\\n\\t\\t\\t\\t\\t\\t\\t<option value=\"1100000000\" selected=\"selected\">\\xbc\\xad\\xbf\\xef\\xc6\\xaf\\xba\\xb0\\xbd\\xc3</option>\\r\\n\\t\\t\\t\\t\\t\\t\\t\\r\\n\\t\\t\\t\\t\\t\\t\\r\\n\\t\\t\\t\\t\\t\\t\\t\\r\\n\\t\\t\\t\\t\\t\\t\\t<option value=\"3600000000\" >\\xbc\\xbc\\xc1\\xbe\\xc6\\xaf\\xba\\xb0\\xc0\\xda\\xc4\\xa1\\xbd\\xc3</option>\\r\\n\\t\\t\\t\\t\\t\\t\\t\\r\\n\\t\\t\\t\\t\\t\\t\\r\\n\\t\\t\\t\\t\\t\\t\\t\\r\\n\\t\\t\\t\\t\\t\\t\\t<option value=\"3100000000\" >\\xbf\\xef\\xbb\\xea\\xb1\\xa4\\xbf\\xaa\\xbd\\xc3</option>\\r\\n\\t\\t\\t\\t\\t\\t\\t\\r\\n\\t\\t\\t\\t\\t\\t\\r\\n\\t\\t\\t\\t\\t\\t\\t\\r\\n\\t\\t\\t\\t\\t\\t\\t<option value=\"2800000000\" >\\xc0\\xce\\xc3\\xb5\\xb1\\xa4\\xbf\\xaa\\xbd\\xc3</option>\\r\\n\\t\\t\\t\\t\\t\\t\\t\\r\\n\\t\\t\\t\\t\\t\\t\\r\\n\\t\\t\\t\\t\\t\\t\\t\\r\\n\\t\\t\\t\\t\\t\\t\\t<option value=\"4600000000\" >\\xc0\\xfc\\xb6\\xf3\\xb3\\xb2\\xb5\\xb5</option>\\r\\n\\t\\t\\t\\t\\t\\t\\t\\r\\n\\t\\t\\t\\t\\t\\t\\r\\n\\t\\t\\t\\t\\t\\t\\t\\r\\n\\t\\t\\t\\t\\t\\t\\t<option value=\"4500000000\" >\\xc0\\xfc\\xb6\\xf3\\xba\\xcf\\xb5\\xb5</option>\\r\\n\\t\\t\\t\\t\\t\\t\\t\\r\\n\\t\\t\\t\\t\\t\\t\\r\\n\\t\\t\\t\\t\\t\\t\\t\\r\\n\\t\\t\\t\\t\\t\\t\\t<option value=\"5000000000\" >\\xc1\\xa6\\xc1\\xd6\\xc6\\xaf\\xba\\xb0\\xc0\\xda\\xc4\\xa1\\xb5\\xb5</option>\\r\\n\\t\\t\\t\\t\\t\\t\\t\\r\\n\\t\\t\\t\\t\\t\\t\\r\\n\\t\\t\\t\\t\\t\\t\\t\\r\\n\\t\\t\\t\\t\\t\\t\\t<option value=\"4400000000\" >\\xc3\\xe6\\xc3\\xbb\\xb3\\xb2\\xb5\\xb5</option>\\r\\n\\t\\t\\t\\t\\t\\t\\t\\r\\n\\t\\t\\t\\t\\t\\t\\r\\n\\t\\t\\t\\t\\t\\t\\t\\r\\n\\t\\t\\t\\t\\t\\t\\t<option value=\"4300000000\" >\\xc3\\xe6\\xc3\\xbb\\xba\\xcf\\xb5\\xb5</option>\\r\\n\\t\\t\\t\\t\\t\\t\\t\\r\\n\\t\\t\\t\\t\\t\\t\\r\\n\\t\\t\\t\\t\\t</select>\\r\\n\\t\\t\\t\\t\\t<input type=\"image\" src=\"../../images/weather/forecast/btn_search.gif\" alt=\"\\xb0\\xcb\\xbb\\xf6\" class=\"ml2\" />\\r\\n\\t\\t\\t\\t\\t<label for=\"search_area2\" class=\"blind\">\\xb1\\xb8\\xb1\\xba \\xbc\\xb1\\xc5\\xc3</label>\\r\\n\\t\\t\\t\\t\\t<select name=\"gugun\" id=\"search_area2\" class=\"search_area\" title=\"\\xb1\\xb8\\xb1\\xba \\xbc\\xb1\\xc5\\xc3\">\\r\\n\\t\\t\\t\\t\\t\\t\\r\\n\\t\\t\\t\\t\\t\\t\\t<option value=\"1168000000\" >\\xb0\\xad\\xb3\\xb2\\xb1\\xb8</option>\\r\\n\\t\\t\\t\\t\\t\\t\\r\\n\\t\\t\\t\\t\\t\\t\\t<option value=\"1174000000\" >\\xb0\\xad\\xb5\\xbf\\xb1\\xb8</option>\\r\\n\\t\\t\\t\\t\\t\\t\\r\\n\\t\\t\\t\\t\\t\\t\\t<option value=\"1130500000\" >\\xb0\\xad\\xba\\xcf\\xb1\\xb8</option>\\r\\n\\t\\t\\t\\t\\t\\t\\r\\n\\t\\t\\t\\t\\t\\t\\t<option value=\"1150000000\" >\\xb0\\xad\\xbc\\xad\\xb1\\xb8</option>\\r\\n\\t\\t\\t\\t\\t\\t\\r\\n\\t\\t\\t\\t\\t\\t\\t<option value=\"1162000000\" >\\xb0\\xfc\\xbe\\xc7\\xb1\\xb8</option>\\r\\n\\t\\t\\t\\t\\t\\t\\r\\n\\t\\t\\t\\t\\t\\t\\t<option value=\"1121500000\" >\\xb1\\xa4\\xc1\\xf8\\xb1\\xb8</option>\\r\\n\\t\\t\\t\\t\\t\\t\\r\\n\\t\\t\\t\\t\\t\\t\\t<option value=\"1153000000\" >\\xb1\\xb8\\xb7\\xce\\xb1\\xb8</option>\\r\\n\\t\\t\\t\\t\\t\\t\\r\\n\\t\\t\\t\\t\\t\\t\\t<option value=\"1154500000\" >\\xb1\\xdd\\xc3\\xb5\\xb1\\xb8</option>\\r\\n\\t\\t\\t\\t\\t\\t\\r\\n\\t\\t\\t\\t\\t\\t\\t<option value=\"1135000000\" >\\xb3\\xeb\\xbf\\xf8\\xb1\\xb8</option>\\r\\n\\t\\t\\t\\t\\t\\t\\r\\n\\t\\t\\t\\t\\t\\t\\t<option value=\"1132000000\" >\\xb5\\xb5\\xba\\xc0\\xb1\\xb8</option>\\r\\n\\t\\t\\t\\t\\t\\t\\r\\n\\t\\t\\t\\t\\t\\t\\t<option value=\"1123000000\" >\\xb5\\xbf\\xb4\\xeb\\xb9\\xae\\xb1\\xb8</option>\\r\\n\\t\\t\\t\\t\\t\\t\\r\\n\\t\\t\\t\\t\\t\\t\\t<option value=\"1159000000\" selected=\"selected\">\\xb5\\xbf\\xc0\\xdb\\xb1\\xb8</option>\\r\\n\\t\\t\\t\\t\\t\\t\\r\\n\\t\\t\\t\\t\\t\\t\\t<option value=\"1144000000\" >\\xb8\\xb6\\xc6\\xf7\\xb1\\xb8</option>\\r\\n\\t\\t\\t\\t\\t\\t\\r\\n\\t\\t\\t\\t\\t\\t\\t<option value=\"1141000000\" >\\xbc\\xad\\xb4\\xeb\\xb9\\xae\\xb1\\xb8</option>\\r\\n\\t\\t\\t\\t\\t\\t\\r\\n\\t\\t\\t\\t\\t\\t\\t<option value=\"1165000000\" >\\xbc\\xad\\xc3\\xca\\xb1\\xb8</option>\\r\\n\\t\\t\\t\\t\\t\\t\\r\\n\\t\\t\\t\\t\\t\\t\\t<option value=\"1120000000\" >\\xbc\\xba\\xb5\\xbf\\xb1\\xb8</option>\\r\\n\\t\\t\\t\\t\\t\\t\\r\\n\\t\\t\\t\\t\\t\\t\\t<option value=\"1129000000\" >\\xbc\\xba\\xba\\xcf\\xb1\\xb8</option>\\r\\n\\t\\t\\t\\t\\t\\t\\r\\n\\t\\t\\t\\t\\t\\t\\t<option value=\"1171000000\" >\\xbc\\xdb\\xc6\\xc4\\xb1\\xb8</option>\\r\\n\\t\\t\\t\\t\\t\\t\\r\\n\\t\\t\\t\\t\\t\\t\\t<option value=\"1147000000\" >\\xbe\\xe7\\xc3\\xb5\\xb1\\xb8</option>\\r\\n\\t\\t\\t\\t\\t\\t\\r\\n\\t\\t\\t\\t\\t\\t\\t<option value=\"1156000000\" >\\xbf\\xb5\\xb5\\xee\\xc6\\xf7\\xb1\\xb8</option>\\r\\n\\t\\t\\t\\t\\t\\t\\r\\n\\t\\t\\t\\t\\t\\t\\t<option value=\"1117000000\" >\\xbf\\xeb\\xbb\\xea\\xb1\\xb8</option>\\r\\n\\t\\t\\t\\t\\t\\t\\r\\n\\t\\t\\t\\t\\t\\t\\t<option value=\"1138000000\" >\\xc0\\xba\\xc6\\xf2\\xb1\\xb8</option>\\r\\n\\t\\t\\t\\t\\t\\t\\r\\n\\t\\t\\t\\t\\t\\t\\t<option value=\"1111000000\" >\\xc1\\xbe\\xb7\\xce\\xb1\\xb8</option>\\r\\n\\t\\t\\t\\t\\t\\t\\r\\n\\t\\t\\t\\t\\t\\t\\t<option value=\"1114000000\" >\\xc1\\xdf\\xb1\\xb8</option>\\r\\n\\t\\t\\t\\t\\t\\t\\r\\n\\t\\t\\t\\t\\t\\t\\t<option value=\"1126000000\" >\\xc1\\xdf\\xb6\\xfb\\xb1\\xb8</option>\\r\\n\\t\\t\\t\\t\\t\\t\\r\\n\\t\\t\\t\\t\\t</select>\\r\\n\\t\\t\\t\\t\\t<input type=\"image\" src=\"../../images/weather/forecast/btn_search.gif\" alt=\"\\xb0\\xcb\\xbb\\xf6\" class=\"ml2\" />\\r\\n\\t\\t\\t\\t\\t<label for=\"search_area3\" class=\"blind\">\\xc0\\xbe\\xb8\\xe9\\xb5\\xbf \\xbc\\xb1\\xc5\\xc3</label>\\r\\n\\t\\t\\t\\t\\t<select name=\"dong\" id=\"search_area3\" class=\"search_area\" title=\"\\xc0\\xbe\\xb8\\xe9\\xb5\\xbf \\xbc\\xb1\\xc5\\xc3\">\\r\\n\\t\\t\\t\\t\\t\\t\\r\\n\\t\\t\\t\\t\\t\\t\\t<option value=\"1159051000\" >\\xb3\\xeb\\xb7\\xae\\xc1\\xf8\\xc1\\xa61\\xb5\\xbf</option>\\r\\n\\t\\t\\t\\t\\t\\t\\r\\n\\t\\t\\t\\t\\t\\t\\t<option value=\"1159052000\" >\\xb3\\xeb\\xb7\\xae\\xc1\\xf8\\xc1\\xa62\\xb5\\xbf</option>\\r\\n\\t\\t\\t\\t\\t\\t\\r\\n\\t\\t\\t\\t\\t\\t\\t<option value=\"1159066000\" >\\xb4\\xeb\\xb9\\xe6\\xb5\\xbf</option>\\r\\n\\t\\t\\t\\t\\t\\t\\r\\n\\t\\t\\t\\t\\t\\t\\t<option value=\"1159062000\" >\\xbb\\xe7\\xb4\\xe7\\xc1\\xa61\\xb5\\xbf</option>\\r\\n\\t\\t\\t\\t\\t\\t\\r\\n\\t\\t\\t\\t\\t\\t\\t<option value=\"1159063000\" >\\xbb\\xe7\\xb4\\xe7\\xc1\\xa62\\xb5\\xbf</option>\\r\\n\\t\\t\\t\\t\\t\\t\\r\\n\\t\\t\\t\\t\\t\\t\\t<option value=\"1159064000\" >\\xbb\\xe7\\xb4\\xe7\\xc1\\xa63\\xb5\\xbf</option>\\r\\n\\t\\t\\t\\t\\t\\t\\r\\n\\t\\t\\t\\t\\t\\t\\t<option value=\"1159065000\" >\\xbb\\xe7\\xb4\\xe7\\xc1\\xa64\\xb5\\xbf</option>\\r\\n\\t\\t\\t\\t\\t\\t\\r\\n\\t\\t\\t\\t\\t\\t\\t<option value=\"1159065100\" >\\xbb\\xe7\\xb4\\xe7\\xc1\\xa65\\xb5\\xbf</option>\\r\\n\\t\\t\\t\\t\\t\\t\\r\\n\\t\\t\\t\\t\\t\\t\\t<option value=\"1159053000\" >\\xbb\\xf3\\xb5\\xb5\\xc1\\xa61\\xb5\\xbf</option>\\r\\n\\t\\t\\t\\t\\t\\t\\r\\n\\t\\t\\t\\t\\t\\t\\t<option value=\"1159054000\" >\\xbb\\xf3\\xb5\\xb5\\xc1\\xa62\\xb5\\xbf</option>\\r\\n\\t\\t\\t\\t\\t\\t\\r\\n\\t\\t\\t\\t\\t\\t\\t<option value=\"1159055000\" >\\xbb\\xf3\\xb5\\xb5\\xc1\\xa63\\xb5\\xbf</option>\\r\\n\\t\\t\\t\\t\\t\\t\\r\\n\\t\\t\\t\\t\\t\\t\\t<option value=\"1159056000\" >\\xbb\\xf3\\xb5\\xb5\\xc1\\xa64\\xb5\\xbf</option>\\r\\n\\t\\t\\t\\t\\t\\t\\r\\n\\t\\t\\t\\t\\t\\t\\t<option value=\"1159067000\" >\\xbd\\xc5\\xb4\\xeb\\xb9\\xe6\\xc1\\xa61\\xb5\\xbf</option>\\r\\n\\t\\t\\t\\t\\t\\t\\r\\n\\t\\t\\t\\t\\t\\t\\t<option value=\"1159068000\" selected=\"selected\">\\xbd\\xc5\\xb4\\xeb\\xb9\\xe6\\xc1\\xa62\\xb5\\xbf</option>\\r\\n\\t\\t\\t\\t\\t\\t\\r\\n\\t\\t\\t\\t\\t\\t\\t<option value=\"1159060500\" >\\xc8\\xe6\\xbc\\xae\\xb5\\xbf</option>\\r\\n\\t\\t\\t\\t\\t\\t\\r\\n\\t\\t\\t\\t\\t</select>\\r\\n\\t\\t\\t\\t\\t<input type=\"image\" src=\"../../images/weather/forecast/btn_search.gif\" alt=\"\\xb0\\xcb\\xbb\\xf6\" class=\"ml2\" />\\r\\n\\t\\t\\t\\t</fieldset>\\r\\n\\t\\t\\t</form></td>\\r\\n\\r\\n\\r\\n\\t\\t\\t\\t\\t<td width=\"13%\" align=\"center\">\\r\\n\\t\\t\\t\\t\\t\\t<a href=\"http://www.kma.go.kr/wid/queryDFSRSS.jsp?zone=1159068000\" id=\"dfs_rss\"  target=\"_blank\" onclick=\"openRss(this); return false;\" title=\"\\xbb\\xf5\\xc3\\xa2\\xbf\\xa1\\xbc\\xad \\xbf\\xad\\xb8\\xb2\"><img src=\"../../images/weather/lifenindustry/btn_rss_sevice.gif\" alt=\"RSS\" /></a>\\r\\n\\t\\t\\t\\t\\t</td>\\r\\n\\t\\t\\t\\t</tr>\\r\\n           </tbody>\\r\\n\\t\\t   </table>\\r\\n\\r\\n\\t\\t\\t\\r\\n\\r\\n<!--\\xb5\\xbf\\xb3\\xd7\\xbf\\xb9\\xba\\xb8 rss \\xb3\\xa1-->\\r\\n\\r\\n     <!--\\xc1\\xdf\\xb1\\xe2\\xbf\\xb9\\xba\\xb8\\xbd\\xc3\\xc0\\xdb-->\\r\\n\\t  <h6 class=\"h6 MT25\">\\xc1\\xdf\\xb1\\xe2\\xbf\\xb9\\xba\\xb8</h6>\\r\\n\\t <table summary=\"\\xc1\\xdf\\xb1\\xe2\\xbf\\xb9\\xba\\xb8 \\xc5\\xd7\\xc0\\xcc\\xba\\xed\\xb7\\xce RSS\\xb9\\xf6\\xc6\\xb0\\xc0\\xb8\\xb7\\xce \\xc1\\xd6\\xbc\\xd2\\xb8\\xa6 \\xba\\xb9\\xbb\\xe7\\xc7\\xd2\\xbc\\xf6 \\xc0\\xd6\\xbd\\xc0\\xb4\\xcf\\xb4\\xd9.\" class=\"gary_line\">\\r\\n\\t <caption>\\xc1\\xdf\\xb1\\xe2\\xbf\\xb9\\xba\\xb8 RSS \\xb8\\xb5\\xc5\\xa9</caption>\\r\\n\\t  <tbody>\\r\\n\\t  <tr>\\r\\n\\t\\t<th rowspan=\"5\" width=\"13%\" scope=\"rowgroup\">\\xc1\\xdf\\xb1\\xe2 \\xbf\\xb9\\xba\\xb8</th>\\r\\n\\t\\t<td scope=\"row\">\\xc0\\xfc\\xb1\\xb9</td>\\r\\n\\t\\t\\t<td width=\"13%\" align=\"center\"><a href=\"http://www.kma.go.kr/weather/forecast/mid-term-rss3.jsp?stnId=108\" id=\"dfs_rss1\"  target=\"_blank\" title=\"\\xbb\\xf5\\xc3\\xa2\\xbf\\xa1\\xbc\\xad \\xbf\\xad\\xb8\\xb2\" onclick=\"openRss(this); return false;\"><img src=\"../../images/weather/lifenindustry/btn_rss_sevice.gif\" alt=\"RSS\" /></a></td>\\r\\n\\t\\t\\t<td scope=\"row\">\\xc0\\xfc\\xb6\\xf3\\xba\\xcf\\xb5\\xb5</td>\\r\\n\\t\\t\\t<td width=\"13%\" align=\"center\"><a href=\"http://www.kma.go.kr/weather/forecast/mid-term-rss3.jsp?stnId=146\" id=\"dfs_rss2\"  target=\"_blank\" title=\"\\xbb\\xf5\\xc3\\xa2\\xbf\\xa1\\xbc\\xad \\xbf\\xad\\xb8\\xb2\" onclick=\"openRss(this); return false;\"><img src=\"../../images/weather/lifenindustry/btn_rss_sevice.gif\" alt=\"RSS\" /></a></td>\\r\\n\\t  </tr>\\r\\n\\t  <tr>\\r\\n\\t\\t\\t<td scope=\"row\">\\xbc\\xad\\xbf\\xef\\xa1\\xa4\\xb0\\xe6\\xb1\\xe2\\xb5\\xb5</td>\\r\\n\\t\\t\\t<td align=\"center\"><a href=\"http://www.kma.go.kr/weather/forecast/mid-term-rss3.jsp?stnId=109\" id=\"dfs_rss3\"  target=\"_blank\" title=\"\\xbb\\xf5\\xc3\\xa2\\xbf\\xa1\\xbc\\xad \\xbf\\xad\\xb8\\xb2\" onclick=\"openRss(this); return false;\"><img src=\"../../images/weather/lifenindustry/btn_rss_sevice.gif\" alt=\"RSS\" /></a></td>\\r\\n\\t\\t\\t<td scope=\"row\">\\xc0\\xfc\\xb6\\xf3\\xb3\\xb2\\xb5\\xb5</td>\\r\\n\\t\\t\\t<td align=\"center\"><a href=\"http://www.kma.go.kr/weather/forecast/mid-term-rss3.jsp?stnId=156\" id=\"dfs_rss4\"  target=\"_blank\" title=\"\\xbb\\xf5\\xc3\\xa2\\xbf\\xa1\\xbc\\xad \\xbf\\xad\\xb8\\xb2\" onclick=\"openRss(this); return false;\"><img src=\"../../images/weather/lifenindustry/btn_rss_sevice.gif\" alt=\"RSS\" /></a></td>\\r\\n\\t  </tr>\\r\\n\\r\\n\\t  <tr>\\r\\n\\t\\t\\t<td scope=\"row\">\\xb0\\xad\\xbf\\xf8\\xb5\\xb5</td>\\r\\n\\t\\t\\t<td align=\"center\"><a href=\"http://www.kma.go.kr/weather/forecast/mid-term-rss3.jsp?stnId=105\" id=\"dfs_rss5\"  target=\"_blank\" title=\"\\xbb\\xf5\\xc3\\xa2\\xbf\\xa1\\xbc\\xad \\xbf\\xad\\xb8\\xb2\" onclick=\"openRss(this); return false;\"><img src=\"../../images/weather/lifenindustry/btn_rss_sevice.gif\" alt=\"RSS\" /></a></td>\\r\\n\\t\\t\\t<td scope=\"row\">\\xb0\\xe6\\xbb\\xf3\\xba\\xcf\\xb5\\xb5</td>\\r\\n\\t\\t\\t<td align=\"center\"><a href=\"http://www.kma.go.kr/weather/forecast/mid-term-rss3.jsp?stnId=143\" id=\"dfs_rss6\"  target=\"_blank\" title=\"\\xbb\\xf5\\xc3\\xa2\\xbf\\xa1\\xbc\\xad \\xbf\\xad\\xb8\\xb2\" onclick=\"openRss(this); return false;\"><img src=\"../../images/weather/lifenindustry/btn_rss_sevice.gif\" alt=\"RSS\" /></a></td>\\r\\n\\t  </tr>\\r\\n\\r\\n\\t  <tr> \\r\\n\\t\\t\\t<td scope=\"row\">\\xc3\\xe6\\xc3\\xbb\\xba\\xcf\\xb5\\xb5</td>\\r\\n\\t\\t\\t<td align=\"center\"><a href=\"http://www.kma.go.kr/weather/forecast/mid-term-rss3.jsp?stnId=131\" id=\"dfs_rss7\"  target=\"_blank\" title=\"\\xbb\\xf5\\xc3\\xa2\\xbf\\xa1\\xbc\\xad \\xbf\\xad\\xb8\\xb2\" onclick=\"openRss(this); return false;\"><img src=\"../../images/weather/lifenindustry/btn_rss_sevice.gif\" alt=\"RSS\" /></a></td>\\r\\n\\t\\t\\t<td scope=\"row\">\\xb0\\xe6\\xbb\\xf3\\xb3\\xb2\\xb5\\xb5</td>\\r\\n\\t\\t\\t<td align=\"center\"><a href=\"http://www.kma.go.kr/weather/forecast/mid-term-rss3.jsp?stnId=159\" id=\"dfs_rss8\"  target=\"_blank\" title=\"\\xbb\\xf5\\xc3\\xa2\\xbf\\xa1\\xbc\\xad \\xbf\\xad\\xb8\\xb2\" onclick=\"openRss(this); return false;\"><img src=\"../../images/weather/lifenindustry/btn_rss_sevice.gif\" alt=\"RSS\" /></a></td>\\r\\n\\t  </tr>\\r\\n\\t<tr>\\r\\n\\t\\t  <td scope=\"row\">\\xc3\\xe6\\xc3\\xbb\\xb3\\xb2\\xb5\\xb5</td>\\r\\n\\t\\t  <td align=\"center\"><a href=\"http://www.kma.go.kr/weather/forecast/mid-term-rss3.jsp?stnId=133\" id=\"dfs_rss9\"  target=\"_blank\" title=\"\\xbb\\xf5\\xc3\\xa2\\xbf\\xa1\\xbc\\xad \\xbf\\xad\\xb8\\xb2\" onclick=\"openRss(this); return false;\"><img src=\"../../images/weather/lifenindustry/btn_rss_sevice.gif\" alt=\"RSS\" /></a></td>\\r\\n\\t\\t  <td scope=\"row\">\\xc1\\xa6\\xc1\\xd6\\xc6\\xaf\\xba\\xb0\\xc0\\xda\\xc4\\xa1\\xb5\\xb5</td>\\r\\n\\t\\t  <td align=\"center\"><a href=\"http://www.kma.go.kr/weather/forecast/mid-term-rss3.jsp?stnId=184\" id=\"dfs_rss10\"  target=\"_blank\" title=\"\\xbb\\xf5\\xc3\\xa2\\xbf\\xa1\\xbc\\xad \\xbf\\xad\\xb8\\xb2\" onclick=\"openRss(this); return false;\"><img src=\"../../images/weather/lifenindustry/btn_rss_sevice.gif\" alt=\"RSS\" /></a></td>\\r\\n\\t</tr>\\r\\n\\t</tbody>\\r\\n\\t</table>\\r\\n  \\r\\n\\t  <!--\\xc1\\xdf\\xb1\\xe2\\xbf\\xb9\\xba\\xb8 \\xb3\\xa1-->\\t\\r\\n\\t  \\t\\t<ul class=\"ul_img_al P_T17\">\\r\\n\\t\\t\\t<li><a href=\"../../images/weather/lifenindustry/dongnaeforecast_rss.pdf\" target=\"_blank\" title=\"\\xbb\\xf5\\xc3\\xa2\\xbf\\xa1\\xbc\\xad \\xbf\\xad\\xb8\\xb2\" ><img src=\"../../images/weather/lifenindustry/btn_rss_info_2.gif\" alt=\"\\xb5\\xbf\\xb3\\xd7\\xbf\\xb9\\xba\\xb8RSS\\xc1\\xa4\\xc0\\xc7.pdf \" /></a></li>\\r\\n\\t\\t\\t<li><a href=\"../../images/weather/lifenindustry/midtermforecast_rss.pdf\" target=\"_blank\" title=\"\\xbb\\xf5\\xc3\\xa2\\xbf\\xa1\\xbc\\xad \\xbf\\xad\\xb8\\xb2\" ><img src=\"../../images/weather/lifenindustry/btn_rss_info_1_1.gif\" alt=\"\\xc1\\xdf\\xb1\\xe2\\xbf\\xb9\\xba\\xb8RSS\\xc1\\xa4\\xc0\\xc7.pdf \" /></a></li>\\r\\n\\t\\t</ul>\\r\\n\\t\\r\\n    <!--\\xc0\\xe5\\xb1\\xe2\\xbf\\xb9\\xba\\xb8\\xbd\\xc3\\xc0\\xdb-->\\r\\n    <h6 class=\"h6 MT25\">\\xc0\\xe5\\xb1\\xe2\\xbf\\xb9\\xba\\xb8</h6>\\r\\n    <table summary=\"\\xc0\\xe5\\xb1\\xe2\\xbf\\xb9\\xba\\xb8 \\xc5\\xd7\\xc0\\xcc\\xba\\xed\\xb7\\xce XML\\xb9\\xf6\\xc6\\xb0\\xc0\\xb8\\xb7\\xce \\xc1\\xd6\\xbc\\xd2\\xb8\\xa6 \\xba\\xb9\\xbb\\xe7\\xc7\\xd2\\xbc\\xf6 \\xc0\\xd6\\xbd\\xc0\\xb4\\xcf\\xb4\\xd9.\" class=\"gary_line\">\\r\\n    <caption>\\xc0\\xe5\\xb1\\xe2\\xbf\\xb9\\xba\\xb8 XML \\xb8\\xb5\\xc5\\xa9</caption>\\r\\n    <tbody>\\r\\n        <tr>\\r\\n            <th width=\"13%\" scope=\"rowgroup\">\\xc0\\xe5\\xb1\\xe2\\xbf\\xb9\\xba\\xb8</th>\\r\\n            <td scope=\"row\" style=\"width:171px;\">1\\xb0\\xb3\\xbf\\xf9 \\xc0\\xfc\\xb8\\xc1 <span class=\"errormsg\" style=\"font-size: 0.90em;\"></span></td>\\r\\n            <td width=\"13%\" align=\"center\">\\r\\n                \\r\\n                    \\r\\n                        <a href=\"http://www.kma.go.kr/repositary/xml/fct/mon/img/fct_mon1rss_108_20210617.xml\" id=\"dfs_XML1\"  target=\"_blank\" title=\"\\xbb\\xf5\\xc3\\xa2\\xbf\\xa1\\xbc\\xad \\xbf\\xad\\xb8\\xb2\" onclick=\"openRss(this); return false;\"><img src=\"../../images/weather/lifenindustry/btn_rss_sevice.gif\" alt=\"XML\" /></a>\\r\\n                    \\r\\n                    \\r\\n                                \\r\\n            </td>\\r\\n                \\r\\n            <td scope=\"row\">3\\xb0\\xb3\\xbf\\xf9 \\xc0\\xfc\\xb8\\xc1 <span class=\"errormsg\"  style=\"font-size: 0.90em;\"></span></td>\\r\\n            <td width=\"13%\" align=\"center\">\\r\\n                \\r\\n                    \\r\\n                        <a href=\"http://www.kma.go.kr/repositary/xml/fct/mon/img/fct_mon3rss_108_20210524.xml\" id=\"dfs_XML1\"  target=\"_blank\" title=\"\\xbb\\xf5\\xc3\\xa2\\xbf\\xa1\\xbc\\xad \\xbf\\xad\\xb8\\xb2\" onclick=\"openRss(this); return false;\"><img src=\"../../images/weather/lifenindustry/btn_rss_sevice.gif\" alt=\"XML\" /></a>\\r\\n                    \\r\\n                    \\r\\n                \\r\\n            </td>\\r\\n        </tr>\\r\\n    </tbody>\\r\\n    </table>\\r\\n    <!--\\xc0\\xe5\\xb1\\xe2\\xbf\\xb9\\xba\\xb8 \\xb3\\xa1-->\\r\\n    <ul class=\"ul_img_al P_T17\">\\r\\n        <li><a href=\"../../images/weather/lifenindustry/onemonth_forecast_v1.pdf\" target=\"_blank\" title=\"\\xbb\\xf5\\xc3\\xa2\\xbf\\xa1\\xbc\\xad \\xbf\\xad\\xb8\\xb2\"><img src=\"../../images/weather/lifenindustry/btn_1month_forecast.gif\" alt=\"1\\xb0\\xb3\\xbf\\xf9 \\xc0\\xfc\\xb8\\xc1 RSS \\xc1\\xa4\\xc0\\xc7.pdf \"></a></li>\\r\\n        <li><a href=\"../../images/weather/lifenindustry/threemonth_forecast_v1.pdf\" target=\"_blank\" title=\"\\xbb\\xf5\\xc3\\xa2\\xbf\\xa1\\xbc\\xad \\xbf\\xad\\xb8\\xb2\"><img src=\"../../images/weather/lifenindustry/btn_3month_forecast.gif\" alt=\"3\\xb0\\xb3\\xbf\\xf9 \\xc0\\xfc\\xb8\\xc1 RSS \\xc1\\xa4\\xc0\\xc7.pdf \"></a></li>\\r\\n    </ul>\\r\\n\\r\\n\\t\\t<h6 class=\"h6 MT25\">\\xc1\\xa4\\xc3\\xa5\\xbe\\xcb\\xb8\\xb2\\xbc\\xad\\xba\\xf1\\xbd\\xba</h6>\\r\\n\\t\\t<table summary=\"\\xc1\\xa4\\xc3\\xa5\\xbe\\xcb\\xb8\\xb2\\xbc\\xad\\xba\\xf1\\xbd\\xba \\xc5\\xd7\\xc0\\xcc\\xba\\xed\\xb7\\xce \\xc1\\xd6\\xbc\\xd2\\xba\\xb9\\xbb\\xe7\\xb9\\xf6\\xc6\\xb0\\xc0\\xb8\\xb7\\xce \\xc1\\xd6\\xbc\\xd2\\xb8\\xa6 \\xba\\xb9\\xbb\\xe7\\xc7\\xd2\\xbc\\xf6 \\xc0\\xd6\\xbd\\xc0\\xb4\\xcf\\xb4\\xd9.\" class=\"gary_line\">\\r\\n\\t\\t<caption>\\xc1\\xa4\\xc3\\xa5\\xbe\\xcb\\xb8\\xb2\\xbc\\xad\\xba\\xf1\\xbd\\xba RSS\\xb8\\xb5\\xc5\\xa9</caption>\\r\\n\\t\\t\\t<tbody>\\r\\n\\t\\t\\t\\t<tr>\\r\\n\\t\\t\\t\\t\\t<th rowspan=\"5\">\\xc7\\xe0\\xc1\\xa4\\xb0\\xfa \\xc1\\xa4\\xc3\\xa5</th>\\r\\n\\t\\t\\t\\t\\t<td scope=\"row\">\\xb0\\xf8\\xc1\\xf6\\xbb\\xe7\\xc7\\xd7</td>\\r\\n\\t\\t\\t\\t\\t<td>www.kma.go.kr/notify/notice/list.jsp</td>\\r\\n\\t\\t\\t\\t\\t<td><a href=\"http://www.kma.go.kr/servlet/NeoboardProcess?mode=rss&amp;bid=gongzi&amp;url=http%3A%2F%2Fwww.kma.go.kr%2Fnotify%2Fnotice%2Flist.jsp\" onclick=\"openRss(this); return false;\" target=\"_blank\" title=\"\\xbb\\xf5\\xc3\\xa2 \\xbf\\xad\\xb8\\xb2\"><img src=\"../../images/weather/lifenindustry/btn_url.gif\" alt=\"\\xc1\\xd6\\xbc\\xd2\\xba\\xb9\\xbb\\xe7\" /></a></td>\\r\\n\\t\\t\\t\\t</tr>\\r\\n\\t\\t\\t\\t<tr>\\r\\n\\t\\t\\t\\t\\t<td scope=\"row\">\\xb1\\xe2\\xbb\\xf3\\xc6\\xf7\\xc4\\xbf\\xbd\\xba</td>\\r\\n\\t\\t\\t\\t\\t<td>www.kma.go.kr/notify/focus/list.jsp</td>\\r\\n\\t\\t\\t\\t\\t<td><a href=\"http://www.kma.go.kr/servlet/NeoboardProcess?mode=rss&amp;bid=focus&amp;url=http%3A%2F%2Fwww.kma.go.kr%2Fnotify%2Ffocus%2Flist.jsp\" onclick=\"openRss(this); return false;\" target=\"_blank\" title=\"\\xbb\\xf5\\xc3\\xa2 \\xbf\\xad\\xb8\\xb2\"><img src=\"../../images/weather/lifenindustry/btn_url.gif\" alt=\"\\xc1\\xd6\\xbc\\xd2\\xba\\xb9\\xbb\\xe7\" /></a></td>\\r\\n\\t\\t\\t\\t</tr>\\r\\n\\t\\t\\t\\t<tr>\\r\\n\\t\\t\\t\\t\\t<td scope=\"row\">\\xba\\xb8\\xb5\\xb5\\xc0\\xda\\xb7\\xe1 &gt; \\xba\\xbb\\xc3\\xbb</td>\\r\\n\\t\\t\\t\\t\\t<td>www.kma.go.kr/notify/press/kma_list.jsp</td>\\r\\n\\t\\t\\t\\t\\t<td><a href=\"http://www.kma.go.kr/servlet/NeoboardProcess?mode=rss&amp;bid=press&amp;url=http%3A%2F%2Fwww.kma.go.kr%2Fnotify%2Fpress%2Fkma_list.jsp\" onclick=\"openRss(this); return false;\" target=\"_blank\" title=\"\\xbb\\xf5\\xc3\\xa2 \\xbf\\xad\\xb8\\xb2\"><img src=\"../../images/weather/lifenindustry/btn_url.gif\" alt=\"\\xc1\\xd6\\xbc\\xd2\\xba\\xb9\\xbb\\xe7\" /></a></td>\\r\\n\\t\\t\\t\\t</tr>\\r\\n\\t\\t\\t\\t<tr>\\r\\n\\t\\t\\t\\t\\t<td scope=\"row\">\\xba\\xb8\\xb5\\xb5\\xc0\\xda\\xb7\\xe1 &gt; \\xbc\\xd2\\xbc\\xd3\\xb1\\xe2\\xb0\\xfc<br />(\\xb0\\xa2 \\xc1\\xf6\\xb9\\xe6\\xc3\\xbb)</td>\\r\\n\\t\\t\\t\\t\\t<td>www.kma.go.kr/notify/press/reqional_list.jsp</td>\\r\\n\\t\\t\\t\\t\\t<td><a href=\"http://www.kma.go.kr/servlet/NeoboardProcess?mode=rss&amp;bid=gongzi&amp;url=http%3A%2F%2Fwww.kma.go.kr%2Fnotify%2Fnotice%2Flist.jsp\" onclick=\"openRss(this); return false;\" target=\"_blank\" title=\"\\xbb\\xf5\\xc3\\xa2 \\xbf\\xad\\xb8\\xb2\"><img src=\"../../images/weather/lifenindustry/btn_url.gif\" alt=\"\\xc1\\xd6\\xbc\\xd2\\xba\\xb9\\xbb\\xe7\" /></a></td>\\r\\n\\t\\t\\t\\t</tr>\\r\\n\\t\\t\\t\\t<tr>\\r\\n\\t\\t\\t\\t\\t<td scope=\"row\">\\xc3\\xa4\\xbf\\xeb</td>\\r\\n\\t\\t\\t\\t\\t<td>www.kma.go.kr/notify/employ/list_01.jsp</td>\\r\\n\\t\\t\\t\\t\\t<td><a href=\"http://www.kma.go.kr/servlet/NeoboardProcess?mode=rss&amp;bid=recruit&amp;url=http%3A%2F%2Fwww.kma.go.kr%2Fnotify%2Femploy%2Flist_01.jsp\" onclick=\"openRss(this); return false;\" target=\"_blank\" title=\"\\xbb\\xf5\\xc3\\xa2 \\xbf\\xad\\xb8\\xb2\"><img src=\"../../images/weather/lifenindustry/btn_url.gif\" alt=\"\\xc1\\xd6\\xbc\\xd2\\xba\\xb9\\xbb\\xe7\" /></a></td>\\r\\n\\t\\t\\t\\t</tr>\\t\\t\\t\\t\\r\\n\\t\\t\\t</tbody>\\r\\n\\t\\t</table>\\r\\n\\t<!--\\xc1\\xa4\\xc3\\xa5\\xbe\\xcb\\xb8\\xb2\\xbc\\xad\\xba\\xf1\\xbd\\xba \\xb3\\xa1-->\\r\\n\\r\\n\\t\\t<h6 class=\"h6 MT25\">\\xc7\\xa5\\xc1\\xd8 XML</h6>\\r\\n\\t\\t<table summary=\"\\xc7\\xa5\\xc1\\xd8 XML\\xb7\\xce \\xc1\\xd6\\xbc\\xd2\\xba\\xb9\\xbb\\xe7\\xb9\\xf6\\xc6\\xb0\\xc0\\xb8\\xb7\\xce \\xc1\\xd6\\xbc\\xd2\\xb8\\xa6 \\xba\\xb9\\xbb\\xe7\\xc7\\xd2\\xbc\\xf6 \\xc0\\xd6\\xbd\\xc0\\xb4\\xcf\\xb4\\xd9.\" class=\"gary_line\">\\r\\n\\t\\t<caption>\\xc7\\xa5\\xc1\\xd8 XML \\xb8\\xb5\\xc5\\xa9</caption>\\r\\n\\t\\t\\t<tbody>\\r\\n\\t\\t\\t\\t<tr>\\r\\n\\t\\t\\t\\t\\t<th>\\xc7\\xe0\\xc1\\xa4\\xb0\\xfa \\xc1\\xa4\\xc3\\xa5</th>\\r\\n\\t\\t\\t\\t\\t<td scope=\"row\">\\xba\\xb8\\xb5\\xb5\\xc0\\xda\\xb7\\xe1 &gt; \\xba\\xbb\\xc3\\xbb</td>\\r\\n\\t\\t\\t\\t\\t<td>www.kma.go.kr/notify/press/kma_list.jsp</td>\\r\\n\\t\\t\\t\\t\\t<td>\\t\\t\\t\\t\\t\\r\\n\\t\\t\\t\\t\\t\\t<!-- <a href=\"http://www.kma.go.kr/notify/press/standard.jsp?start_date=20180522&amp;end_date=20180525\" onclick=\"openRss(this); return false;\" target=\"_blank\" title=\"\\xbb\\xf5\\xc3\\xa2 \\xbf\\xad\\xb8\\xb2\"><img src=\"../../images/weather/lifenindustry/btn_url.gif\" alt=\"\\xc1\\xd6\\xbc\\xd2\\xba\\xb9\\xbb\\xe7\" /></a> -->\\r\\n\\r\\n\\t\\t\\t\\t\\t\\t<!-- <a href=\"http://www.kma.go.kr/notify/press/standard.jsp?start_date=20210614&amp;end_date=20210617\" onclick=\"openRss(this); return false;\" target=\"_blank\" title=\"\\xbb\\xf5\\xc3\\xa2 \\xbf\\xad\\xb8\\xb2\"><img src=\"../../images/weather/lifenindustry/btn_url.gif\" alt=\"\\xc1\\xd6\\xbc\\xd2\\xba\\xb9\\xbb\\xe7\" /></a> -->\\r\\n\\r\\n\\t\\t\\t\\t\\t\\t<a href=\"http://www.kma.go.kr/servlet/NeoboardProcess?mode=stdxml&amp;bid=press&amp;url=http%3A%2F%2Fwww.kma.go.kr%2Fnotify%2Fpress%2Fkma_list.jsp&amp;start_date=20210614&amp;end_date=20210617\" onclick=\"openRss(this); return false;\" target=\"_blank\" title=\"\\xbb\\xf5\\xc3\\xa2 \\xbf\\xad\\xb8\\xb2\"><img src=\"../../images/weather/lifenindustry/btn_url.gif\" alt=\"\\xc1\\xd6\\xbc\\xd2\\xba\\xb9\\xbb\\xe7\" /></a>\\r\\n\\t\\t\\t\\t\\t</td>\\r\\n\\t\\t\\t\\t</tr>\\t\\t\\t\\r\\n\\t\\t\\t</tbody>\\r\\n\\t\\t</table>\\r\\n\\t<!-- content :End -->\\r\\n\\n\\t\\t\\t\\t\\n\\t\\t\\t\\t\\t\\n\\t\\t\\t\\t\\t\\t\\n\\t\\t\\t\\t\\t\\t\\r\\n\\r\\n\\r\\n\\r\\n\\t\\t<ul id=\"part_weather\">\\r\\n\\t\\t\\t<li><strong>&middot; \\xb4\\xe3\\xb4\\xe7\\xb0\\xfc\\xb8\\xae: </strong> \\xba\\xbb\\xc3\\xbb </li>\\r\\n\\t\\t\\t\\r\\n\\t\\t\\t\\t<li class=\"ML20\"><strong>&middot; \\xb9\\xae\\xc0\\xc7: </strong><span> 02-2181-0432</span></li>\\r\\n\\t\\t\\t\\r\\n\\t\\t</ul>\\r\\n \\n\\t\\t\\t\\t\\t\\n\\t\\t\\t\\t\\n\\t\\t\\t\\t<!-- content :End -->\\n\\t\\t\\t\\t</div>\\n\\t\\t\\t</div>\\n\\t\\t\\t\\n\\t\\t\\t\\t\\r\\n\\r\\n<div id=\"relation\" >\\r\\n\\t<h3><img src=\"/images/weather/common/tl_quick.gif\" alt=\"\\xb9\\xd9\\xb7\\xce\\xb0\\xa1\\xb1\\xe2\\xbc\\xad\\xba\\xf1\\xbd\\xba\" /></h3>\\r\\n\\t<ul class=\"list\" id=\"relation_list\">\\r\\n\\t\\t<li class=\"sty1\"><a href=\"http://www.weather.go.kr/weather/observation/currentweather.jsp\"><img src=\"/images/weather/common/btn_quick1.gif\" alt=\"\\xc7\\xf6\\xc0\\xe7\\xb3\\xaf\\xbe\\xbe\" /></a></li>\\r\\n\\t\\t<li><a href=\"http://www.weather.go.kr/weather/observation/past_cal.jsp\"><img src=\"/images/weather/common/btn_quick2.gif\" alt=\"\\xc1\\xf6\\xb3\\xad\\xb3\\xaf\\xbe\\xbe\" /></a></li>\\r\\n\\t\\t<li class=\"sty1\"><a href=\"http://www.weather.go.kr/weather/lifenindustry/life_jisu.jsp\"><img src=\"/images/weather/common/btn_quick9.gif\" alt=\"\\xbb\\xfd\\xc8\\xb0\\xb0\\xfa\\xbb\\xea\\xbe\\xf7\" /></a></li>\\r\\n\\t\\t<li><a href=\"http://www.weather.go.kr/mini/marine/marine_integrate.jsp\"><img src=\"/images/weather/common/btn_quick4.gif\" alt=\"\\xb9\\xd9\\xb4\\xd9\\xb3\\xaf\\xbe\\xbe\" /></a></li>\\r\\n\\t\\t<li class=\"sty1\"><a href=\"http://www.weather.go.kr/weather/forecast/mountain_01.jsp\"><img src=\"/images/weather/common/btn_quick5.gif\" alt=\"\\xbb\\xea\\xbe\\xc7\\xb3\\xaf\\xbe\\xbe\" /></a></li>\\r\\n\\t\\t<li><a href=\"http://www.weather.go.kr/weather/earthquake_volcano/report.jsp\"><img src=\"/images/weather/common/btn_quick6.gif\" alt=\"\\xc1\\xf6\\xc1\\xf8/\\xc7\\xd8\\xc0\\xcf\" /></a></li>\\r\\n\\t\\t<li class=\"sty1\"><a href=\"http://www.weather.go.kr/weather/forecast/weekend.jsp\"><img src=\"/images/weather/common/btn_quick3.gif\" alt=\"\\xc1\\xd6\\xb8\\xbb\\xb3\\xaf\\xbe\\xbe\" /></a></li>\\r\\n\\t\\t<li><a href=\"http://www.weather.go.kr/weather/world/cityweather.jsp\"><img src=\"/images/weather/common/btn_quick8.gif\" alt=\"\\xbc\\xbc\\xb0\\xe8\\xb3\\xaf\\xbe\\xbe\" /></a></li>\\r\\n\\t\\t<li class=\"sty1\"><a href=\"http://amo.kma.go.kr/new/html/main/main.jsp\" target=\"_blank\" title=\"\\xbb\\xf5\\xc3\\xa2\\xc0\\xb8\\xb7\\xce \\xbf\\xad\\xb8\\xb3\\xb4\\xcf\\xb4\\xd9.\"><img src=\"/images/weather/common/btn_quick7.gif\" alt=\"\\xb0\\xf8\\xc7\\xd7\\xb3\\xaf\\xbe\\xbe\" /></a></li>\\r\\n\\t\\t<li><a href=\"http://www.weather.go.kr/weather/warning/wtouchOn.jsp\"><img src=\"/images/weather/common/btn_quick10.gif\" alt=\"\\xb3\\xaf\\xbe\\xbeON\" /></a></li>\\r\\n\\t</ul>\\r\\n\\t<ul class=\"relation_new\">\\r\\n\\t\\t<!--<li><a href=\"http://typ.kma.go.kr/\" title=\"\\xbb\\xf5\\xc3\\xa2\\xc0\\xb8\\xb7\\xce \\xbf\\xad\\xb8\\xb3\\xb4\\xcf\\xb4\\xd9\" target=\"_blank\"><img src=\"/images/weather/common/img_relation_banner_05.jpg\" alt=\"\\xb1\\xb9\\xb0\\xa1\\xc5\\xc2\\xc7\\xb3\\xbc\\xbe\\xc5\\xcd\" /></a></li>-->\\r\\n\\t\\t<li><a href=\"http://www.climate.go.kr\" title=\"\\xbb\\xf5\\xc3\\xa2\\xc0\\xb8\\xb7\\xce \\xbf\\xad\\xb8\\xb3\\xb4\\xcf\\xb4\\xd9\" target=\"_blank\"><img src=\"/images/weather/common/img_relation_banner_06.jpg\" alt=\"\\xb1\\xe2\\xc8\\xc4\\xc1\\xa4\\xba\\xb8\\xc6\\xf7\\xc5\\xd0\" /></a></li>\\r\\n\\t\\t<li><a href=\"http://data.kma.go.kr\" title=\"\\xbb\\xf5\\xc3\\xa2\\xc0\\xb8\\xb7\\xce \\xbf\\xad\\xb8\\xb3\\xb4\\xcf\\xb4\\xd9\" target=\"_blank\"><img src=\"/images/main/banner_climate_center_4.jpg\" alt=\"\\xb1\\xe2\\xbb\\xf3\\xc0\\xda\\xb7\\xe1\\xb0\\xb3\\xb9\\xe6\\xc6\\xf7\\xc5\\xd0\" /></a></li>\\r\\n\\t\\t<li><a href=\"http://nmsc.kma.go.kr\" title=\"\\xbb\\xf5\\xc3\\xa2\\xc0\\xb8\\xb7\\xce \\xbf\\xad\\xb8\\xb3\\xb4\\xcf\\xb4\\xd9\" target=\"_blank\"><img src=\"/images/weather/common/img_relation_banner_07.jpg\" alt=\"\\xb1\\xb9\\xb0\\xa1\\xb1\\xe2\\xbb\\xf3\\xc0\\xa7\\xbc\\xba\\xbc\\xbe\\xc5\\xcd\" /></a></li>\\r\\n\\t\\t<!-- <li><a href=\"http://www.weather.go.kr/wid/eastasia/kor/weather/eastasia_weather.jsp\" title=\"\\xbb\\xf5\\xc3\\xa2\\xc0\\xb8\\xb7\\xce \\xbf\\xad\\xb8\\xb3\\xb4\\xcf\\xb4\\xd9\" target=\"_blank\"><img src=\"/images/weather/common/img_relation_new_1.gif\" alt=\"\\xc7\\xd1\\xc1\\xdf\\xc0\\xcf \\xb3\\xaf\\xbe\\xbe\\xc1\\xa4\\xba\\xb8 : \\xb5\\xbf\\xba\\xcf\\xbe\\xc6 \\xb3\\xaf\\xbe\\xbe\\xb8\\xa6 \\xc7\\xd1\\xb4\\xab\\xbf\\xa1\" /></a></li> -->\\r\\n\\t\\t<li><a href=\"http://radar.kma.go.kr\" title=\"\\xbb\\xf5\\xc3\\xa2\\xc0\\xb8\\xb7\\xce \\xbf\\xad\\xb8\\xb3\\xb4\\xcf\\xb4\\xd9\" target=\"_blank\"><img src=\"/images/weather/common/img_relation_banner_08.jpg\" alt=\"\\xb1\\xe2\\xbb\\xf3\\xb7\\xb9\\xc0\\xcc\\xb4\\xf5\\xbc\\xbe\\xc5\\xcd\" /></a></li>\\r\\n\\t</ul>\\r\\n    \\r\\n</div>\\r\\n\\n\\t\\t\\t\\n\\t\\t\\t\\n\\t\\t\\t\\r\\n</div>\\r\\n\\t<hr />\\r\\n\\t<div class=\"footer-bg\">\\r\\n        <div class=\"floor1\"></div>\\r\\n        <div class=\"floor2\"></div>\\r\\n      </div>\\r\\n      <div id=\"footer\">\\r\\n        <a id=\"gofooter\"></a>\\r\\n        <div class=\"wrap_site_link\">\\r\\n          <h3 class=\"blind\">\\xba\\xce\\xbc\\xd3\\xbb\\xe7\\xc0\\xcc\\xc6\\xae \\xbe\\xc8\\xb3\\xbb</h3>\\r\\n          <fieldset class=\"sitelink\">\\r\\n            <legend class=\"blind\">\\xb0\\xfc\\xb7\\xc3\\xbb\\xe7\\xc0\\xcc\\xc6\\xae \\xb8\\xb5\\xc5\\xa9</legend>\\r\\n            <form name=\"sitelink1\" method=\"get\" action=\"/sitelink.jsp\" target=\"_blank\">\\r\\n              <label for=\"sitelink1\" class=\"blind\">\\xb1\\xe2\\xbb\\xf3\\xc3\\xbb\\xbc\\xd2\\xbc\\xd3\\xb1\\xe2\\xb0\\xfc \\xb8\\xb5\\xc5\\xa9</label>\\r\\n              <select id=\"sitelink1\" name=\"link\">\\r\\n                <option label=\"\\xb1\\xe2\\xbb\\xf3\\xc3\\xbb\\xbc\\xd2\\xbc\\xd3\\xb1\\xe2\\xb0\\xfc\" value=\"\" selected=\"selected\">\\xb1\\xe2\\xbb\\xf3\\xc3\\xbb\\xbc\\xd2\\xbc\\xd3\\xb1\\xe2\\xb0\\xfc</option>\\r\\n\\t\\t\\t\\t\\t<option value=\"\\xbc\\xf6\\xb5\\xb5\\xb1\\xc7\\xb1\\xe2\\xbb\\xf3\\xc3\\xbb\">\\xbc\\xf6\\xb5\\xb5\\xb1\\xc7\\xb1\\xe2\\xbb\\xf3\\xc3\\xbb</option>\\r\\n\\t\\t\\t\\t\\t<option value=\"\\xba\\xce\\xbb\\xea\\xc1\\xf6\\xb9\\xe6\\xb1\\xe2\\xbb\\xf3\\xc3\\xbb\">\\xba\\xce\\xbb\\xea\\xc1\\xf6\\xb9\\xe6\\xb1\\xe2\\xbb\\xf3\\xc3\\xbb</option>\\r\\n\\t\\t\\t\\t\\t<option value=\"\\xb1\\xa4\\xc1\\xd6\\xc1\\xf6\\xb9\\xe6\\xb1\\xe2\\xbb\\xf3\\xc3\\xbb\">\\xb1\\xa4\\xc1\\xd6\\xc1\\xf6\\xb9\\xe6\\xb1\\xe2\\xbb\\xf3\\xc3\\xbb</option>\\r\\n\\t\\t\\t\\t\\t<option value=\"\\xb0\\xad\\xbf\\xf8\\xc1\\xf6\\xb9\\xe6\\xb1\\xe2\\xbb\\xf3\\xc3\\xbb\">\\xb0\\xad\\xbf\\xf8\\xc1\\xf6\\xb9\\xe6\\xb1\\xe2\\xbb\\xf3\\xc3\\xbb</option>\\r\\n\\t\\t\\t\\t\\t<option value=\"\\xb4\\xeb\\xc0\\xfc\\xc1\\xf6\\xb9\\xe6\\xb1\\xe2\\xbb\\xf3\\xc3\\xbb\">\\xb4\\xeb\\xc0\\xfc\\xc1\\xf6\\xb9\\xe6\\xb1\\xe2\\xbb\\xf3\\xc3\\xbb</option>\\r\\n\\t\\t\\t\\t\\t<option value=\"\\xb4\\xeb\\xb1\\xb8\\xc1\\xf6\\xb9\\xe6\\xb1\\xe2\\xbb\\xf3\\xc3\\xbb\">\\xb4\\xeb\\xb1\\xb8\\xc1\\xf6\\xb9\\xe6\\xb1\\xe2\\xbb\\xf3\\xc3\\xbb</option>\\t\\t\\t\\t\\t\\r\\n\\t\\t\\t\\t\\t<option value=\"\\xc1\\xa6\\xc1\\xd6\\xc1\\xf6\\xb9\\xe6\\xb1\\xe2\\xbb\\xf3\\xc3\\xbb\">\\xc1\\xa6\\xc1\\xd6\\xc1\\xf6\\xb9\\xe6\\xb1\\xe2\\xbb\\xf3\\xc3\\xbb</option>\\r\\n\\t\\t\\t\\t\\t<option value=\"\\xc0\\xfc\\xc1\\xd6\\xb1\\xe2\\xbb\\xf3\\xc1\\xf6\\xc3\\xbb\">\\xc0\\xfc\\xc1\\xd6\\xb1\\xe2\\xbb\\xf3\\xc1\\xf6\\xc3\\xbb</option>\\r\\n\\t\\t\\t\\t\\t<option value=\"\\xc3\\xbb\\xc1\\xd6\\xb1\\xe2\\xbb\\xf3\\xc1\\xf6\\xc3\\xbb\">\\xc3\\xbb\\xc1\\xd6\\xb1\\xe2\\xbb\\xf3\\xc1\\xf6\\xc3\\xbb</option>\\t\\t\\r\\n\\t\\t\\t\\t\\t<option value=\"\\xb1\\xe2\\xbb\\xf3\\xb1\\xe2\\xc8\\xc4\\xc0\\xce\\xc0\\xe7\\xb0\\xb3\\xb9\\xdf\\xbf\\xf8\">\\xb1\\xe2\\xbb\\xf3\\xb1\\xe2\\xc8\\xc4\\xc0\\xce\\xc0\\xe7\\xb0\\xb3\\xb9\\xdf\\xbf\\xf8</option>\\t\\t\\r\\n\\t\\t\\t\\t\\t<option value=\"\\xb1\\xb9\\xb0\\xa1\\xb1\\xe2\\xbb\\xf3\\xc0\\xa7\\xbc\\xba\\xbc\\xbe\\xc5\\xcd\">\\xb1\\xb9\\xb0\\xa1\\xb1\\xe2\\xbb\\xf3\\xc0\\xa7\\xbc\\xba\\xbc\\xbe\\xc5\\xcd</option>\\r\\n\\t\\t\\t\\t\\t<option value=\"\\xb1\\xe2\\xbb\\xf3\\xb7\\xb9\\xc0\\xcc\\xb4\\xf5\\xbc\\xbe\\xc5\\xcd\">\\xb1\\xe2\\xbb\\xf3\\xb7\\xb9\\xc0\\xcc\\xb4\\xf5\\xbc\\xbe\\xc5\\xcd</option>\\r\\n\\t\\t\\t\\t\\t<option value=\"\\xb1\\xb9\\xb8\\xb3\\xb1\\xe2\\xbb\\xf3\\xb0\\xfa\\xc7\\xd0\\xbf\\xf8\">\\xb1\\xb9\\xb8\\xb3\\xb1\\xe2\\xbb\\xf3\\xb0\\xfa\\xc7\\xd0\\xbf\\xf8</option>\\t\\r\\n\\t\\t\\t\\t\\t<option value=\"\\xc7\\xd7\\xb0\\xf8\\xb1\\xe2\\xbb\\xf3\\xc3\\xbb\">\\xc7\\xd7\\xb0\\xf8\\xb1\\xe2\\xbb\\xf3\\xc3\\xbb</option>\\t\\t\\t\\t\\t\\t\\t\\t\\t\\r\\n\\t\\t\\t\\t\\t<!--<option value=\"\\xb1\\xb9\\xb0\\xa1\\xc5\\xc2\\xc7\\xb3\\xbc\\xbe\\xc5\\xcd\">\\xb1\\xb9\\xb0\\xa1\\xc5\\xc2\\xc7\\xb3\\xbc\\xbe\\xc5\\xcd</option>-->\\r\\n\\t\\t\\t\\t\\t<option value=\"\\xb1\\xb9\\xb0\\xa1\\xb1\\xe2\\xbb\\xf3\\xbd\\xb4\\xc6\\xdb\\xc4\\xc4\\xc7\\xbb\\xc5\\xcd\\xbc\\xbe\\xc5\\xcd\">\\xb1\\xb9\\xb0\\xa1\\xb1\\xe2\\xbb\\xf3\\xbd\\xb4\\xc6\\xdb\\xc4\\xc4\\xc7\\xbb\\xc5\\xcd\\xbc\\xbe\\xc5\\xcd</option>\\r\\n              <input type=\"image\" src=\"/home/images/btn_move2.gif\" title=\"\\xbc\\xb1\\xc5\\xc3\\xc7\\xd1 \\xc8\\xa8\\xc6\\xe4\\xc0\\xcc\\xc1\\xf6\\xb7\\xce \\xc0\\xcc\\xb5\\xbf \\xbb\\xf5\\xc3\\xa2\\xbf\\xa1\\xbc\\xad \\xbf\\xad\\xb8\\xb2\" alt=\"\\xc0\\xcc\\xb5\\xbf\"></form>\\r\\n            <form name=\"sitelink2\" method=\"get\" action=\"/sitelink.jsp\" target=\"_blank\">\\r\\n              <label for=\"sitelink2\" class=\"blind\">\\xc1\\xd6\\xbf\\xe4\\xc7\\xe0\\xc1\\xa4\\xb1\\xe2\\xb0\\xfc \\xb9\\xd9\\xb7\\xce\\xb0\\xa1\\xb1\\xe2</label>\\r\\n              <select id=\"sitelink2\" name=\"link\">\\r\\n                <option label=\"\\xc1\\xd6\\xbf\\xe4\\xc7\\xe0\\xc1\\xa4\\xb1\\xe2\\xb0\\xfc\" value=\"\" selected=\"selected\">\\xc1\\xd6\\xbf\\xe4\\xc7\\xe0\\xc1\\xa4\\xb1\\xe2\\xb0\\xfc</option>\\r\\n                <option value=\"\\xc3\\xbb\\xbf\\xcd\\xb4\\xeb\">\\xc3\\xbb\\xbf\\xcd\\xb4\\xeb</option>\\r\\n                <option value=\"\\xb1\\xb9\\xb9\\xab\\xc3\\xd1\\xb8\\xae\\xbd\\xc7\">\\xb1\\xb9\\xb9\\xab\\xc3\\xd1\\xb8\\xae\\xbd\\xc7</option>\\r\\n                <option value=\"\\xb0\\xa8\\xbb\\xe7\\xbf\\xf8\">\\xb0\\xa8\\xbb\\xe7\\xbf\\xf8</option>\\r\\n                <option value=\"\\xb1\\xb9\\xb0\\xa1\\xc1\\xa4\\xba\\xb8\\xbf\\xf8\">\\xb1\\xb9\\xb0\\xa1\\xc1\\xa4\\xba\\xb8\\xbf\\xf8</option>\\r\\n                <option value=\"\\xb9\\xe6\\xbc\\xdb\\xc5\\xeb\\xbd\\xc5\\xc0\\xa7\\xbf\\xf8\\xc8\\xb8\">\\xb9\\xe6\\xbc\\xdb\\xc5\\xeb\\xbd\\xc5\\xc0\\xa7\\xbf\\xf8\\xc8\\xb8</option>\\r\\n                <option value=\"\\xb1\\xb9\\xb0\\xa1\\xc0\\xce\\xb1\\xc7\\xc0\\xa7\\xbf\\xf8\\xc8\\xb8\">\\xb1\\xb9\\xb0\\xa1\\xc0\\xce\\xb1\\xc7\\xc0\\xa7\\xbf\\xf8\\xc8\\xb8</option>\\r\\n                <option value=\"\\xb0\\xf8\\xc1\\xa4\\xb0\\xc5\\xb7\\xa1\\xc0\\xa7\\xbf\\xf8\\xc8\\xb8\">\\xb0\\xf8\\xc1\\xa4\\xb0\\xc5\\xb7\\xa1\\xc0\\xa7\\xbf\\xf8\\xc8\\xb8</option>\\r\\n                <option value=\"\\xb1\\xdd\\xc0\\xb6\\xc0\\xa7\\xbf\\xf8\\xc8\\xb8\">\\xb1\\xdd\\xc0\\xb6\\xc0\\xa7\\xbf\\xf8\\xc8\\xb8</option>\\r\\n                <option value=\"\\xb1\\xb9\\xb9\\xce\\xb1\\xc7\\xc0\\xcd\\xc0\\xa7\\xbf\\xf8\\xc8\\xb8\">\\xb1\\xb9\\xb9\\xce\\xb1\\xc7\\xc0\\xcd\\xc0\\xa7\\xbf\\xf8\\xc8\\xb8</option>\\r\\n                <option value=\"\\xb1\\xb9\\xc8\\xb8\\xbb\\xe7\\xb9\\xab\\xc3\\xb3\">\\xb1\\xb9\\xc8\\xb8\\xbb\\xe7\\xb9\\xab\\xc3\\xb3</option>\\r\\n                <option value=\"\" disabled=\"disabled\">18\\xba\\xce-----------------&gt;</option>\\r\\n                <option value=\"\\xb1\\xe2\\xc8\\xb9\\xc0\\xe7\\xc1\\xa4\\xba\\xce\">\\xb1\\xe2\\xc8\\xb9\\xc0\\xe7\\xc1\\xa4\\xba\\xce</option>\\r\\n                <option value=\"\\xb0\\xfa\\xc7\\xd0\\xb1\\xe2\\xbc\\xfa\\xc1\\xa4\\xba\\xb8\\xc5\\xeb\\xbd\\xc5\\xba\\xce\">\\xb0\\xfa\\xc7\\xd0\\xb1\\xe2\\xbc\\xfa\\xc1\\xa4\\xba\\xb8\\xc5\\xeb\\xbd\\xc5\\xba\\xce</option>\\r\\n                <option value=\"\\xb1\\xb3\\xc0\\xb0\\xba\\xce\">\\xb1\\xb3\\xc0\\xb0\\xba\\xce</option>\\r\\n                <option value=\"\\xbf\\xdc\\xb1\\xb3\\xba\\xce\">\\xbf\\xdc\\xb1\\xb3\\xba\\xce</option>\\r\\n                <option value=\"\\xc5\\xeb\\xc0\\xcf\\xba\\xce\">\\xc5\\xeb\\xc0\\xcf\\xba\\xce</option>\\r\\n                <option value=\"\\xb9\\xfd\\xb9\\xab\\xba\\xce\">\\xb9\\xfd\\xb9\\xab\\xba\\xce</option>\\r\\n                <option value=\"\\xb1\\xb9\\xb9\\xe6\\xba\\xce\">\\xb1\\xb9\\xb9\\xe6\\xba\\xce</option>\\r\\n                <option value=\"\\xc7\\xe0\\xc1\\xa4\\xbe\\xc8\\xc0\\xfc\\xba\\xce\">\\xc7\\xe0\\xc1\\xa4\\xbe\\xc8\\xc0\\xfc\\xba\\xce</option>\\r\\n                <option value=\"\\xb9\\xae\\xc8\\xad\\xc3\\xbc\\xc0\\xb0\\xb0\\xfc\\xb1\\xa4\\xba\\xce\">\\xb9\\xae\\xc8\\xad\\xc3\\xbc\\xc0\\xb0\\xb0\\xfc\\xb1\\xa4\\xba\\xce</option>\\r\\n                <option value=\"\\xb3\\xf3\\xb8\\xb2\\xc3\\xe0\\xbb\\xea\\xbd\\xc4\\xc7\\xb0\\xba\\xce\">\\xb3\\xf3\\xb8\\xb2\\xc3\\xe0\\xbb\\xea\\xbd\\xc4\\xc7\\xb0\\xba\\xce</option>\\r\\n                <option value=\"\\xbb\\xea\\xbe\\xf7\\xc5\\xeb\\xbb\\xf3\\xc0\\xda\\xbf\\xf8\\xba\\xce\">\\xbb\\xea\\xbe\\xf7\\xc5\\xeb\\xbb\\xf3\\xc0\\xda\\xbf\\xf8\\xba\\xce</option>\\r\\n                <option value=\"\\xba\\xb8\\xb0\\xc7\\xba\\xb9\\xc1\\xf6\\xba\\xce\">\\xba\\xb8\\xb0\\xc7\\xba\\xb9\\xc1\\xf6\\xba\\xce</option>\\r\\n                <option value=\"\\xc8\\xaf\\xb0\\xe6\\xba\\xce\">\\xc8\\xaf\\xb0\\xe6\\xba\\xce</option>\\r\\n                <option value=\"\\xb0\\xed\\xbf\\xeb\\xb3\\xeb\\xb5\\xbf\\xba\\xce\">\\xb0\\xed\\xbf\\xeb\\xb3\\xeb\\xb5\\xbf\\xba\\xce</option>\\r\\n                <option value=\"\\xbf\\xa9\\xbc\\xba\\xb0\\xa1\\xc1\\xb7\\xba\\xce\">\\xbf\\xa9\\xbc\\xba\\xb0\\xa1\\xc1\\xb7\\xba\\xce</option>\\r\\n                <option value=\"\\xb1\\xb9\\xc5\\xe4\\xb1\\xb3\\xc5\\xeb\\xba\\xce\">\\xb1\\xb9\\xc5\\xe4\\xb1\\xb3\\xc5\\xeb\\xba\\xce</option>\\r\\n                <option value=\"\\xc7\\xd8\\xbe\\xe7\\xbc\\xf6\\xbb\\xea\\xba\\xce\">\\xc7\\xd8\\xbe\\xe7\\xbc\\xf6\\xbb\\xea\\xba\\xce</option>\\r\\n                <option value=\"\\xc1\\xdf\\xbc\\xd2\\xba\\xa5\\xc3\\xb3\\xb1\\xe2\\xbe\\xf7\\xba\\xce\">\\xc1\\xdf\\xbc\\xd2\\xba\\xa5\\xc3\\xb3\\xb1\\xe2\\xbe\\xf7\\xba\\xce</option>\\r\\n                <option value=\"\" disabled=\"disabled\">4\\xc3\\xb3------------------&gt;</option>\\r\\n                <option value=\"\\xc0\\xce\\xbb\\xe7\\xc7\\xf5\\xbd\\xc5\\xc3\\xb3\">\\xc0\\xce\\xbb\\xe7\\xc7\\xf5\\xbd\\xc5\\xc3\\xb3</option>\\r\\n                <option value=\"\\xb9\\xfd\\xc1\\xa6\\xc3\\xb3\">\\xb9\\xfd\\xc1\\xa6\\xc3\\xb3</option>\\r\\n                <option value=\"\\xb1\\xb9\\xb0\\xa1\\xba\\xb8\\xc8\\xc6\\xc3\\xb3\">\\xb1\\xb9\\xb0\\xa1\\xba\\xb8\\xc8\\xc6\\xc3\\xb3</option>\\r\\n                <option value=\"\\xbd\\xc4\\xc7\\xb0\\xc0\\xc7\\xbe\\xe0\\xc7\\xb0\\xbe\\xc8\\xc0\\xfc\\xc3\\xb3\">\\xbd\\xc4\\xc7\\xb0\\xc0\\xc7\\xbe\\xe0\\xc7\\xb0\\xbe\\xc8\\xc0\\xfc\\xc3\\xb3</option>\\r\\n                <option value=\"\" disabled=\"disabled\">17\\xc3\\xbb-----------------&gt;</option>\\r\\n                <option value=\"\\xb1\\xb9\\xbc\\xbc\\xc3\\xbb\">\\xb1\\xb9\\xbc\\xbc\\xc3\\xbb</option>\\r\\n                <option value=\"\\xb0\\xfc\\xbc\\xbc\\xc3\\xbb\">\\xb0\\xfc\\xbc\\xbc\\xc3\\xbb</option>\\r\\n                <option value=\"\\xc1\\xb6\\xb4\\xde\\xc3\\xbb\">\\xc1\\xb6\\xb4\\xde\\xc3\\xbb</option>\\r\\n                <option value=\"\\xc5\\xeb\\xb0\\xe8\\xc3\\xbb\">\\xc5\\xeb\\xb0\\xe8\\xc3\\xbb</option>\\r\\n                <option value=\"\\xb0\\xcb\\xc2\\xfb\\xc3\\xbb\">\\xb0\\xcb\\xc2\\xfb\\xc3\\xbb</option>\\r\\n                <option value=\"\\xba\\xb4\\xb9\\xab\\xc3\\xbb\">\\xba\\xb4\\xb9\\xab\\xc3\\xbb</option>\\r\\n                <option value=\"\\xb9\\xe6\\xc0\\xa7\\xbb\\xe7\\xbe\\xf7\\xc3\\xbb\">\\xb9\\xe6\\xc0\\xa7\\xbb\\xe7\\xbe\\xf7\\xc3\\xbb</option>\\r\\n                <option value=\"\\xbc\\xd2\\xb9\\xe6\\xc3\\xbb\">\\xbc\\xd2\\xb9\\xe6\\xc3\\xbb</option>\\r\\n                <option value=\"\\xc7\\xd8\\xbe\\xe7\\xb0\\xe6\\xc2\\xfb\\xc3\\xbb\">\\xc7\\xd8\\xbe\\xe7\\xb0\\xe6\\xc2\\xfb\\xc3\\xbb</option>\\r\\n                <option value=\"\\xb0\\xe6\\xc2\\xfb\\xc3\\xbb\">\\xb0\\xe6\\xc2\\xfb\\xc3\\xbb</option>\\r\\n                <option value=\"\\xb9\\xae\\xc8\\xad\\xc0\\xe7\\xc3\\xbb\">\\xb9\\xae\\xc8\\xad\\xc0\\xe7\\xc3\\xbb</option>\\r\\n                <option value=\"\\xb3\\xf3\\xc3\\xcc\\xc1\\xf8\\xc8\\xef\\xc3\\xbb\">\\xb3\\xf3\\xc3\\xcc\\xc1\\xf8\\xc8\\xef\\xc3\\xbb</option>\\r\\n                <option value=\"\\xbb\\xea\\xb8\\xb2\\xc3\\xbb\">\\xbb\\xea\\xb8\\xb2\\xc3\\xbb</option>\\r\\n                <option value=\"\\xc6\\xaf\\xc7\\xe3\\xc3\\xbb\">\\xc6\\xaf\\xc7\\xe3\\xc3\\xbb</option>\\r\\n                <option value=\"\\xb1\\xe2\\xbb\\xf3\\xc3\\xbb\">\\xb1\\xe2\\xbb\\xf3\\xc3\\xbb</option>\\r\\n                <option value=\"\\xc7\\xe0\\xc1\\xa4\\xc1\\xdf\\xbd\\xc9\\xba\\xb9\\xc7\\xd5\\xb5\\xb5\\xbd\\xc3\\xb0\\xc7\\xbc\\xb3\\xc3\\xbb\">\\xc7\\xe0\\xc1\\xa4\\xc1\\xdf\\xbd\\xc9\\xba\\xb9\\xc7\\xd5\\xb5\\xb5\\xbd\\xc3\\xb0\\xc7\\xbc\\xb3\\xc3\\xbb</option>\\r\\n                <option value=\"\\xbb\\xf5\\xb8\\xb8\\xb1\\xdd\\xb0\\xb3\\xb9\\xdf\\xc3\\xbb\">\\xbb\\xf5\\xb8\\xb8\\xb1\\xdd\\xb0\\xb3\\xb9\\xdf\\xc3\\xbb</option></select>\\r\\n              <input type=\"image\" src=\"/home/images/btn_move2.gif\" title=\"\\xbc\\xb1\\xc5\\xc3\\xc7\\xd1 \\xc8\\xa8\\xc6\\xe4\\xc0\\xcc\\xc1\\xf6\\xb7\\xce \\xc0\\xcc\\xb5\\xbf \\xbb\\xf5\\xc3\\xa2\\xbf\\xa1\\xbc\\xad \\xbf\\xad\\xb8\\xb2\" alt=\"\\xc0\\xcc\\xb5\\xbf\"></form>\\r\\n            <form name=\"sitelink3\" method=\"get\" action=\"/sitelink.jsp\" target=\"_blank\">\\r\\n              <label for=\"sitelink3\" class=\"blind\">\\xb9\\xe6\\xc0\\xe7\\xc0\\xaf\\xb0\\xfc\\xb1\\xe2\\xb0\\xfc \\xb9\\xd9\\xb7\\xce\\xb0\\xa1\\xb1\\xe2</label>\\r\\n              <select id=\"sitelink3\" name=\"link\">\\r\\n                <option label=\"\\xb9\\xe6\\xc0\\xe7\\xc0\\xaf\\xb0\\xfc\\xb1\\xe2\\xb0\\xfc\" value=\"\" selected=\"selected\">\\xb9\\xe6\\xc0\\xe7\\xc0\\xaf\\xb0\\xfc\\xb1\\xe2\\xb0\\xfc</option>\\r\\n                <option value=\"\\xbc\\xad\\xbf\\xef\\xc1\\xbe\\xc7\\xd5\\xb9\\xe6\\xc0\\xe7\\xbc\\xbe\\xc5\\xcd\">\\xbc\\xad\\xbf\\xef\\xc1\\xbe\\xc7\\xd5\\xb9\\xe6\\xc0\\xe7\\xbc\\xbe\\xc5\\xcd</option>\\r\\n                <option value=\"\\xb1\\xb9\\xb8\\xb3\\xc0\\xe7\\xb3\\xad\\xbe\\xc8\\xc0\\xfc\\xbf\\xac\\xb1\\xb8\\xbf\\xf8\">\\xb1\\xb9\\xb8\\xb3\\xc0\\xe7\\xb3\\xad\\xbe\\xc8\\xc0\\xfc\\xbf\\xac\\xb1\\xb8\\xbf\\xf8</option>\\r\\n                <option value=\"\\xc7\\xd1\\xb0\\xad\\xc8\\xab\\xbc\\xf6\\xc5\\xeb\\xc1\\xa6\\xbc\\xd2\">\\xc7\\xd1\\xb0\\xad\\xc8\\xab\\xbc\\xf6\\xc5\\xeb\\xc1\\xa6\\xbc\\xd2</option>\\r\\n                <option value=\"\\xc1\\xdf\\xbe\\xd3\\xc0\\xe7\\xb3\\xad\\xbe\\xc8\\xc0\\xfc\\xb4\\xeb\\xc3\\xa5\\xba\\xbb\\xba\\xce\">\\xc1\\xdf\\xbe\\xd3\\xc0\\xe7\\xb3\\xad\\xbe\\xc8\\xc0\\xfc\\xb4\\xeb\\xc3\\xa5\\xba\\xbb\\xba\\xce</option>\\r\\n                <option value=\"\\xb4\\xeb\\xb1\\xe2\\xbf\\xc0\\xbf\\xb0\\xb5\\xb5\\xbd\\xc7\\xbd\\xc3\\xb0\\xa3\\xb0\\xf8\\xb0\\xb3\">\\xb4\\xeb\\xb1\\xe2\\xbf\\xc0\\xbf\\xb0\\xb5\\xb5\\xbd\\xc7\\xbd\\xc3\\xb0\\xa3\\xb0\\xf8\\xb0\\xb3</option>\\r\\n                <option value=\"\\xb1\\xb9\\xb0\\xa1\\xbc\\xf6\\xc0\\xda\\xbf\\xf8\\xb0\\xfc\\xb8\\xae\\xc1\\xbe\\xc7\\xd5\\xc1\\xa4\\xba\\xb8\\xbd\\xc3\\xbd\\xba\\xc5\\xdb\">\\xb1\\xb9\\xb0\\xa1\\xbc\\xf6\\xc0\\xda\\xbf\\xf8\\xb0\\xfc\\xb8\\xae\\xc1\\xbe\\xc7\\xd5\\xc1\\xa4\\xba\\xb8\\xbd\\xc3\\xbd\\xba\\xc5\\xdb</option></select>\\r\\n              <input type=\"image\" src=\"/home/images/btn_move2.gif\" title=\"\\xbc\\xb1\\xc5\\xc3\\xc7\\xd1 \\xc8\\xa8\\xc6\\xe4\\xc0\\xcc\\xc1\\xf6\\xb7\\xce \\xc0\\xcc\\xb5\\xbf \\xbb\\xf5\\xc3\\xa2\\xbf\\xa1\\xbc\\xad \\xbf\\xad\\xb8\\xb2\" alt=\"\\xc0\\xcc\\xb5\\xbf\"></form>\\r\\n            <form name=\"sitelink4\" method=\"get\" action=\"/sitelink.jsp\" target=\"_blank\">\\r\\n              <label for=\"sitelink4\" class=\"blind\">\\xbf\\xdc\\xb1\\xb9\\xb1\\xe2\\xbb\\xf3\\xc3\\xbb \\xb9\\xd9\\xb7\\xce\\xb0\\xa1\\xb1\\xe2</label>\\r\\n              <select id=\"sitelink4\" name=\"link\">\\r\\n                <option label=\"\\xbf\\xdc\\xb1\\xb9\\xb1\\xe2\\xbb\\xf3\\xc3\\xbb\" value=\"\" selected=\"selected\">\\xbf\\xdc\\xb1\\xb9\\xb1\\xe2\\xbb\\xf3\\xc3\\xbb</option>\\r\\n                <option value=\"\\xb9\\xcc\\xb1\\xb9\">\\xb9\\xcc\\xb1\\xb9</option>\\r\\n                <option value=\"\\xc0\\xcf\\xba\\xbb\">\\xc0\\xcf\\xba\\xbb</option>\\r\\n                <option value=\"\\xc1\\xdf\\xb1\\xb9\">\\xc1\\xdf\\xb1\\xb9</option>\\r\\n                <option value=\"\\xbf\\xb5\\xb1\\xb9\">\\xbf\\xb5\\xb1\\xb9</option>\\r\\n                <option value=\"\\xc7\\xc1\\xb6\\xfb\\xbd\\xba\">\\xc7\\xc1\\xb6\\xfb\\xbd\\xba</option>\\r\\n                <option value=\"\\xbc\\xbc\\xb0\\xe8\\xb1\\xe2\\xbb\\xf3\\xb1\\xe2\\xb1\\xb8WMO\">\\xbc\\xbc\\xb0\\xe8\\xb1\\xe2\\xbb\\xf3\\xb1\\xe2\\xb1\\xb8WMO</option></select>\\r\\n              <input type=\"image\" src=\"/home/images/btn_move2.gif\" title=\"\\xbc\\xb1\\xc5\\xc3\\xc7\\xd1 \\xc8\\xa8\\xc6\\xe4\\xc0\\xcc\\xc1\\xf6\\xb7\\xce \\xc0\\xcc\\xb5\\xbf \\xbb\\xf5\\xc3\\xa2\\xbf\\xa1\\xbc\\xad \\xbf\\xad\\xb8\\xb2\" alt=\"\\xc0\\xcc\\xb5\\xbf\"></form>\\r\\n            <form name=\"sitelink5\" method=\"get\" action=\"/sitelink.jsp\" target=\"_blank\" class=\"last\">\\r\\n              <label for=\"sitelink5\" class=\"blind\">\\xb1\\xe2\\xbb\\xf3\\xb0\\xfc\\xb7\\xc3\\xb4\\xdc\\xc3\\xbc \\xb9\\xd9\\xb7\\xce\\xb0\\xa1\\xb1\\xe2</label>\\r\\n              <select name=\"link\" id=\"sitelink5\" class=\"last\">\\r\\n                <option label=\"\\xb1\\xe2\\xbb\\xf3\\xb0\\xfc\\xb7\\xc3\\xb4\\xdc\\xc3\\xbc\" value=\"\" selected=\"selected\">\\xb1\\xe2\\xbb\\xf3\\xb0\\xfc\\xb7\\xc3\\xb4\\xdc\\xc3\\xbc</option>\\r\\n                <option value=\"\\xc7\\xd1\\xb1\\xb9\\xb1\\xe2\\xbb\\xf3\\xbb\\xea\\xbe\\xf7\\xc1\\xf8\\xc8\\xef\\xbf\\xf8\">\\xc7\\xd1\\xb1\\xb9\\xb1\\xe2\\xbb\\xf3\\xbb\\xea\\xbe\\xf7\\xb1\\xe2\\xbc\\xfa\\xbf\\xf8</option>\\r\\n                <option value=\"APEC\\xb1\\xe2\\xc8\\xc4\\xbc\\xbe\\xc5\\xcd\">APEC\\xb1\\xe2\\xc8\\xc4\\xbc\\xbe\\xc5\\xcd</option>\\r\\n                <option value=\"\\xc7\\xd1\\xb1\\xb9\\xc7\\xfc\\xbc\\xf6\\xc4\\xa1\\xbf\\xb9\\xba\\xb8\\xb8\\xf0\\xb5\\xa8\\xb0\\xb3\\xb9\\xdf\\xbb\\xe7\\xbe\\xf7\\xb4\\xdc\">\\xc7\\xd1\\xb1\\xb9\\xc7\\xfc\\xbc\\xf6\\xc4\\xa1\\xbf\\xb9\\xba\\xb8\\xb8\\xf0\\xb5\\xa8\\xb0\\xb3\\xb9\\xdf\\xbb\\xe7\\xbe\\xf7\\xb4\\xdc</option></select>\\r\\n              <input type=\"image\" src=\"/home/images/btn_move2.gif\" title=\"\\xbc\\xb1\\xc5\\xc3\\xc7\\xd1 \\xc8\\xa8\\xc6\\xe4\\xc0\\xcc\\xc1\\xf6\\xb7\\xce \\xc0\\xcc\\xb5\\xbf \\xbb\\xf5\\xc3\\xa2\\xbf\\xa1\\xbc\\xad \\xbf\\xad\\xb8\\xb2\" alt=\"\\xc0\\xcc\\xb5\\xbf\"></form>\\r\\n          </fieldset>\\r\\n        </div>\\r\\n        <div class=\"footer_right link\">\\r\\n          <h3 class=\"blind\">\\xbb\\xe7\\xc0\\xcc\\xc6\\xae \\xb5\\xb5\\xbf\\xec\\xb9\\xcc</h3>\\r\\n          <ul class=\"site_helper\">\\r\\n            <li><a href=\"http://www.kma.go.kr/global/footer/privacy.jsp\" class=\"active\">\\xb0\\xb3\\xc0\\xce\\xc1\\xa4\\xba\\xb8 \\xc3\\xb3\\xb8\\xae\\xb9\\xe6\\xc4\\xa7</a></li>\\r\\n            <li><a href=\"http://www.kma.go.kr/global/footer/siteinfo.jsp\">\\xc0\\xcc\\xbf\\xeb\\xbe\\xc8\\xb3\\xbb</a></li>\\r\\n            <li><a href=\"http://www.kma.go.kr/global/footer/copyright.jsp\">\\xc0\\xfa\\xc0\\xdb\\xb1\\xc7\\xba\\xb8\\xc8\\xa3 \\xb9\\xd7 \\xc1\\xa4\\xc3\\xa5</a></li>\\r\\n            <li><a href=\"http://www.kma.go.kr/global/footer/accessibility.jsp\">\\xc0\\xa5\\xc1\\xa2\\xb1\\xd9\\xbc\\xba\\xc1\\xa4\\xc3\\xa5</a></li>\\r\\n            <li><a href=\"http://www.kma.go.kr/global/footer/return.jsp\">\\xc8\\xa8\\xc6\\xe4\\xc0\\xcc\\xc1\\xf6\\xbf\\xc0\\xb7\\xf9\\xa1\\xa4\\xb0\\xc7\\xc0\\xc7</a></li>\\r\\n            <!--<li><a href=\"http://www.kma.go.kr/global/footer/telephone_1.jsp\">\\xc0\\xfc\\xc8\\xad\\xb9\\xf8\\xc8\\xa3\\xbe\\xc8\\xb3\\xbb</a></li>-->\\r\\n\\t\\t\\t<li><a href=\"http://www.kma.go.kr/aboutkma/organization/chart.jsp\">\\xc0\\xfc\\xc8\\xad\\xb9\\xf8\\xc8\\xa3\\xbe\\xc8\\xb3\\xbb</a></li>\\r\\n            <li><a href=\"http://www.kma.go.kr/aboutkma/organization/personnel_list.jsp?schParent=1360001\">\\xba\\xce\\xbc\\xad\\xa1\\xa4\\xc1\\xf7\\xbf\\xf8\\xc3\\xa3\\xb1\\xe2</a></li>\\r\\n            <li><a href=\"http://www.kma.go.kr/global/footer/viewer.jsp\">\\xba\\xe4\\xbe\\xee\\xb4\\xd9\\xbf\\xee\\xb7\\xce\\xb5\\xe5</a></li>\\r\\n          </ul>\\r\\n\\t\\t<a class=\"btn01\"><img alt=\"OPEN \\xb0\\xf8\\xb0\\xf8\\xb4\\xa9\\xb8\\xae \\xb0\\xf8\\xb0\\xf8\\xc0\\xfa\\xc0\\xdb\\xb9\\xb0 \\xc0\\xda\\xc0\\xaf\\xc0\\xcc\\xbf\\xeb\\xc7\\xe3\\xb6\\xf4 \\xc3\\xe2\\xc3\\xb3\\xc7\\xa5\\xbd\\xc3\" src=\"/home/images/KOGL.jpg\" /></a>\\r\\n        </div>\\r\\n        <div class=\"footer_right ml50\">\\r\\n          <p class=\"logo\"><img src=\"/images/common/footer_logo_1.gif\" alt=\"\\xb1\\xe2\\xbb\\xf3\\xc3\\xbb\" /></p>\\r\\n          <h3 class=\"blind\">\\xbf\\xac\\xb6\\xf4\\xc3\\xb3 \\xb9\\xd7 \\xc0\\xfa\\xc0\\xdb\\xb1\\xc7</h3>\\r\\n          <address>\\r\\n            <p>\\xbf\\xec. 07062 \\xbc\\xad\\xbf\\xef\\xbd\\xc3 \\xb5\\xbf\\xc0\\xdb\\xb1\\xb8 \\xbf\\xa9\\xc0\\xc7\\xb4\\xeb\\xb9\\xe6\\xb7\\xce16\\xb1\\xe6 61 \\xb4\\xeb\\xc7\\xa5\\xc0\\xfc\\xc8\\xad (02)2181-0900 (\\xc6\\xf2\\xc0\\xcf 9:00~18:00, \\xbe\\xdf\\xb0\\xa3\\xc8\\xde\\xc0\\xcf\\xc0\\xba \\xb4\\xe7\\xc1\\xf7\\xbd\\xc7 \\xbf\\xac\\xb0\\xe1)</p>\\r\\n          </address>\\r\\n          <p class=\"copyright\">\\xba\\xbb \\xc8\\xa8\\xc6\\xe4\\xc0\\xcc\\xc1\\xf6\\xbf\\xa1 \\xb0\\xd4\\xbd\\xc3\\xb5\\xc8 \\xc0\\xcc\\xb8\\xde\\xc0\\xcf \\xc1\\xd6\\xbc\\xd2\\xb0\\xa1 \\xc0\\xda\\xb5\\xbf \\xbc\\xf6\\xc1\\xfd\\xb5\\xc7\\xb4\\xc2 \\xb0\\xcd\\xc0\\xbb \\xb0\\xc5\\xba\\xce\\xc7\\xcf\\xb8\\xe7, \\xc0\\xcc\\xb8\\xa6 \\xc0\\xa7\\xb9\\xdd\\xbd\\xc3 \\xc1\\xa4\\xba\\xb8\\xc5\\xeb\\xbd\\xc5\\xb8\\xc1\\xb9\\xfd\\xbf\\xa1 \\xc0\\xc7\\xc7\\xd8 \\xc3\\xb3\\xb9\\xfa\\xb5\\xca\\xc0\\xbb \\xc0\\xaf\\xb3\\xe4\\xc7\\xcf\\xbd\\xc3\\xb1\\xe2 \\xb9\\xd9\\xb6\\xf8\\xb4\\xcf\\xb4\\xd9.</p>\\r\\n          <p class=\"copyright\">Copyright \\xa8\\xcf 2018 KMA. All Rights RESERVED. E-mail: webmasterkma@kma.go.kr</p>\\r\\n\\t\\t  <p class=\"mark_wa\"><a href=\"http://www.kma.go.kr/notify/notice/list.jsp?bid=gongzi&mode=view&num=1192562&page=1&field=&text=\" target=\"_blank\" title=\"\\xbb\\xf5\\xc3\\xa2\\xbf\\xad\\xb8\\xb2\"><img alt=\"\\xb0\\xfa\\xc7\\xd0\\xb1\\xe2\\xbc\\xfa\\xc5\\xeb\\xbd\\xc5\\xba\\xce\" src=\"/home/images/mark_wa.png\" /></a></p>\\r\\n          <p class=\"call_center\"><a href=\"http://www.kma.go.kr/aboutkma/biz/service.jsp#callcenter\" target=\"_blank\" title=\"\\xbb\\xf5\\xc3\\xa2\\xbf\\xad\\xb8\\xb2\"><img src=\"/home/images/footer_call131.jpg\" alt=\"\\xb1\\xe2\\xbb\\xf3\\xc4\\xdd\\xbc\\xbe\\xc5\\xcd \\xc0\\xfc\\xb1\\xb9 \\xb1\\xb9\\xb9\\xf8\\xbe\\xf8\\xc0\\xcc 131\" /></a></p>\\r\\n        </div>\\r\\n    </div>\\r\\n\\t<script src=\"/share/js/warninglayer.js?ver=2018112101\"></script>\\r\\n\\t<script src=\"/eqk_layer/eqk.js?ver=2018112901\"></script>\\r\\n\\t<!-- START OF LOGGER TRACKING SCRIPT -->\\r\\n\\t<script src=\"/share/js/logger2.weather.go.kr.1057.js\"></script>\\r\\n\\t<noscript><img  alt=\"\\xb7\\xce\\xb1\\xd7\" src=\"https://logger.kma.go.kr/tracker.tsp?u=7&amp;js=N\" width=\"0\" height=\"0\" /></noscript>\\r\\n\\t<!-- END OF LOGGER TRACKING SCRIPT -->\\r\\n\\t<script type=\"text/javascript\" src=\"/share/js/UserScriptConf.js\"></script>\\r\\n</div>\\n\\t\\t\\t\\n\\t</body>\\n</html>'\n"
     ]
    },
    {
     "ename": "UnicodeDecodeError",
     "evalue": "'utf-8' codec can't decode byte 0xc0 in position 118: invalid start byte",
     "output_type": "error",
     "traceback": [
      "\u001b[1;31m---------------------------------------------------------------------------\u001b[0m",
      "\u001b[1;31mUnicodeDecodeError\u001b[0m                        Traceback (most recent call last)",
      "\u001b[1;32m<ipython-input-5-edfae6db630f>\u001b[0m in \u001b[0;36m<module>\u001b[1;34m\u001b[0m\n\u001b[0;32m     18\u001b[0m \u001b[0mdata\u001b[0m \u001b[1;33m=\u001b[0m \u001b[0murlopen\u001b[0m\u001b[1;33m(\u001b[0m\u001b[0murl\u001b[0m\u001b[1;33m)\u001b[0m\u001b[1;33m.\u001b[0m\u001b[0mread\u001b[0m\u001b[1;33m(\u001b[0m\u001b[1;33m)\u001b[0m\u001b[1;33m\u001b[0m\u001b[1;33m\u001b[0m\u001b[0m\n\u001b[0;32m     19\u001b[0m \u001b[0mprint\u001b[0m\u001b[1;33m(\u001b[0m\u001b[0mdata\u001b[0m\u001b[1;33m)\u001b[0m\u001b[1;33m\u001b[0m\u001b[1;33m\u001b[0m\u001b[0m\n\u001b[1;32m---> 20\u001b[1;33m \u001b[0mdata\u001b[0m\u001b[1;33m.\u001b[0m\u001b[0mdecode\u001b[0m\u001b[1;33m(\u001b[0m\u001b[1;34m'utf-8'\u001b[0m\u001b[1;33m)\u001b[0m\u001b[1;33m\u001b[0m\u001b[1;33m\u001b[0m\u001b[0m\n\u001b[0m\u001b[0;32m     21\u001b[0m \u001b[0mprint\u001b[0m\u001b[1;33m(\u001b[0m\u001b[0mdata\u001b[0m\u001b[1;33m)\u001b[0m\u001b[1;33m\u001b[0m\u001b[1;33m\u001b[0m\u001b[0m\n",
      "\u001b[1;31mUnicodeDecodeError\u001b[0m: 'utf-8' codec can't decode byte 0xc0 in position 118: invalid start byte"
     ]
    }
   ],
   "source": [
    "import urllib.parse\n",
    "\n",
    "##### 요청 방식()\n",
    "# 프로토콜://서버주소:포트번호/폴더 또는 파일명\n",
    "# 프로토콜://서버주소:포트번호/파일명?변수명=값&변수명=값\n",
    "\n",
    "# http://www.weather.go.kr/weather/lifenindustry/sevice_res.jsp\n",
    "\n",
    "api ='http://www.weather.go.kr/weather/lifenindustry/sevice_rss.jsp'\n",
    "value = {'stnld': 109}\n",
    "\n",
    "params = urllib.parse.urlencode(value)\n",
    "print(params)\n",
    "\n",
    "url = api + '?' + params\n",
    "print(url)\n",
    "\n",
    "data = urlopen(url).read()\n",
    "print(data)\n",
    "data.decode('utf-8')\n",
    "print(data)"
   ]
  },
  {
   "cell_type": "markdown",
   "metadata": {},
   "source": [
    "#### 2) BeautifulSoup 사용법"
   ]
  },
  {
   "cell_type": "code",
   "execution_count": 6,
   "metadata": {},
   "outputs": [],
   "source": [
    "from bs4 import BeautifulSoup"
   ]
  },
  {
   "cell_type": "code",
   "execution_count": 7,
   "metadata": {},
   "outputs": [
    {
     "name": "stdout",
     "output_type": "stream",
     "text": [
      "<!DOCTYPE html>\n",
      "<html>\n",
      " <head>\n",
      "  <title>\n",
      "   Very Simple HTML Code by Netsong7\n",
      "  </title>\n",
      " </head>\n",
      " <body>\n",
      "  <div>\n",
      "   <p class=\"inner-text first-item\" id=\"first\">\n",
      "    Happy PinkWink.\n",
      "    <a href=\"http://netsong7.synology.me\" id=\"pw-link\">\n",
      "     PinkWink\n",
      "    </a>\n",
      "   </p>\n",
      "   <p class=\"inner-text second-item\">\n",
      "    Happy Data Science.\n",
      "    <a href=\"https://www.python.org\" id=\"py-link\">\n",
      "     Python\n",
      "    </a>\n",
      "   </p>\n",
      "  </div>\n",
      "  <p class=\"outer-text first-item\" id=\"second\">\n",
      "   <b>\n",
      "    Data Science is funny.\n",
      "   </b>\n",
      "  </p>\n",
      "  <p class=\"outer-text\">\n",
      "   <b>\n",
      "    All I need is Love.\n",
      "   </b>\n",
      "  </p>\n",
      " </body>\n",
      "</html>\n"
     ]
    }
   ],
   "source": [
    "page = open('data/test_first.html').read()\n",
    "page\n",
    "\n",
    "soup = BeautifulSoup(page,'html.parser')\n",
    "print(soup.prettify())"
   ]
  },
  {
   "cell_type": "code",
   "execution_count": 13,
   "metadata": {},
   "outputs": [
    {
     "data": {
      "text/plain": [
       "['html',\n",
       " '\\n',\n",
       " <html><head>\n",
       " <title>Very Simple HTML Code by Netsong7</title>\n",
       " </head><body>\n",
       " <div>\n",
       " <p class=\"inner-text first-item\" id=\"first\">\n",
       "                 Happy PinkWink.\n",
       "                 <a href=\"http://netsong7.synology.me\" id=\"pw-link\">PinkWink</a>\n",
       " </p>\n",
       " <p class=\"inner-text second-item\">\n",
       "                 Happy Data Science.\n",
       "                 <a href=\"https://www.python.org\" id=\"py-link\">Python</a>\n",
       " </p>\n",
       " </div>\n",
       " <p class=\"outer-text first-item\" id=\"second\">\n",
       " <b>\n",
       "                 Data Science is funny.\n",
       "             </b>\n",
       " </p>\n",
       " <p class=\"outer-text\">\n",
       " <b>\n",
       "                 All I need is Love.\n",
       "             </b>\n",
       " </p>\n",
       " </body>\n",
       " </html>]"
      ]
     },
     "execution_count": 13,
     "metadata": {},
     "output_type": "execute_result"
    }
   ],
   "source": [
    "##### 원하는 위치에 접근하는 방법\n",
    "\n",
    "list(soup.children)\n",
    "#list(soup.children)[0]\n",
    "#list(soup.children)[1]\n",
    "#list(soup.children)[2]\n"
   ]
  },
  {
   "cell_type": "code",
   "execution_count": 35,
   "metadata": {},
   "outputs": [
    {
     "data": {
      "text/plain": [
       "['\\n',\n",
       " <div>\n",
       " <p class=\"inner-text first-item\" id=\"first\">\n",
       "                 Happy PinkWink.\n",
       "                 <a href=\"http://netsong7.synology.me\" id=\"pw-link\">PinkWink</a>\n",
       " </p>\n",
       " <p class=\"inner-text second-item\">\n",
       "                 Happy Data Science.\n",
       "                 <a href=\"https://www.python.org\" id=\"py-link\">Python</a>\n",
       " </p>\n",
       " </div>,\n",
       " '\\n',\n",
       " <p class=\"outer-text first-item\" id=\"second\">\n",
       " <b>\n",
       "                 Data Science is funny.\n",
       "             </b>\n",
       " </p>,\n",
       " '\\n',\n",
       " <p class=\"outer-text\">\n",
       " <b>\n",
       "                 All I need is Love.\n",
       "             </b>\n",
       " </p>,\n",
       " '\\n']"
      ]
     },
     "execution_count": 35,
     "metadata": {},
     "output_type": "execute_result"
    }
   ],
   "source": [
    "html = list(soup.children)[2]\n",
    "list(html.children)\n",
    "list(html.children)[0]\n",
    "\n",
    "body = list(html.children)[1]\n",
    "list(body.children)"
   ]
  },
  {
   "cell_type": "code",
   "execution_count": 37,
   "metadata": {},
   "outputs": [
    {
     "data": {
      "text/plain": [
       "<p class=\"inner-text first-item\" id=\"first\">\n",
       "                Happy PinkWink.\n",
       "                <a href=\"http://netsong7.synology.me\" id=\"pw-link\">PinkWink</a>\n",
       "</p>"
      ]
     },
     "execution_count": 37,
     "metadata": {},
     "output_type": "execute_result"
    }
   ],
   "source": [
    "##### 태그명으로 접근\n",
    "soup.head\n",
    "soup.body\n",
    "soup.body.div\n",
    "soup.body.div.p\n"
   ]
  },
  {
   "cell_type": "code",
   "execution_count": 40,
   "metadata": {},
   "outputs": [
    {
     "data": {
      "text/plain": [
       "[<p class=\"inner-text first-item\" id=\"first\">\n",
       "                 Happy PinkWink.\n",
       "                 <a href=\"http://netsong7.synology.me\" id=\"pw-link\">PinkWink</a>\n",
       " </p>,\n",
       " <p class=\"inner-text second-item\">\n",
       "                 Happy Data Science.\n",
       "                 <a href=\"https://www.python.org\" id=\"py-link\">Python</a>\n",
       " </p>,\n",
       " <p class=\"outer-text first-item\" id=\"second\">\n",
       " <b>\n",
       "                 Data Science is funny.\n",
       "             </b>\n",
       " </p>,\n",
       " <p class=\"outer-text\">\n",
       " <b>\n",
       "                 All I need is Love.\n",
       "             </b>\n",
       " </p>]"
      ]
     },
     "execution_count": 40,
     "metadata": {},
     "output_type": "execute_result"
    }
   ],
   "source": [
    "##### find(), findall()\n",
    "\n",
    "soup.find('p')\n",
    "soup.find_all('p')\n"
   ]
  },
  {
   "cell_type": "code",
   "execution_count": 41,
   "metadata": {},
   "outputs": [
    {
     "data": {
      "text/plain": [
       "<p class=\"outer-text first-item\" id=\"second\">\n",
       "<b>\n",
       "                Data Science is funny.\n",
       "            </b>\n",
       "</p>"
      ]
     },
     "execution_count": 41,
     "metadata": {},
     "output_type": "execute_result"
    }
   ],
   "source": [
    "soup.find('p',class_='outer-text')"
   ]
  },
  {
   "cell_type": "code",
   "execution_count": 42,
   "metadata": {},
   "outputs": [
    {
     "data": {
      "text/plain": [
       "<p class=\"outer-text first-item\" id=\"second\">\n",
       "<b>\n",
       "                Data Science is funny.\n",
       "            </b>\n",
       "</p>"
      ]
     },
     "execution_count": 42,
     "metadata": {},
     "output_type": "execute_result"
    }
   ],
   "source": [
    "soup.find('p',id='second')"
   ]
  },
  {
   "cell_type": "code",
   "execution_count": 56,
   "metadata": {},
   "outputs": [
    {
     "data": {
      "text/plain": [
       "<html><head>\n",
       "<title>Very Simple HTML Code by Netsong7</title>\n",
       "</head><body>\n",
       "<div>\n",
       "<p class=\"inner-text first-item\" id=\"first\">\n",
       "                Happy PinkWink.\n",
       "                <a href=\"http://netsong7.synology.me\" id=\"pw-link\">PinkWink</a>\n",
       "</p>\n",
       "<p class=\"inner-text second-item\">\n",
       "                Happy Data Science.\n",
       "                <a href=\"https://www.python.org\" id=\"py-link\">Python</a>\n",
       "</p>\n",
       "</div>\n",
       "<p class=\"outer-text first-item\" id=\"second\">\n",
       "<b>\n",
       "                Data Science is funny.\n",
       "            </b>\n",
       "</p>\n",
       "<p class=\"outer-text\">\n",
       "<b>\n",
       "                All I need is Love.\n",
       "            </b>\n",
       "</p>\n",
       "</body>\n",
       "</html>"
      ]
     },
     "execution_count": 56,
     "metadata": {},
     "output_type": "execute_result"
    }
   ],
   "source": [
    "soup.head\n",
    "soup.head.next_sibling\n",
    "\n",
    "soup.body\n",
    "soup.body.previous_sibling\n",
    "\n",
    "soup.body.p.next_sibling.next_sibling.next_sibling\n",
    "\n",
    "soup.body.parent"
   ]
  },
  {
   "cell_type": "code",
   "execution_count": 64,
   "metadata": {},
   "outputs": [
    {
     "name": "stdout",
     "output_type": "stream",
     "text": [
      "\n",
      "                Happy PinkWink.\n",
      "                PinkWink\n",
      "\n",
      "\n",
      "                Happy Data Science.\n",
      "                Python\n",
      "\n",
      "\n",
      "\n",
      "                Data Science is funny.\n",
      "            \n",
      "\n",
      "\n",
      "\n",
      "                All I need is Love.\n",
      "            \n",
      "\n"
     ]
    }
   ],
   "source": [
    "##### 데이터(Text Node) 가져오기\n",
    "\n",
    "soup.html.get_text()\n",
    "soup.head.get_text()\n",
    "soup.title.get_text()\n",
    "soup.div.get_text()\n",
    "soup.p.get_text()\n",
    "\n",
    "for p in soup.find_all('p'):\n",
    "    print(p.get_text())"
   ]
  },
  {
   "cell_type": "code",
   "execution_count": 66,
   "metadata": {},
   "outputs": [
    {
     "name": "stdout",
     "output_type": "stream",
     "text": [
      "http://netsong7.synology.me\n",
      "https://www.python.org\n"
     ]
    }
   ],
   "source": [
    "##### 속성에 접근하기\n",
    "\n",
    "link = soup.find('a')\n",
    "link\n",
    "\n",
    "link['href']\n",
    "\n",
    "links = soup.find_all('a')\n",
    "for n in links:\n",
    "    print(n['href'])"
   ]
  },
  {
   "cell_type": "markdown",
   "metadata": {},
   "source": [
    "---\n",
    "### 실습예제"
   ]
  },
  {
   "cell_type": "markdown",
   "metadata": {},
   "source": [
    "#### 1) 네이버에서 환율정보 가져오기\n",
    "\n",
    "+ https://finance.naver.com/marketindex/"
   ]
  },
  {
   "cell_type": "code",
   "execution_count": 80,
   "metadata": {},
   "outputs": [],
   "source": [
    "from urllib.request import urlopen\n",
    "\n",
    "url = 'https://finance.naver.com/marketindex/'\n",
    "page = urlopen(url)\n",
    "page\n",
    "\n",
    "soup = BeautifulSoup(page,'html.parser')"
   ]
  },
  {
   "cell_type": "code",
   "execution_count": 82,
   "metadata": {},
   "outputs": [
    {
     "name": "stdout",
     "output_type": "stream",
     "text": [
      "미 환율: 1,115.30\n"
     ]
    }
   ],
   "source": [
    "span = soup.find_all(\"span\", class_ = \"value\")\n",
    "span\n",
    "\n",
    "print('미 환율:',span[0].get_text())"
   ]
  },
  {
   "cell_type": "code",
   "execution_count": 92,
   "metadata": {},
   "outputs": [
    {
     "name": "stdout",
     "output_type": "stream",
     "text": [
      "미 환율: 1,115.30\n"
     ]
    }
   ],
   "source": [
    "div = soup.find_all('div',class_='head_info')\n",
    "span = div[0].find_all('span')\n",
    "span\n",
    "print('미 환율:',span[0].get_text())"
   ]
  },
  {
   "cell_type": "code",
   "execution_count": 93,
   "metadata": {},
   "outputs": [
    {
     "data": {
      "text/plain": [
       "<span class=\"value\">1,115.30</span>"
      ]
     },
     "execution_count": 93,
     "metadata": {},
     "output_type": "execute_result"
    }
   ],
   "source": [
    "# CSS\n",
    "\n",
    "soup.select_one('div.head_info > span.value')\n",
    "span.get_text()"
   ]
  },
  {
   "cell_type": "markdown",
   "metadata": {},
   "source": [
    "#### 2) 스프래핑 연습"
   ]
  },
  {
   "cell_type": "code",
   "execution_count": 95,
   "metadata": {},
   "outputs": [],
   "source": [
    "url = 'http://www.pythonscraping.com/pages/warandpeace.html'\n",
    "page = urlopen(url)\n",
    "soup = BeautifulSoup(page,'html.parser')"
   ]
  },
  {
   "cell_type": "code",
   "execution_count": 103,
   "metadata": {},
   "outputs": [
    {
     "name": "stdout",
     "output_type": "stream",
     "text": [
      "Anna\n",
      "Pavlovna Scherer\n",
      "Empress Marya\n",
      "Fedorovna\n",
      "Prince Vasili Kuragin\n",
      "Anna Pavlovna\n",
      "St. Petersburg\n",
      "the prince\n",
      "Anna Pavlovna\n",
      "Anna Pavlovna\n",
      "the prince\n",
      "the prince\n",
      "the prince\n",
      "Prince Vasili\n",
      "Anna Pavlovna\n",
      "Anna Pavlovna\n",
      "the prince\n",
      "Wintzingerode\n",
      "King of Prussia\n",
      "le Vicomte de Mortemart\n",
      "Montmorencys\n",
      "Rohans\n",
      "Abbe Morio\n",
      "the Emperor\n",
      "the prince\n",
      "Prince Vasili\n",
      "Dowager Empress Marya Fedorovna\n",
      "the baron\n",
      "Anna Pavlovna\n",
      "the Empress\n",
      "the Empress\n",
      "Anna Pavlovna's\n",
      "Her Majesty\n",
      "Baron\n",
      "Funke\n",
      "The prince\n",
      "Anna\n",
      "Pavlovna\n",
      "the Empress\n",
      "The prince\n",
      "Anatole\n",
      "the prince\n",
      "The prince\n",
      "Anna\n",
      "Pavlovna\n",
      "Anna Pavlovna\n"
     ]
    }
   ],
   "source": [
    "# 녹색 단어만 골라오기\n",
    "span = soup.find_all('span',class_='green')\n",
    "for w in span:\n",
    "    print(w.get_text())"
   ]
  },
  {
   "cell_type": "code",
   "execution_count": 106,
   "metadata": {},
   "outputs": [
    {
     "name": "stdout",
     "output_type": "stream",
     "text": [
      "Anna\n",
      "Pavlovna Scherer\n",
      "Empress Marya\n",
      "Fedorovna\n",
      "Prince Vasili Kuragin\n",
      "Anna Pavlovna\n",
      "St. Petersburg\n",
      "the prince\n",
      "Anna Pavlovna\n",
      "Anna Pavlovna\n",
      "the prince\n",
      "the prince\n",
      "the prince\n",
      "Prince Vasili\n",
      "Anna Pavlovna\n",
      "Anna Pavlovna\n",
      "the prince\n",
      "the prince\n",
      "Prince Vasili\n",
      "Dowager Empress Marya Fedorovna\n",
      "the baron\n",
      "Anna Pavlovna\n",
      "the Empress\n",
      "the Empress\n",
      "Anna Pavlovna's\n",
      "Her Majesty\n",
      "Baron\n",
      "Funke\n",
      "The prince\n",
      "Anna\n",
      "Pavlovna\n",
      "the Empress\n",
      "The prince\n",
      "the prince\n",
      "The prince\n",
      "Anna\n",
      "Pavlovna\n",
      "Anna Pavlovna\n"
     ]
    }
   ],
   "source": [
    "green = soup.select('div#text > span.green')\n",
    "green\n",
    "\n",
    "for w in green:\n",
    "    print(w.get_text())"
   ]
  },
  {
   "cell_type": "code",
   "execution_count": 107,
   "metadata": {},
   "outputs": [],
   "source": [
    "green = soup.find_all('span',{'class':'green'})"
   ]
  },
  {
   "cell_type": "code",
   "execution_count": 117,
   "metadata": {},
   "outputs": [
    {
     "name": "stdout",
     "output_type": "stream",
     "text": [
      "War and Peace\n",
      "Chapter 1\n",
      "['War and Peace', 'Chapter 1']\n"
     ]
    }
   ],
   "source": [
    "##### 제목 추출\n",
    "# h1, h2, ,,, h6\n",
    "h1=[]\n",
    "h1 = soup.find_all(['h1','h2'])\n",
    "for i in h1:\n",
    "    print(i.get_text())\n",
    "print([i.get_text() for i in h1])"
   ]
  },
  {
   "cell_type": "code",
   "execution_count": 122,
   "metadata": {},
   "outputs": [
    {
     "name": "stdout",
     "output_type": "stream",
     "text": [
      "Well, Prince, so Genoa and Lucca are now just family estates of the\n",
      "Buonapartes. But I warn you, if you don't tell me that this means war,\n",
      "if you still try to defend the infamies and horrors perpetrated by\n",
      "that Antichrist- I really believe he is Antichrist- I will have\n",
      "nothing more to do with you and you are no longer my friend, no longer\n",
      "my 'faithful slave,' as you call yourself! But how do you do? I see\n",
      "I have frightened you- sit down and tell me all the news.\n",
      "Anna\n",
      "Pavlovna Scherer\n",
      "Empress Marya\n",
      "Fedorovna\n",
      "Prince Vasili Kuragin\n",
      "Anna Pavlovna\n",
      "St. Petersburg\n",
      "If you have nothing better to do, Count [or Prince], and if the\n",
      "prospect of spending an evening with a poor invalid is not too\n",
      "terrible, I shall be very charmed to see you tonight between 7 and 10-\n",
      "Annette Scherer.\n",
      "Heavens! what a virulent attack!\n",
      "the prince\n",
      "Anna Pavlovna\n",
      "First of all, dear friend, tell me how you are. Set your friend's\n",
      "mind at rest,\n",
      "Can one be well while suffering morally? Can one be calm in times\n",
      "like these if one has any feeling?\n",
      "Anna Pavlovna\n",
      "You are\n",
      "staying the whole evening, I hope?\n",
      "And the fete at the English ambassador's? Today is Wednesday. I\n",
      "must put in an appearance there,\n",
      "the prince\n",
      "My daughter is\n",
      "coming for me to take me there.\n",
      "I thought today's fete had been canceled. I confess all these\n",
      "festivities and fireworks are becoming wearisome.\n",
      "If they had known that you wished it, the entertainment would\n",
      "have been put off,\n",
      "the prince\n",
      "Don't tease! Well, and what has been decided about Novosiltsev's\n",
      "dispatch? You know everything.\n",
      "What can one say about it?\n",
      "the prince\n",
      "What has been decided? They have decided that\n",
      "Buonaparte has burnt his boats, and I believe that we are ready to\n",
      "burn ours.\n",
      "Prince Vasili\n",
      "Anna Pavlovna\n",
      "Anna Pavlovna\n",
      "Oh, don't speak to me of Austria. Perhaps I don't understand\n",
      "things, but Austria never has wished, and does not wish, for war.\n",
      "She is betraying us! Russia alone must save Europe. Our gracious\n",
      "sovereign recognizes his high vocation and will be true to it. That is\n",
      "the one thing I have faith in! Our good and wonderful sovereign has to\n",
      "perform the noblest role on earth, and he is so virtuous and noble\n",
      "that God will not forsake him. He will fulfill his vocation and\n",
      "crush the hydra of revolution, which has become more terrible than\n",
      "ever in the person of this murderer and villain! We alone must\n",
      "avenge the blood of the just one.... Whom, I ask you, can we rely\n",
      "on?... England with her commercial spirit will not and cannot\n",
      "understand the Emperor Alexander's loftiness of soul. She has\n",
      "refused to evacuate Malta. She wanted to find, and still seeks, some\n",
      "secret motive in our actions. What answer did Novosiltsev get? None.\n",
      "The English have not understood and cannot understand the\n",
      "self-abnegation of our Emperor who wants nothing for himself, but only\n",
      "desires the good of mankind. And what have they promised? Nothing! And\n",
      "what little they have promised they will not perform! Prussia has\n",
      "always declared that Buonaparte is invincible, and that all Europe\n",
      "is powerless before him.... And I don't believe a word that Hardenburg\n",
      "says, or Haugwitz either. This famous Prussian neutrality is just a\n",
      "trap. I have faith only in God and the lofty destiny of our adored\n",
      "monarch. He will save Europe!\n",
      "I think,\n",
      "the prince\n",
      "that if you had been\n",
      "sent instead of our dear Wintzingerode you would have captured the\n",
      "King of Prussia's consent by assault. You are so eloquent. Will you\n",
      "give me a cup of tea?\n",
      "Wintzingerode\n",
      "King of Prussia\n",
      "In a moment. A propos,\n",
      "I am\n",
      "expecting two very interesting men tonight, le Vicomte de Mortemart,\n",
      "who is connected with the Montmorencys through the Rohans, one of\n",
      "the best French families. He is one of the genuine emigres, the good\n",
      "ones. And also the Abbe Morio. Do you know that profound thinker? He\n",
      "has been received by the Emperor. Had you heard?\n",
      "le Vicomte de Mortemart\n",
      "Montmorencys\n",
      "Rohans\n",
      "Abbe Morio\n",
      "the Emperor\n",
      "I shall be delighted to meet them,\n",
      "the prince\n",
      "But tell me,\n",
      "is it true that the Dowager Empress wants Baron Funke\n",
      "to be appointed first secretary at Vienna? The baron by all accounts\n",
      "is a poor creature.\n",
      "Prince Vasili\n",
      "Dowager Empress Marya Fedorovna\n",
      "the baron\n",
      "Anna Pavlovna\n",
      "the Empress\n",
      "Baron Funke has been recommended to the Dowager Empress by her\n",
      "sister,\n",
      "the Empress\n",
      "Anna Pavlovna's\n",
      "Her Majesty\n",
      "Baron\n",
      "Funke\n",
      "The prince\n",
      "Anna\n",
      "Pavlovna\n",
      "the Empress\n",
      "Now about your family. Do you know that since your daughter came\n",
      "out everyone has been enraptured by her? They say she is amazingly\n",
      "beautiful.\n",
      "The prince\n",
      "I often think,\n",
      "I often think how unfairly sometimes the\n",
      "joys of life are distributed. Why has fate given you two such splendid\n",
      "children? I don't speak of Anatole, your youngest. I don't like\n",
      "him,\n",
      "Anatole\n",
      "Two such charming children. And really you appreciate\n",
      "them less than anyone, and so you don't deserve to have them.\n",
      "I can't help it,\n",
      "the prince\n",
      "Lavater would have said I\n",
      "lack the bump of paternity.\n",
      "Don't joke; I mean to have a serious talk with you. Do you know I\n",
      "am dissatisfied with your younger son? Between ourselves\n",
      "he was mentioned at Her\n",
      "Majesty's and you were pitied....\n",
      "The prince\n",
      "What would you have me do?\n",
      "You know I did all\n",
      "a father could for their education, and they have both turned out\n",
      "fools. Hippolyte is at least a quiet fool, but Anatole is an active\n",
      "one. That is the only difference between them.\n",
      "And why are children born to such men as you? If you were not a\n",
      "father there would be nothing I could reproach you with,\n",
      "Anna\n",
      "Pavlovna\n",
      "I am your faithful slave and to you alone I can confess that my\n",
      "children are the bane of my life. It is the cross I have to bear. That\n",
      "is how I explain it to myself. It can't be helped!\n",
      "Anna Pavlovna\n"
     ]
    }
   ],
   "source": [
    "green = soup.find_all('span',{'class':['green','red']})\n",
    "for c in green:\n",
    "    print(c.get_text())"
   ]
  },
  {
   "cell_type": "code",
   "execution_count": 175,
   "metadata": {},
   "outputs": [],
   "source": [
    "url = 'http://www.pythonscraping.com/pages/page3.html'\n",
    "page = urlopen(url)\n",
    "soup = BeautifulSoup(page,'html.parser')"
   ]
  },
  {
   "cell_type": "code",
   "execution_count": 161,
   "metadata": {},
   "outputs": [
    {
     "name": "stdout",
     "output_type": "stream",
     "text": [
      "[]\n",
      "[<tr class=\"gift\" id=\"gift1\"><td>\n",
      "Vegetable Basket\n",
      "</td><td>\n",
      "This vegetable basket is the perfect gift for your health conscious (or overweight) friends!\n",
      "<span class=\"excitingNote\">Now with super-colorful bell peppers!</span>\n",
      "</td><td>\n",
      "$15.00\n",
      "</td><td>\n",
      "<img src=\"../img/gifts/img1.jpg\"/>\n",
      "</td></tr>]\n",
      "\n",
      "Vegetable Basket\n",
      "\n",
      "This vegetable basket is the perfect gift for your health conscious (or overweight) friends!\n",
      "Now with super-colorful bell peppers!\n",
      "\n",
      "$15.00\n",
      "\n",
      "\n",
      "\n",
      "[<tr class=\"gift\" id=\"gift2\"><td>\n",
      "Russian Nesting Dolls\n",
      "</td><td>\n",
      "Hand-painted by trained monkeys, these exquisite dolls are priceless! And by \"priceless,\" we mean \"extremely expensive\"! <span class=\"excitingNote\">8 entire dolls per set! Octuple the presents!</span>\n",
      "</td><td>\n",
      "$10,000.52\n",
      "</td><td>\n",
      "<img src=\"../img/gifts/img2.jpg\"/>\n",
      "</td></tr>]\n",
      "\n",
      "Russian Nesting Dolls\n",
      "\n",
      "Hand-painted by trained monkeys, these exquisite dolls are priceless! And by \"priceless,\" we mean \"extremely expensive\"! 8 entire dolls per set! Octuple the presents!\n",
      "\n",
      "$10,000.52\n",
      "\n",
      "\n",
      "\n",
      "[<tr class=\"gift\" id=\"gift3\"><td>\n",
      "Fish Painting\n",
      "</td><td>\n",
      "If something seems fishy about this painting, it's because it's a fish! <span class=\"excitingNote\">Also hand-painted by trained monkeys!</span>\n",
      "</td><td>\n",
      "$10,005.00\n",
      "</td><td>\n",
      "<img src=\"../img/gifts/img3.jpg\"/>\n",
      "</td></tr>]\n",
      "\n",
      "Fish Painting\n",
      "\n",
      "If something seems fishy about this painting, it's because it's a fish! Also hand-painted by trained monkeys!\n",
      "\n",
      "$10,005.00\n",
      "\n",
      "\n",
      "\n",
      "[<tr class=\"gift\" id=\"gift4\"><td>\n",
      "Dead Parrot\n",
      "</td><td>\n",
      "This is an ex-parrot! <span class=\"excitingNote\">Or maybe he's only resting?</span>\n",
      "</td><td>\n",
      "$0.50\n",
      "</td><td>\n",
      "<img src=\"../img/gifts/img4.jpg\"/>\n",
      "</td></tr>]\n",
      "\n",
      "Dead Parrot\n",
      "\n",
      "This is an ex-parrot! Or maybe he's only resting?\n",
      "\n",
      "$0.50\n",
      "\n",
      "\n",
      "\n"
     ]
    }
   ],
   "source": [
    "##### 제목행은 건너뛰고 나머지 모든 행 리스트를 수집\n",
    "# data = soup.find_all('tr',{'id':['gift1','gift2','gift3','gift4','gift5']})\n",
    "# for i in data:\n",
    "#     print(i.get_text())\n",
    "\n",
    "for i in range(5):\n",
    "    data = soup.find_all('tr',id = 'gift{}'.format(i))\n",
    "    print(data)\n",
    "    \n",
    "    for j in data:\n",
    "        print(j.get_text())\n",
    "\n",
    "#print(a)\n"
   ]
  },
  {
   "cell_type": "code",
   "execution_count": 134,
   "metadata": {},
   "outputs": [
    {
     "name": "stdout",
     "output_type": "stream",
     "text": [
      "\n",
      "\n",
      "<tr class=\"gift\" id=\"gift1\"><td>\n",
      "Vegetable Basket\n",
      "</td><td>\n",
      "This vegetable basket is the perfect gift for your health conscious (or overweight) friends!\n",
      "<span class=\"excitingNote\">Now with super-colorful bell peppers!</span>\n",
      "</td><td>\n",
      "$15.00\n",
      "</td><td>\n",
      "<img src=\"../img/gifts/img1.jpg\"/>\n",
      "</td></tr>\n",
      "\n",
      "\n",
      "<tr class=\"gift\" id=\"gift2\"><td>\n",
      "Russian Nesting Dolls\n",
      "</td><td>\n",
      "Hand-painted by trained monkeys, these exquisite dolls are priceless! And by \"priceless,\" we mean \"extremely expensive\"! <span class=\"excitingNote\">8 entire dolls per set! Octuple the presents!</span>\n",
      "</td><td>\n",
      "$10,000.52\n",
      "</td><td>\n",
      "<img src=\"../img/gifts/img2.jpg\"/>\n",
      "</td></tr>\n",
      "\n",
      "\n",
      "<tr class=\"gift\" id=\"gift3\"><td>\n",
      "Fish Painting\n",
      "</td><td>\n",
      "If something seems fishy about this painting, it's because it's a fish! <span class=\"excitingNote\">Also hand-painted by trained monkeys!</span>\n",
      "</td><td>\n",
      "$10,005.00\n",
      "</td><td>\n",
      "<img src=\"../img/gifts/img3.jpg\"/>\n",
      "</td></tr>\n",
      "\n",
      "\n",
      "<tr class=\"gift\" id=\"gift4\"><td>\n",
      "Dead Parrot\n",
      "</td><td>\n",
      "This is an ex-parrot! <span class=\"excitingNote\">Or maybe he's only resting?</span>\n",
      "</td><td>\n",
      "$0.50\n",
      "</td><td>\n",
      "<img src=\"../img/gifts/img4.jpg\"/>\n",
      "</td></tr>\n",
      "\n",
      "\n",
      "<tr class=\"gift\" id=\"gift5\"><td>\n",
      "Mystery Box\n",
      "</td><td>\n",
      "If you love suprises, this mystery box is for you! Do not place on light-colored surfaces. May cause oil staining. <span class=\"excitingNote\">Keep your friends guessing!</span>\n",
      "</td><td>\n",
      "$1.50\n",
      "</td><td>\n",
      "<img src=\"../img/gifts/img6.jpg\"/>\n",
      "</td></tr>\n",
      "\n",
      "\n"
     ]
    }
   ],
   "source": [
    "tb = soup.find('table',{'id':'giftList'}).tr.next_siblings\n",
    "#list(tb)\n",
    "\n",
    "for tr in tb:\n",
    "    print(tr)"
   ]
  },
  {
   "cell_type": "code",
   "execution_count": 139,
   "metadata": {},
   "outputs": [
    {
     "name": "stdout",
     "output_type": "stream",
     "text": [
      "\n",
      "Vegetable Basket\n",
      "\n",
      "This vegetable basket is the perfect gift for your health conscious (or overweight) friends!\n",
      "Now with super-colorful bell peppers!\n",
      "\n",
      "$15.00\n",
      "\n",
      "\n",
      "\n",
      "\n",
      "Russian Nesting Dolls\n",
      "\n",
      "Hand-painted by trained monkeys, these exquisite dolls are priceless! And by \"priceless,\" we mean \"extremely expensive\"! 8 entire dolls per set! Octuple the presents!\n",
      "\n",
      "$10,000.52\n",
      "\n",
      "\n",
      "\n",
      "\n",
      "Fish Painting\n",
      "\n",
      "If something seems fishy about this painting, it's because it's a fish! Also hand-painted by trained monkeys!\n",
      "\n",
      "$10,005.00\n",
      "\n",
      "\n",
      "\n",
      "\n",
      "Dead Parrot\n",
      "\n",
      "This is an ex-parrot! Or maybe he's only resting?\n",
      "\n",
      "$0.50\n",
      "\n",
      "\n",
      "\n",
      "\n",
      "Mystery Box\n",
      "\n",
      "If you love suprises, this mystery box is for you! Do not place on light-colored surfaces. May cause oil staining. Keep your friends guessing!\n",
      "\n",
      "$1.50\n",
      "\n",
      "\n",
      "\n"
     ]
    }
   ],
   "source": [
    "data = soup.find_all('tr',{'id':['gift1','gift2','gift3','gift4','gift5']})\n",
    "for i in data:\n",
    "    print(i.get_text())"
   ]
  },
  {
   "cell_type": "code",
   "execution_count": 174,
   "metadata": {},
   "outputs": [
    {
     "name": "stdout",
     "output_type": "stream",
     "text": [
      "\n",
      "\n",
      "<tr class=\"gift\" id=\"gift1\"><td>\n",
      "Vegetable Basket\n",
      "</td><td>\n",
      "This vegetable basket is the perfect gift for your health conscious (or overweight) friends!\n",
      "<span class=\"excitingNote\">Now with super-colorful bell peppers!</span>\n",
      "</td><td>\n",
      "$15.00\n",
      "</td><td>\n",
      "<img src=\"../img/gifts/img1.jpg\"/>\n",
      "</td></tr>\n",
      "\n",
      "\n",
      "<tr class=\"gift\" id=\"gift2\"><td>\n",
      "Russian Nesting Dolls\n",
      "</td><td>\n",
      "Hand-painted by trained monkeys, these exquisite dolls are priceless! And by \"priceless,\" we mean \"extremely expensive\"! <span class=\"excitingNote\">8 entire dolls per set! Octuple the presents!</span>\n",
      "</td><td>\n",
      "$10,000.52\n",
      "</td><td>\n",
      "<img src=\"../img/gifts/img2.jpg\"/>\n",
      "</td></tr>\n",
      "\n",
      "\n",
      "<tr class=\"gift\" id=\"gift3\"><td>\n",
      "Fish Painting\n",
      "</td><td>\n",
      "If something seems fishy about this painting, it's because it's a fish! <span class=\"excitingNote\">Also hand-painted by trained monkeys!</span>\n",
      "</td><td>\n",
      "$10,005.00\n",
      "</td><td>\n",
      "<img src=\"../img/gifts/img3.jpg\"/>\n",
      "</td></tr>\n",
      "\n",
      "\n",
      "<tr class=\"gift\" id=\"gift4\"><td>\n",
      "Dead Parrot\n",
      "</td><td>\n",
      "This is an ex-parrot! <span class=\"excitingNote\">Or maybe he's only resting?</span>\n",
      "</td><td>\n",
      "$0.50\n",
      "</td><td>\n",
      "<img src=\"../img/gifts/img4.jpg\"/>\n",
      "</td></tr>\n",
      "\n",
      "\n",
      "<tr class=\"gift\" id=\"gift5\"><td>\n",
      "Mystery Box\n",
      "</td><td>\n",
      "If you love suprises, this mystery box is for you! Do not place on light-colored surfaces. May cause oil staining. <span class=\"excitingNote\">Keep your friends guessing!</span>\n",
      "</td><td>\n",
      "$1.50\n",
      "</td><td>\n",
      "<img src=\"../img/gifts/img6.jpg\"/>\n",
      "</td></tr>\n",
      "\n",
      "\n"
     ]
    }
   ],
   "source": [
    "tb = soup.find('table',{'id':'giftList'}).tr.next_siblings\n",
    "#list(tb)\n",
    "\n",
    "for tr in tb:\n",
    "    print(tr)\n",
    "\n",
    "for tr in tb:\n",
    "    if(type(tr)==bs4.element.Tag):\n",
    "        print(tr.get_text())\n",
    "        print(list(tr.children)[3].img['scr'])"
   ]
  },
  {
   "cell_type": "code",
   "execution_count": 173,
   "metadata": {},
   "outputs": [
    {
     "ename": "SyntaxError",
     "evalue": "invalid syntax (<ipython-input-173-9a8c2f094c11>, line 9)",
     "output_type": "error",
     "traceback": [
      "\u001b[1;36m  File \u001b[1;32m\"<ipython-input-173-9a8c2f094c11>\"\u001b[1;36m, line \u001b[1;32m9\u001b[0m\n\u001b[1;33m    if j.\u001b[0m\n\u001b[1;37m         ^\u001b[0m\n\u001b[1;31mSyntaxError\u001b[0m\u001b[1;31m:\u001b[0m invalid syntax\n"
     ]
    }
   ],
   "source": [
    "##### 가격중에 $15.00 수집\n",
    "\n",
    "data = soup.find_all('td',)\n",
    "for i in range(5):\n",
    "    data = soup.find_all('tr',id = 'gift{}'.format(i))\n",
    "    print(data)\n",
    "    \n",
    "    for j in data:\n",
    "        if j.\n",
    "        print(j.get_text())"
   ]
  },
  {
   "cell_type": "code",
   "execution_count": 187,
   "metadata": {},
   "outputs": [
    {
     "name": "stdout",
     "output_type": "stream",
     "text": [
      "\n",
      "$15.00\n",
      "\n"
     ]
    }
   ],
   "source": [
    "tb = soup.find('table',{'id':'giftList'}).td.next_sibling.next_sibling\n",
    "print(tb.get_text())"
   ]
  },
  {
   "cell_type": "code",
   "execution_count": 188,
   "metadata": {},
   "outputs": [
    {
     "name": "stdout",
     "output_type": "stream",
     "text": [
      "\n",
      "$15.00\n",
      "\n"
     ]
    }
   ],
   "source": [
    "tb = soup.find('table',id='giftList').td.next_sibling.next_sibling\n",
    "print(tb.get_text())"
   ]
  },
  {
   "cell_type": "markdown",
   "metadata": {},
   "source": [
    "___\n",
    "## Selenium\n",
    "\n",
    "+ PhantomJS 또는 Chrome Driver\n",
    "    - 구글에서 'chrome driver'로 검색하여 현재 버전에 맞는 프로그램을 다운로드\n",
    "    \n",
    "+ pip install selenium\n"
   ]
  },
  {
   "cell_type": "markdown",
   "metadata": {},
   "source": [
    "#### 1) 로그인 해야하는 경우"
   ]
  },
  {
   "cell_type": "code",
   "execution_count": 9,
   "metadata": {},
   "outputs": [
    {
     "name": "stdout",
     "output_type": "stream",
     "text": [
      "<Response [200]>\n"
     ]
    },
    {
     "ename": "NameError",
     "evalue": "name 'BeautifulSoup' is not defined",
     "output_type": "error",
     "traceback": [
      "\u001b[1;31m---------------------------------------------------------------------------\u001b[0m",
      "\u001b[1;31mNameError\u001b[0m                                 Traceback (most recent call last)",
      "\u001b[1;32m<ipython-input-9-2a4fe0551f29>\u001b[0m in \u001b[0;36m<module>\u001b[1;34m\u001b[0m\n\u001b[0;32m     14\u001b[0m \u001b[1;31m#print(sess.text)\u001b[0m\u001b[1;33m\u001b[0m\u001b[1;33m\u001b[0m\u001b[1;33m\u001b[0m\u001b[0m\n\u001b[0;32m     15\u001b[0m \u001b[1;33m\u001b[0m\u001b[0m\n\u001b[1;32m---> 16\u001b[1;33m \u001b[0msoup\u001b[0m \u001b[1;33m=\u001b[0m \u001b[0mBeautifulSoup\u001b[0m\u001b[1;33m(\u001b[0m\u001b[0msess\u001b[0m\u001b[1;33m.\u001b[0m\u001b[0mtext\u001b[0m\u001b[1;33m,\u001b[0m\u001b[1;34m'html.parser'\u001b[0m\u001b[1;33m)\u001b[0m\u001b[1;33m\u001b[0m\u001b[1;33m\u001b[0m\u001b[0m\n\u001b[0m\u001b[0;32m     17\u001b[0m \u001b[0mmileage\u001b[0m \u001b[1;33m=\u001b[0m \u001b[0msoup\u001b[0m\u001b[1;33m.\u001b[0m\u001b[0mselect_one\u001b[0m\u001b[1;33m(\u001b[0m\u001b[1;34m'dl.mileage_section1'\u001b[0m\u001b[1;33m)\u001b[0m\u001b[1;33m.\u001b[0m\u001b[0mget_text\u001b[0m\u001b[1;33m(\u001b[0m\u001b[1;33m)\u001b[0m\u001b[1;33m\u001b[0m\u001b[1;33m\u001b[0m\u001b[0m\n\u001b[0;32m     18\u001b[0m \u001b[0mprint\u001b[0m\u001b[1;33m(\u001b[0m\u001b[0mmileage\u001b[0m\u001b[1;33m)\u001b[0m\u001b[1;33m\u001b[0m\u001b[1;33m\u001b[0m\u001b[0m\n",
      "\u001b[1;31mNameError\u001b[0m: name 'BeautifulSoup' is not defined"
     ]
    }
   ],
   "source": [
    "##### 접속 프로토콜이 http인경우\n",
    "#session = 서버접속시 해당서버에 자동으로 생성되는 메모리 공간\n",
    "\n",
    "import requests\n",
    "\n",
    "url = 'https://www.hanbit.co.kr/member/login_proc.php'\n",
    "\n",
    "session = requests.session()\n",
    "sess = session.post(url,{'m_id':'xxx','m_passwd':'xxx','return_url':'https://www.hanbit.co.kr'})\n",
    "print(sess)\n",
    "\n",
    "my_url = 'https://www.hanbit.co.kr/myhanbit/myhanbit.html'\n",
    "sess = session.get(my_url)\n",
    "#print(sess.text)\n",
    "\n",
    "soup = BeautifulSoup(sess.text,'html.parser')\n",
    "mileage = soup.select_one('dl.mileage_section1').get_text()\n",
    "print(mileage)\n",
    "\n",
    "ecoin = soup.select_one('dl.mileage_section2').get_text()\n"
   ]
  },
  {
   "cell_type": "markdown",
   "metadata": {},
   "source": [
    "#### 2) selenium 사용법"
   ]
  },
  {
   "cell_type": "code",
   "execution_count": 10,
   "metadata": {},
   "outputs": [],
   "source": [
    "from selenium import webdriver"
   ]
  },
  {
   "cell_type": "code",
   "execution_count": 13,
   "metadata": {},
   "outputs": [
    {
     "data": {
      "text/plain": [
       "True"
      ]
     },
     "execution_count": 13,
     "metadata": {},
     "output_type": "execute_result"
    }
   ],
   "source": [
    "driver = webdriver.Chrome('C:/Users/leewy/Downloads/chromedriver_win32/chromedriver')\n",
    "driver.get('https://naver.com')"
   ]
  },
  {
   "cell_type": "code",
   "execution_count": null,
   "metadata": {},
   "outputs": [],
   "source": [
    "driver.save_screenshot('data/001.png')"
   ]
  },
  {
   "cell_type": "code",
   "execution_count": 32,
   "metadata": {},
   "outputs": [],
   "source": [
    "driver = webdriver.Chrome('C:/Users/leewy/Downloads/chromedriver_win32/chromedriver')\n",
    "driver.get('https://accounts.kakao.com/login?continue=https%3A%2F%2Flogins.daum.net%2Faccounts%2Fksso.do%3Frescue%3Dtrue%26url%3Dhttps%253A%252F%252Fwww.daum.net%252F')\n",
    "\n",
    "elem_login = driver.find_element_by_id('id_email_2')\n",
    "elem_login.clear()\n",
    "elem_login.send_keys('leeus96@naver.com')\n",
    "\n",
    "elem_pw = driver.find_element_by_id('id_password_3')\n",
    "elem_pw.clear()\n",
    "elem_pw.send_keys('l@2046192')\n",
    "\n",
    "xpath = '''//*[@id=\"login-form\"]/fieldset/div[8]/button[1]'''\n",
    "driver.find_element_by_xpath(xpath).click()\n",
    "\n"
   ]
  },
  {
   "cell_type": "code",
   "execution_count": 33,
   "metadata": {},
   "outputs": [],
   "source": [
    "driver.close()"
   ]
  },
  {
   "cell_type": "code",
   "execution_count": null,
   "metadata": {},
   "outputs": [],
   "source": []
  }
 ],
 "metadata": {
  "kernelspec": {
   "display_name": "Python 3",
   "language": "python",
   "name": "python3"
  },
  "language_info": {
   "codemirror_mode": {
    "name": "ipython",
    "version": 3
   },
   "file_extension": ".py",
   "mimetype": "text/x-python",
   "name": "python",
   "nbconvert_exporter": "python",
   "pygments_lexer": "ipython3",
   "version": "3.8.5"
  }
 },
 "nbformat": 4,
 "nbformat_minor": 4
}
