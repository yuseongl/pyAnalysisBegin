{
 "cells": [
  {
   "cell_type": "code",
   "execution_count": 1,
   "metadata": {},
   "outputs": [],
   "source": [
    "import numpy as np\n",
    "import pandas as pd\n",
    "import matplotlib.pyplot as plt\n",
    "\n",
    "import matplotlib.font_manager as fm\n",
    "font_name = fm.FontProperties(fname='C:/Windows/Fonts/malgun.ttf').get_name()\n",
    "plt.rc(\"font\",family=font_name)\n",
    "\n",
    "import matplotlib as mlp\n",
    "mlp.rcParams['axes.unicode_minus'] = False\n",
    "\n",
    "import seaborn as sns\n",
    "\n",
    "plt.style.use('fivethirtyeight')\n",
    "\n",
    "import warnings\n",
    "warnings.filterwarnings('ignore')"
   ]
  },
  {
   "cell_type": "markdown",
   "metadata": {},
   "source": [
    "# 우리나라 인구 소멸 위기 지역 분석\n",
    "\n",
    "65세 이상 노인 인구와 20 ~ 39세 여성인구를 비교해서 젊은 여성인구가 노인인구의 절반을 미달할 경우\n",
    "<한국 고용정보원 - 한국의 지방소멸에 관한 7가지 분석>"
   ]
  },
  {
   "cell_type": "markdown",
   "metadata": {},
   "source": [
    "### 1. 데이터 준비\n",
    "\n",
    "+ 통계청 사이트 : https://kosis.kr/index/index.do"
   ]
  },
  {
   "cell_type": "code",
   "execution_count": 32,
   "metadata": {},
   "outputs": [
    {
     "name": "stdout",
     "output_type": "stream",
     "text": [
      "<class 'pandas.core.frame.DataFrame'>\n",
      "Int64Index: 783 entries, 6 to 836\n",
      "Data columns (total 21 columns):\n",
      " #   Column  Non-Null Count  Dtype \n",
      "---  ------  --------------  ----- \n",
      " 0   광역시도    783 non-null    object\n",
      " 1   시도      783 non-null    object\n",
      " 2   구분      783 non-null    object\n",
      " 3   인구수     783 non-null    int64 \n",
      " 4   20~24세  783 non-null    int64 \n",
      " 5   25~29세  783 non-null    int64 \n",
      " 6   30~34세  783 non-null    int64 \n",
      " 7   35~39세  783 non-null    int64 \n",
      " 8   40~44세  783 non-null    int64 \n",
      " 9   45~49세  783 non-null    int64 \n",
      " 10  50~54세  783 non-null    int64 \n",
      " 11  55~59세  783 non-null    int64 \n",
      " 12  60~64세  783 non-null    int64 \n",
      " 13  65~69세  783 non-null    int64 \n",
      " 14  70~74세  783 non-null    int64 \n",
      " 15  75~79세  783 non-null    int64 \n",
      " 16  80~84세  783 non-null    int64 \n",
      " 17  85~89세  783 non-null    int64 \n",
      " 18  90~94세  783 non-null    int64 \n",
      " 19  95~99세  783 non-null    object\n",
      " 20  100세이상  783 non-null    object\n",
      "dtypes: int64(16), object(5)\n",
      "memory usage: 134.6+ KB\n"
     ]
    }
   ],
   "source": [
    "pop = pd.read_excel('data/pop_raw_data.xlsx',header=1)\n",
    "\n",
    "# 결측치 앞내용으로 채우기\n",
    "pop.fillna(method='pad',inplace=True)\n",
    "\n",
    "# 컬럼명 변경\n",
    "pop.rename(columns={'행정구역별(읍면동)(1)':'광역시도',\n",
    "                   '행정구역별(읍면동)(2)':'시도',\n",
    "                   '합계':'인구수',\n",
    "                   '항목':'구분'},inplace=True)\n",
    "\n",
    "# 행 데이터 변경\n",
    "pop.loc[pop['구분']=='총인구(명)','구분'] = '합계'\n",
    "pop.loc[pop['구분']=='총인구_남자(명)','구분'] = '남자'\n",
    "pop.loc[pop['구분']=='총인구_여자(명)','구분'] = '여지'\n",
    "\n",
    "# 준간 준간에 있는 '속계' 항목 삭제\n",
    "pop = pop[(pop['시도'] != '소계')]\n",
    "\n",
    "pop.info()"
   ]
  },
  {
   "cell_type": "code",
   "execution_count": 29,
   "metadata": {},
   "outputs": [
    {
     "ename": "TypeError",
     "evalue": "'<' not supported between instances of 'int' and 'str'",
     "output_type": "error",
     "traceback": [
      "\u001b[1;31m---------------------------------------------------------------------------\u001b[0m",
      "\u001b[1;31mTypeError\u001b[0m                                 Traceback (most recent call last)",
      "\u001b[1;32m<ipython-input-29-df45cc947509>\u001b[0m in \u001b[0;36m<module>\u001b[1;34m\u001b[0m\n\u001b[1;32m----> 1\u001b[1;33m \u001b[0mprint\u001b[0m\u001b[1;33m(\u001b[0m\u001b[0mnp\u001b[0m\u001b[1;33m.\u001b[0m\u001b[0munique\u001b[0m\u001b[1;33m(\u001b[0m\u001b[0mpop\u001b[0m\u001b[1;33m)\u001b[0m\u001b[1;33m)\u001b[0m\u001b[1;33m\u001b[0m\u001b[1;33m\u001b[0m\u001b[0m\n\u001b[0m",
      "\u001b[1;32m<__array_function__ internals>\u001b[0m in \u001b[0;36munique\u001b[1;34m(*args, **kwargs)\u001b[0m\n",
      "\u001b[1;32m~\\anaconda3\\lib\\site-packages\\numpy\\lib\\arraysetops.py\u001b[0m in \u001b[0;36munique\u001b[1;34m(ar, return_index, return_inverse, return_counts, axis)\u001b[0m\n\u001b[0;32m    259\u001b[0m     \u001b[0mar\u001b[0m \u001b[1;33m=\u001b[0m \u001b[0mnp\u001b[0m\u001b[1;33m.\u001b[0m\u001b[0masanyarray\u001b[0m\u001b[1;33m(\u001b[0m\u001b[0mar\u001b[0m\u001b[1;33m)\u001b[0m\u001b[1;33m\u001b[0m\u001b[1;33m\u001b[0m\u001b[0m\n\u001b[0;32m    260\u001b[0m     \u001b[1;32mif\u001b[0m \u001b[0maxis\u001b[0m \u001b[1;32mis\u001b[0m \u001b[1;32mNone\u001b[0m\u001b[1;33m:\u001b[0m\u001b[1;33m\u001b[0m\u001b[1;33m\u001b[0m\u001b[0m\n\u001b[1;32m--> 261\u001b[1;33m         \u001b[0mret\u001b[0m \u001b[1;33m=\u001b[0m \u001b[0m_unique1d\u001b[0m\u001b[1;33m(\u001b[0m\u001b[0mar\u001b[0m\u001b[1;33m,\u001b[0m \u001b[0mreturn_index\u001b[0m\u001b[1;33m,\u001b[0m \u001b[0mreturn_inverse\u001b[0m\u001b[1;33m,\u001b[0m \u001b[0mreturn_counts\u001b[0m\u001b[1;33m)\u001b[0m\u001b[1;33m\u001b[0m\u001b[1;33m\u001b[0m\u001b[0m\n\u001b[0m\u001b[0;32m    262\u001b[0m         \u001b[1;32mreturn\u001b[0m \u001b[0m_unpack_tuple\u001b[0m\u001b[1;33m(\u001b[0m\u001b[0mret\u001b[0m\u001b[1;33m)\u001b[0m\u001b[1;33m\u001b[0m\u001b[1;33m\u001b[0m\u001b[0m\n\u001b[0;32m    263\u001b[0m \u001b[1;33m\u001b[0m\u001b[0m\n",
      "\u001b[1;32m~\\anaconda3\\lib\\site-packages\\numpy\\lib\\arraysetops.py\u001b[0m in \u001b[0;36m_unique1d\u001b[1;34m(ar, return_index, return_inverse, return_counts)\u001b[0m\n\u001b[0;32m    320\u001b[0m         \u001b[0maux\u001b[0m \u001b[1;33m=\u001b[0m \u001b[0mar\u001b[0m\u001b[1;33m[\u001b[0m\u001b[0mperm\u001b[0m\u001b[1;33m]\u001b[0m\u001b[1;33m\u001b[0m\u001b[1;33m\u001b[0m\u001b[0m\n\u001b[0;32m    321\u001b[0m     \u001b[1;32melse\u001b[0m\u001b[1;33m:\u001b[0m\u001b[1;33m\u001b[0m\u001b[1;33m\u001b[0m\u001b[0m\n\u001b[1;32m--> 322\u001b[1;33m         \u001b[0mar\u001b[0m\u001b[1;33m.\u001b[0m\u001b[0msort\u001b[0m\u001b[1;33m(\u001b[0m\u001b[1;33m)\u001b[0m\u001b[1;33m\u001b[0m\u001b[1;33m\u001b[0m\u001b[0m\n\u001b[0m\u001b[0;32m    323\u001b[0m         \u001b[0maux\u001b[0m \u001b[1;33m=\u001b[0m \u001b[0mar\u001b[0m\u001b[1;33m\u001b[0m\u001b[1;33m\u001b[0m\u001b[0m\n\u001b[0;32m    324\u001b[0m     \u001b[0mmask\u001b[0m \u001b[1;33m=\u001b[0m \u001b[0mnp\u001b[0m\u001b[1;33m.\u001b[0m\u001b[0mempty\u001b[0m\u001b[1;33m(\u001b[0m\u001b[0maux\u001b[0m\u001b[1;33m.\u001b[0m\u001b[0mshape\u001b[0m\u001b[1;33m,\u001b[0m \u001b[0mdtype\u001b[0m\u001b[1;33m=\u001b[0m\u001b[0mnp\u001b[0m\u001b[1;33m.\u001b[0m\u001b[0mbool_\u001b[0m\u001b[1;33m)\u001b[0m\u001b[1;33m\u001b[0m\u001b[1;33m\u001b[0m\u001b[0m\n",
      "\u001b[1;31mTypeError\u001b[0m: '<' not supported between instances of 'int' and 'str'"
     ]
    }
   ],
   "source": [
    "print(np.unique(pop))"
   ]
  },
  {
   "cell_type": "code",
   "execution_count": 34,
   "metadata": {},
   "outputs": [
    {
     "data": {
      "text/plain": [
       "array([21, 6, 15, 17, 5, 12, 22, 23, 18, 32, 27, 26, 8, 41, 'X', 38, 10,\n",
       "       20, 31, 11, 50, 44, 30, 9, 29, 33, 28, 36, 40, 24, 37, 25, 35, 47,\n",
       "       7, 43, 16, 13, 19, 14, 48, 45, 34, 70, 56, 73, 55, 42, 78, 65, 103,\n",
       "       85, 77, 57, 88, 75, 39, 51, 59, 54, 80, 71, 46], dtype=object)"
      ]
     },
     "execution_count": 34,
     "metadata": {},
     "output_type": "execute_result"
    }
   ],
   "source": [
    "##### 95~99세, 100세 이상의 값들 중 숫자가 아닌 값이 있는지 확인\n",
    "# pop.loc[pop['90~94세'] == 'X','90~94세'] = 0 \n",
    "# pop.loc[pop['95~99세'] == 'X','95~99세'] = 0 \n",
    "# pop.loc[pop['100세이상'] == 'X','100세이상'] = 0 \n",
    "\n",
    "pop['95~99세'].unique()\n",
    "pop['100세이상'].unique()\n",
    "\n",
    "# pd.to_numeric(pop['100세이상'])\n",
    "#print(pop['100세이상'].str.extract('([^0-9])').value_counts())"
   ]
  },
  {
   "cell_type": "code",
   "execution_count": 38,
   "metadata": {},
   "outputs": [
    {
     "name": "stdout",
     "output_type": "stream",
     "text": [
      "<class 'pandas.core.frame.DataFrame'>\n",
      "Int64Index: 783 entries, 6 to 836\n",
      "Data columns (total 22 columns):\n",
      " #   Column  Non-Null Count  Dtype \n",
      "---  ------  --------------  ----- \n",
      " 0   광역시도    783 non-null    object\n",
      " 1   시도      783 non-null    object\n",
      " 2   구분      783 non-null    object\n",
      " 3   인구수     783 non-null    int64 \n",
      " 4   20~24세  783 non-null    int64 \n",
      " 5   25~29세  783 non-null    int64 \n",
      " 6   30~34세  783 non-null    int64 \n",
      " 7   35~39세  783 non-null    int64 \n",
      " 8   40~44세  783 non-null    int64 \n",
      " 9   45~49세  783 non-null    int64 \n",
      " 10  50~54세  783 non-null    int64 \n",
      " 11  55~59세  783 non-null    int64 \n",
      " 12  60~64세  783 non-null    int64 \n",
      " 13  65~69세  783 non-null    int64 \n",
      " 14  70~74세  783 non-null    int64 \n",
      " 15  75~79세  783 non-null    int64 \n",
      " 16  80~84세  783 non-null    int64 \n",
      " 17  85~89세  783 non-null    int64 \n",
      " 18  90~94세  783 non-null    int64 \n",
      " 19  95~99세  783 non-null    int64 \n",
      " 20  100세이상  783 non-null    int64 \n",
      " 21  20~39세  783 non-null    int64 \n",
      "dtypes: int64(19), object(3)\n",
      "memory usage: 140.7+ KB\n"
     ]
    }
   ],
   "source": [
    "##### 5~99세, 100세 이상의 값들 중 x값을 0으로 대체하고 숫자형으로 변환\n",
    "\n",
    "pop.loc[pop['90~94세'] == 'X','90~94세'] = 0 \n",
    "pop.loc[pop['95~99세'] == 'X','95~99세'] = 0 \n",
    "pop.loc[pop['100세이상'] == 'X','100세이상'] = 0 \n",
    "\n",
    "pop['95~99세'].unique()\n",
    "\n",
    "pop['95~99세'] = pd.to_numeric(pop['95~99세'])\n",
    "pop['100세이상'] = pd.to_numeric(pop['100세이상'])\n",
    "\n",
    "pop.info()"
   ]
  },
  {
   "cell_type": "markdown",
   "metadata": {},
   "source": [
    "### 2.인구소멸 위기지역 계산하고 데이터 정리\n",
    "\n",
    "#### 20~30대의 인구를 알아야 하고 65세 이상 인구수도 알아야 한다."
   ]
  },
  {
   "cell_type": "code",
   "execution_count": 41,
   "metadata": {},
   "outputs": [
    {
     "data": {
      "text/html": [
       "<div>\n",
       "<style scoped>\n",
       "    .dataframe tbody tr th:only-of-type {\n",
       "        vertical-align: middle;\n",
       "    }\n",
       "\n",
       "    .dataframe tbody tr th {\n",
       "        vertical-align: top;\n",
       "    }\n",
       "\n",
       "    .dataframe thead th {\n",
       "        text-align: right;\n",
       "    }\n",
       "</style>\n",
       "<table border=\"1\" class=\"dataframe\">\n",
       "  <thead>\n",
       "    <tr style=\"text-align: right;\">\n",
       "      <th></th>\n",
       "      <th>광역시도</th>\n",
       "      <th>시도</th>\n",
       "      <th>구분</th>\n",
       "      <th>인구수</th>\n",
       "      <th>20~24세</th>\n",
       "      <th>25~29세</th>\n",
       "      <th>30~34세</th>\n",
       "      <th>35~39세</th>\n",
       "      <th>40~44세</th>\n",
       "      <th>45~49세</th>\n",
       "      <th>...</th>\n",
       "      <th>65~69세</th>\n",
       "      <th>70~74세</th>\n",
       "      <th>75~79세</th>\n",
       "      <th>80~84세</th>\n",
       "      <th>85~89세</th>\n",
       "      <th>90~94세</th>\n",
       "      <th>95~99세</th>\n",
       "      <th>100세이상</th>\n",
       "      <th>20~39세</th>\n",
       "      <th>65세이상</th>\n",
       "    </tr>\n",
       "  </thead>\n",
       "  <tbody>\n",
       "    <tr>\n",
       "      <th>6</th>\n",
       "      <td>서울특별시</td>\n",
       "      <td>종로구</td>\n",
       "      <td>합계</td>\n",
       "      <td>154969</td>\n",
       "      <td>15242</td>\n",
       "      <td>14057</td>\n",
       "      <td>10753</td>\n",
       "      <td>10504</td>\n",
       "      <td>9846</td>\n",
       "      <td>12652</td>\n",
       "      <td>...</td>\n",
       "      <td>7366</td>\n",
       "      <td>6101</td>\n",
       "      <td>5377</td>\n",
       "      <td>3461</td>\n",
       "      <td>1580</td>\n",
       "      <td>565</td>\n",
       "      <td>147</td>\n",
       "      <td>21</td>\n",
       "      <td>50556</td>\n",
       "      <td>24618</td>\n",
       "    </tr>\n",
       "    <tr>\n",
       "      <th>7</th>\n",
       "      <td>서울특별시</td>\n",
       "      <td>종로구</td>\n",
       "      <td>남자</td>\n",
       "      <td>74880</td>\n",
       "      <td>6707</td>\n",
       "      <td>7194</td>\n",
       "      <td>5443</td>\n",
       "      <td>5206</td>\n",
       "      <td>4811</td>\n",
       "      <td>6214</td>\n",
       "      <td>...</td>\n",
       "      <td>3527</td>\n",
       "      <td>2718</td>\n",
       "      <td>2329</td>\n",
       "      <td>1416</td>\n",
       "      <td>555</td>\n",
       "      <td>182</td>\n",
       "      <td>45</td>\n",
       "      <td>6</td>\n",
       "      <td>24550</td>\n",
       "      <td>10778</td>\n",
       "    </tr>\n",
       "    <tr>\n",
       "      <th>8</th>\n",
       "      <td>서울특별시</td>\n",
       "      <td>종로구</td>\n",
       "      <td>여지</td>\n",
       "      <td>80089</td>\n",
       "      <td>8535</td>\n",
       "      <td>6863</td>\n",
       "      <td>5310</td>\n",
       "      <td>5298</td>\n",
       "      <td>5035</td>\n",
       "      <td>6438</td>\n",
       "      <td>...</td>\n",
       "      <td>3839</td>\n",
       "      <td>3383</td>\n",
       "      <td>3048</td>\n",
       "      <td>2045</td>\n",
       "      <td>1025</td>\n",
       "      <td>383</td>\n",
       "      <td>102</td>\n",
       "      <td>15</td>\n",
       "      <td>26006</td>\n",
       "      <td>13840</td>\n",
       "    </tr>\n",
       "    <tr>\n",
       "      <th>9</th>\n",
       "      <td>서울특별시</td>\n",
       "      <td>중구</td>\n",
       "      <td>합계</td>\n",
       "      <td>130957</td>\n",
       "      <td>10762</td>\n",
       "      <td>12057</td>\n",
       "      <td>11034</td>\n",
       "      <td>10933</td>\n",
       "      <td>8810</td>\n",
       "      <td>9926</td>\n",
       "      <td>...</td>\n",
       "      <td>6665</td>\n",
       "      <td>5286</td>\n",
       "      <td>4333</td>\n",
       "      <td>2692</td>\n",
       "      <td>1234</td>\n",
       "      <td>476</td>\n",
       "      <td>92</td>\n",
       "      <td>17</td>\n",
       "      <td>44786</td>\n",
       "      <td>20795</td>\n",
       "    </tr>\n",
       "    <tr>\n",
       "      <th>10</th>\n",
       "      <td>서울특별시</td>\n",
       "      <td>중구</td>\n",
       "      <td>남자</td>\n",
       "      <td>63406</td>\n",
       "      <td>4841</td>\n",
       "      <td>6006</td>\n",
       "      <td>5548</td>\n",
       "      <td>5607</td>\n",
       "      <td>4586</td>\n",
       "      <td>4963</td>\n",
       "      <td>...</td>\n",
       "      <td>3200</td>\n",
       "      <td>2370</td>\n",
       "      <td>1835</td>\n",
       "      <td>1029</td>\n",
       "      <td>370</td>\n",
       "      <td>133</td>\n",
       "      <td>26</td>\n",
       "      <td>5</td>\n",
       "      <td>22002</td>\n",
       "      <td>8968</td>\n",
       "    </tr>\n",
       "    <tr>\n",
       "      <th>11</th>\n",
       "      <td>서울특별시</td>\n",
       "      <td>중구</td>\n",
       "      <td>여지</td>\n",
       "      <td>67551</td>\n",
       "      <td>5921</td>\n",
       "      <td>6051</td>\n",
       "      <td>5486</td>\n",
       "      <td>5326</td>\n",
       "      <td>4224</td>\n",
       "      <td>4963</td>\n",
       "      <td>...</td>\n",
       "      <td>3465</td>\n",
       "      <td>2916</td>\n",
       "      <td>2498</td>\n",
       "      <td>1663</td>\n",
       "      <td>864</td>\n",
       "      <td>343</td>\n",
       "      <td>66</td>\n",
       "      <td>12</td>\n",
       "      <td>22784</td>\n",
       "      <td>11827</td>\n",
       "    </tr>\n",
       "    <tr>\n",
       "      <th>12</th>\n",
       "      <td>서울특별시</td>\n",
       "      <td>용산구</td>\n",
       "      <td>합계</td>\n",
       "      <td>227181</td>\n",
       "      <td>15289</td>\n",
       "      <td>20431</td>\n",
       "      <td>19789</td>\n",
       "      <td>20216</td>\n",
       "      <td>16585</td>\n",
       "      <td>19022</td>\n",
       "      <td>...</td>\n",
       "      <td>10344</td>\n",
       "      <td>8396</td>\n",
       "      <td>7180</td>\n",
       "      <td>4847</td>\n",
       "      <td>2141</td>\n",
       "      <td>725</td>\n",
       "      <td>194</td>\n",
       "      <td>22</td>\n",
       "      <td>75725</td>\n",
       "      <td>33849</td>\n",
       "    </tr>\n",
       "    <tr>\n",
       "      <th>13</th>\n",
       "      <td>서울특별시</td>\n",
       "      <td>용산구</td>\n",
       "      <td>남자</td>\n",
       "      <td>110934</td>\n",
       "      <td>6954</td>\n",
       "      <td>10232</td>\n",
       "      <td>10207</td>\n",
       "      <td>10431</td>\n",
       "      <td>8372</td>\n",
       "      <td>9498</td>\n",
       "      <td>...</td>\n",
       "      <td>4838</td>\n",
       "      <td>3739</td>\n",
       "      <td>3052</td>\n",
       "      <td>1852</td>\n",
       "      <td>759</td>\n",
       "      <td>192</td>\n",
       "      <td>62</td>\n",
       "      <td>5</td>\n",
       "      <td>37824</td>\n",
       "      <td>14499</td>\n",
       "    </tr>\n",
       "    <tr>\n",
       "      <th>14</th>\n",
       "      <td>서울특별시</td>\n",
       "      <td>용산구</td>\n",
       "      <td>여지</td>\n",
       "      <td>116247</td>\n",
       "      <td>8335</td>\n",
       "      <td>10199</td>\n",
       "      <td>9582</td>\n",
       "      <td>9785</td>\n",
       "      <td>8213</td>\n",
       "      <td>9524</td>\n",
       "      <td>...</td>\n",
       "      <td>5506</td>\n",
       "      <td>4657</td>\n",
       "      <td>4128</td>\n",
       "      <td>2995</td>\n",
       "      <td>1382</td>\n",
       "      <td>533</td>\n",
       "      <td>132</td>\n",
       "      <td>17</td>\n",
       "      <td>37901</td>\n",
       "      <td>19350</td>\n",
       "    </tr>\n",
       "    <tr>\n",
       "      <th>15</th>\n",
       "      <td>서울특별시</td>\n",
       "      <td>성동구</td>\n",
       "      <td>합계</td>\n",
       "      <td>299688</td>\n",
       "      <td>22964</td>\n",
       "      <td>26568</td>\n",
       "      <td>24647</td>\n",
       "      <td>26456</td>\n",
       "      <td>21640</td>\n",
       "      <td>24238</td>\n",
       "      <td>...</td>\n",
       "      <td>13760</td>\n",
       "      <td>10870</td>\n",
       "      <td>8810</td>\n",
       "      <td>5273</td>\n",
       "      <td>2241</td>\n",
       "      <td>724</td>\n",
       "      <td>181</td>\n",
       "      <td>23</td>\n",
       "      <td>100635</td>\n",
       "      <td>41882</td>\n",
       "    </tr>\n",
       "  </tbody>\n",
       "</table>\n",
       "<p>10 rows × 23 columns</p>\n",
       "</div>"
      ],
      "text/plain": [
       "     광역시도   시도  구분     인구수  20~24세  25~29세  30~34세  35~39세  40~44세  45~49세  \\\n",
       "6   서울특별시  종로구  합계  154969   15242   14057   10753   10504    9846   12652   \n",
       "7   서울특별시  종로구  남자   74880    6707    7194    5443    5206    4811    6214   \n",
       "8   서울특별시  종로구  여지   80089    8535    6863    5310    5298    5035    6438   \n",
       "9   서울특별시   중구  합계  130957   10762   12057   11034   10933    8810    9926   \n",
       "10  서울특별시   중구  남자   63406    4841    6006    5548    5607    4586    4963   \n",
       "11  서울특별시   중구  여지   67551    5921    6051    5486    5326    4224    4963   \n",
       "12  서울특별시  용산구  합계  227181   15289   20431   19789   20216   16585   19022   \n",
       "13  서울특별시  용산구  남자  110934    6954   10232   10207   10431    8372    9498   \n",
       "14  서울특별시  용산구  여지  116247    8335   10199    9582    9785    8213    9524   \n",
       "15  서울특별시  성동구  합계  299688   22964   26568   24647   26456   21640   24238   \n",
       "\n",
       "    ...  65~69세  70~74세  75~79세  80~84세  85~89세  90~94세  95~99세  100세이상  \\\n",
       "6   ...    7366    6101    5377    3461    1580     565     147      21   \n",
       "7   ...    3527    2718    2329    1416     555     182      45       6   \n",
       "8   ...    3839    3383    3048    2045    1025     383     102      15   \n",
       "9   ...    6665    5286    4333    2692    1234     476      92      17   \n",
       "10  ...    3200    2370    1835    1029     370     133      26       5   \n",
       "11  ...    3465    2916    2498    1663     864     343      66      12   \n",
       "12  ...   10344    8396    7180    4847    2141     725     194      22   \n",
       "13  ...    4838    3739    3052    1852     759     192      62       5   \n",
       "14  ...    5506    4657    4128    2995    1382     533     132      17   \n",
       "15  ...   13760   10870    8810    5273    2241     724     181      23   \n",
       "\n",
       "    20~39세  65세이상  \n",
       "6    50556  24618  \n",
       "7    24550  10778  \n",
       "8    26006  13840  \n",
       "9    44786  20795  \n",
       "10   22002   8968  \n",
       "11   22784  11827  \n",
       "12   75725  33849  \n",
       "13   37824  14499  \n",
       "14   37901  19350  \n",
       "15  100635  41882  \n",
       "\n",
       "[10 rows x 23 columns]"
      ]
     },
     "execution_count": 41,
     "metadata": {},
     "output_type": "execute_result"
    }
   ],
   "source": [
    "pop['20~39세'] = pop['20~24세'] + pop['25~29세'] + pop['30~34세'] +pop['35~39세']\n",
    "\n",
    "pop['65세이상'] = pop['65~69세'] + pop['70~74세'] + pop['75~79세'] + pop['80~84세'] + \\\n",
    "                    pop['85~89세'] + pop['90~94세'] + pop['95~99세'] + pop['100세이상']\n",
    "\n",
    "pop.head(10)"
   ]
  },
  {
   "cell_type": "code",
   "execution_count": 53,
   "metadata": {},
   "outputs": [
    {
     "ename": "SyntaxError",
     "evalue": "invalid syntax (<ipython-input-53-356e56c7ae34>, line 4)",
     "output_type": "error",
     "traceback": [
      "\u001b[1;36m  File \u001b[1;32m\"<ipython-input-53-356e56c7ae34>\"\u001b[1;36m, line \u001b[1;32m4\u001b[0m\n\u001b[1;33m    pop_1 = pop[['광역시도', '시도', '구분', '인구수', '20~39세', '65세이상'],index='광역시도']\u001b[0m\n\u001b[1;37m                                                                    ^\u001b[0m\n\u001b[1;31mSyntaxError\u001b[0m\u001b[1;31m:\u001b[0m invalid syntax\n"
     ]
    }
   ],
   "source": [
    "##### 일부 컬럼만 따로 추출 (광역시도, 시도, 구분, 인구수, 20~39세, 65세이상,)\n",
    "##### '합계', '남자','여자' 구분정리\n",
    "\n",
    "#pop_1 = pop[['광역시도', '시도', '구분', '인구수', '20~39세', '65세이상'],index='광역시도']\n",
    "pop1 = piv"
   ]
  },
  {
   "cell_type": "markdown",
   "metadata": {},
   "source": [
    "+ 인구 소멸 비율 계산\n",
    "+ 이 비율이 1보다 작으면 인구소멸 위기지역으로 볼 수 있다."
   ]
  },
  {
   "cell_type": "code",
   "execution_count": 55,
   "metadata": {
    "collapsed": true
   },
   "outputs": [
    {
     "ename": "KeyError",
     "evalue": "('20~39세', '여자')",
     "output_type": "error",
     "traceback": [
      "\u001b[1;31m---------------------------------------------------------------------------\u001b[0m",
      "\u001b[1;31mKeyError\u001b[0m                                  Traceback (most recent call last)",
      "\u001b[1;32m~\\anaconda3\\lib\\site-packages\\pandas\\core\\indexes\\base.py\u001b[0m in \u001b[0;36mget_loc\u001b[1;34m(self, key, method, tolerance)\u001b[0m\n\u001b[0;32m   2894\u001b[0m             \u001b[1;32mtry\u001b[0m\u001b[1;33m:\u001b[0m\u001b[1;33m\u001b[0m\u001b[1;33m\u001b[0m\u001b[0m\n\u001b[1;32m-> 2895\u001b[1;33m                 \u001b[1;32mreturn\u001b[0m \u001b[0mself\u001b[0m\u001b[1;33m.\u001b[0m\u001b[0m_engine\u001b[0m\u001b[1;33m.\u001b[0m\u001b[0mget_loc\u001b[0m\u001b[1;33m(\u001b[0m\u001b[0mcasted_key\u001b[0m\u001b[1;33m)\u001b[0m\u001b[1;33m\u001b[0m\u001b[1;33m\u001b[0m\u001b[0m\n\u001b[0m\u001b[0;32m   2896\u001b[0m             \u001b[1;32mexcept\u001b[0m \u001b[0mKeyError\u001b[0m \u001b[1;32mas\u001b[0m \u001b[0merr\u001b[0m\u001b[1;33m:\u001b[0m\u001b[1;33m\u001b[0m\u001b[1;33m\u001b[0m\u001b[0m\n",
      "\u001b[1;32mpandas\\_libs\\index.pyx\u001b[0m in \u001b[0;36mpandas._libs.index.IndexEngine.get_loc\u001b[1;34m()\u001b[0m\n",
      "\u001b[1;32mpandas\\_libs\\index.pyx\u001b[0m in \u001b[0;36mpandas._libs.index.IndexEngine.get_loc\u001b[1;34m()\u001b[0m\n",
      "\u001b[1;32mpandas\\_libs\\hashtable_class_helper.pxi\u001b[0m in \u001b[0;36mpandas._libs.hashtable.PyObjectHashTable.get_item\u001b[1;34m()\u001b[0m\n",
      "\u001b[1;32mpandas\\_libs\\hashtable_class_helper.pxi\u001b[0m in \u001b[0;36mpandas._libs.hashtable.PyObjectHashTable.get_item\u001b[1;34m()\u001b[0m\n",
      "\u001b[1;31mKeyError\u001b[0m: ('20~39세', '여자')",
      "\nThe above exception was the direct cause of the following exception:\n",
      "\u001b[1;31mKeyError\u001b[0m                                  Traceback (most recent call last)",
      "\u001b[1;32m<ipython-input-55-58409055485c>\u001b[0m in \u001b[0;36m<module>\u001b[1;34m\u001b[0m\n\u001b[1;32m----> 1\u001b[1;33m \u001b[0mpop1\u001b[0m\u001b[1;33m[\u001b[0m\u001b[1;34m'소멸비율'\u001b[0m\u001b[1;33m]\u001b[0m \u001b[1;33m=\u001b[0m \u001b[0mpop\u001b[0m\u001b[1;33m[\u001b[0m\u001b[1;34m'20~39세'\u001b[0m\u001b[1;33m,\u001b[0m\u001b[1;34m'여자'\u001b[0m\u001b[1;33m]\u001b[0m \u001b[1;33m/\u001b[0m \u001b[1;33m(\u001b[0m\u001b[0mpop1\u001b[0m\u001b[1;33m[\u001b[0m\u001b[1;34m'65세이상'\u001b[0m\u001b[1;33m,\u001b[0m\u001b[1;34m'합계'\u001b[0m\u001b[1;33m]\u001b[0m\u001b[1;33m/\u001b[0m\u001b[1;36m2\u001b[0m\u001b[1;33m)\u001b[0m\u001b[1;33m\u001b[0m\u001b[1;33m\u001b[0m\u001b[0m\n\u001b[0m\u001b[0;32m      2\u001b[0m \u001b[0mpop1\u001b[0m\u001b[1;33m.\u001b[0m\u001b[0mhead\u001b[0m\u001b[1;33m(\u001b[0m\u001b[1;33m)\u001b[0m\u001b[1;33m\u001b[0m\u001b[1;33m\u001b[0m\u001b[0m\n",
      "\u001b[1;32m~\\anaconda3\\lib\\site-packages\\pandas\\core\\frame.py\u001b[0m in \u001b[0;36m__getitem__\u001b[1;34m(self, key)\u001b[0m\n\u001b[0;32m   2900\u001b[0m             \u001b[1;32mif\u001b[0m \u001b[0mself\u001b[0m\u001b[1;33m.\u001b[0m\u001b[0mcolumns\u001b[0m\u001b[1;33m.\u001b[0m\u001b[0mnlevels\u001b[0m \u001b[1;33m>\u001b[0m \u001b[1;36m1\u001b[0m\u001b[1;33m:\u001b[0m\u001b[1;33m\u001b[0m\u001b[1;33m\u001b[0m\u001b[0m\n\u001b[0;32m   2901\u001b[0m                 \u001b[1;32mreturn\u001b[0m \u001b[0mself\u001b[0m\u001b[1;33m.\u001b[0m\u001b[0m_getitem_multilevel\u001b[0m\u001b[1;33m(\u001b[0m\u001b[0mkey\u001b[0m\u001b[1;33m)\u001b[0m\u001b[1;33m\u001b[0m\u001b[1;33m\u001b[0m\u001b[0m\n\u001b[1;32m-> 2902\u001b[1;33m             \u001b[0mindexer\u001b[0m \u001b[1;33m=\u001b[0m \u001b[0mself\u001b[0m\u001b[1;33m.\u001b[0m\u001b[0mcolumns\u001b[0m\u001b[1;33m.\u001b[0m\u001b[0mget_loc\u001b[0m\u001b[1;33m(\u001b[0m\u001b[0mkey\u001b[0m\u001b[1;33m)\u001b[0m\u001b[1;33m\u001b[0m\u001b[1;33m\u001b[0m\u001b[0m\n\u001b[0m\u001b[0;32m   2903\u001b[0m             \u001b[1;32mif\u001b[0m \u001b[0mis_integer\u001b[0m\u001b[1;33m(\u001b[0m\u001b[0mindexer\u001b[0m\u001b[1;33m)\u001b[0m\u001b[1;33m:\u001b[0m\u001b[1;33m\u001b[0m\u001b[1;33m\u001b[0m\u001b[0m\n\u001b[0;32m   2904\u001b[0m                 \u001b[0mindexer\u001b[0m \u001b[1;33m=\u001b[0m \u001b[1;33m[\u001b[0m\u001b[0mindexer\u001b[0m\u001b[1;33m]\u001b[0m\u001b[1;33m\u001b[0m\u001b[1;33m\u001b[0m\u001b[0m\n",
      "\u001b[1;32m~\\anaconda3\\lib\\site-packages\\pandas\\core\\indexes\\base.py\u001b[0m in \u001b[0;36mget_loc\u001b[1;34m(self, key, method, tolerance)\u001b[0m\n\u001b[0;32m   2895\u001b[0m                 \u001b[1;32mreturn\u001b[0m \u001b[0mself\u001b[0m\u001b[1;33m.\u001b[0m\u001b[0m_engine\u001b[0m\u001b[1;33m.\u001b[0m\u001b[0mget_loc\u001b[0m\u001b[1;33m(\u001b[0m\u001b[0mcasted_key\u001b[0m\u001b[1;33m)\u001b[0m\u001b[1;33m\u001b[0m\u001b[1;33m\u001b[0m\u001b[0m\n\u001b[0;32m   2896\u001b[0m             \u001b[1;32mexcept\u001b[0m \u001b[0mKeyError\u001b[0m \u001b[1;32mas\u001b[0m \u001b[0merr\u001b[0m\u001b[1;33m:\u001b[0m\u001b[1;33m\u001b[0m\u001b[1;33m\u001b[0m\u001b[0m\n\u001b[1;32m-> 2897\u001b[1;33m                 \u001b[1;32mraise\u001b[0m \u001b[0mKeyError\u001b[0m\u001b[1;33m(\u001b[0m\u001b[0mkey\u001b[0m\u001b[1;33m)\u001b[0m \u001b[1;32mfrom\u001b[0m \u001b[0merr\u001b[0m\u001b[1;33m\u001b[0m\u001b[1;33m\u001b[0m\u001b[0m\n\u001b[0m\u001b[0;32m   2898\u001b[0m \u001b[1;33m\u001b[0m\u001b[0m\n\u001b[0;32m   2899\u001b[0m         \u001b[1;32mif\u001b[0m \u001b[0mtolerance\u001b[0m \u001b[1;32mis\u001b[0m \u001b[1;32mnot\u001b[0m \u001b[1;32mNone\u001b[0m\u001b[1;33m:\u001b[0m\u001b[1;33m\u001b[0m\u001b[1;33m\u001b[0m\u001b[0m\n",
      "\u001b[1;31mKeyError\u001b[0m: ('20~39세', '여자')"
     ]
    }
   ],
   "source": [
    "pop1['소멸비율'] = pop['20~39세','여자'] / (pop1['65세이상','합계']/2)\n",
    "pop1.head()"
   ]
  },
  {
   "cell_type": "code",
   "execution_count": null,
   "metadata": {},
   "outputs": [],
   "source": [
    "##### 소멸의기 지역인지 확인 할 수 있는 boolean값 지정\n",
    "\n",
    "pop1['소멸위기지역'] = pop1['소멸비율'] < 1.0\n",
    "pop1.head()"
   ]
  },
  {
   "cell_type": "code",
   "execution_count": null,
   "metadata": {},
   "outputs": [],
   "source": [
    "##### 소멸위기 지역을 리스트로 출력\n",
    "#1\n",
    "pop_list = pop.loc[pop['소멸위기지역']==True,'시도']\n",
    "#2\n",
    "print(pop1[pop1['소멸위기지역']==True].index.get_level_values(1))"
   ]
  },
  {
   "cell_type": "code",
   "execution_count": 56,
   "metadata": {},
   "outputs": [],
   "source": [
    "##### 시각화를 위해 모든 컬럼은 하나의 컬럼으로 합치고 현재 다중인덱스도 컬럼으로 조정한다.\n",
    "\n",
    "pop1.reset_index(inplace=True)\n",
    "pop1.head()"
   ]
  },
  {
   "cell_type": "code",
   "execution_count": 60,
   "metadata": {},
   "outputs": [
    {
     "data": {
      "text/plain": [
       "'광역시도'"
      ]
     },
     "execution_count": 60,
     "metadata": {},
     "output_type": "execute_result"
    }
   ],
   "source": [
    "pop1.columns.get_level_values(0)\n",
    "pop.columns.get_level_values(0)[0]\n"
   ]
  },
  {
   "cell_type": "code",
   "execution_count": null,
   "metadata": {},
   "outputs": [],
   "source": [
    "pop1.columns = [pop1.columns.get_level_values(0)[n] + \\\n",
    "                 pop1.columns.get_level_values(1)[n]\n",
    "                 for n in range(len(pop1.columns.get_level_values(0)))]"
   ]
  },
  {
   "cell_type": "code",
   "execution_count": null,
   "metadata": {},
   "outputs": [],
   "source": [
    "pop1.info()"
   ]
  },
  {
   "cell_type": "markdown",
   "metadata": {},
   "source": [
    "### 3."
   ]
  },
  {
   "cell_type": "code",
   "execution_count": null,
   "metadata": {},
   "outputs": [],
   "source": []
  },
  {
   "cell_type": "markdown",
   "metadata": {},
   "source": [
    "+ 광역시가 아니면서 구를 가지고 있는 시와 그 행정구를 dict형으로 선언\n",
    "+ 광역시도에 있는 이름의 끝 세글자가 '광역시', '특별시','자치시'로 끝나지 않으면 일반 시 혹은 군으로 본다.\n",
    "+ 그 속에서 강원도와 경상남도에는 동일한 이름을 가진 '고성군'이 있어서 그것을 처리\n",
    "+ 일반 시인데 구를 가지응 경우에 대해 대응한다.\n",
    "+ 세종특별자치시를 그냥 '세종'으로 처리하고 나머지 광역시도에서 앞 두 글자(서울특별시)와 시도에서 두글자인 경우 모두, 아니면 앞 글자만 선택해서 고유 ID작성"
   ]
  },
  {
   "cell_type": "code",
   "execution_count": null,
   "metadata": {},
   "outputs": [],
   "source": [
    "tmp_gu_dict = {'수원':['장안구', '권선구', '팔달구', '영통구'], \n",
    "                       '성남':['수정구', '중원구', '분당구'], \n",
    "                       '안양':['만안구', '동안구'], \n",
    "                       '안산':['상록구', '단원구'], \n",
    "                       '고양':['덕양구', '일산동구', '일산서구'], \n",
    "                       '용인':['처인구', '기흥구', '수지구'], \n",
    "                       '청주':['상당구', '서원구', '흥덕구', '청원구'], \n",
    "                       '천안':['동남구', '서북구'], \n",
    "                       '전주':['완산구', '덕진구'], \n",
    "                       '포항':['남구', '북구'], \n",
    "                       '창원':['의창구', '성산구', '진해구', '마산합포구', '마산회원구'], \n",
    "                       '부천':['오정구', '원미구', '소사구']}\n",
    "\n",
    "si _name = [None] * len(pop1)"
   ]
  },
  {
   "cell_type": "code",
   "execution_count": 4,
   "metadata": {},
   "outputs": [
    {
     "ename": "SyntaxError",
     "evalue": "EOL while scanning string literal (<ipython-input-4-8b19ce9fff9a>, line 4)",
     "output_type": "error",
     "traceback": [
      "\u001b[1;36m  File \u001b[1;32m\"<ipython-input-4-8b19ce9fff9a>\"\u001b[1;36m, line \u001b[1;32m4\u001b[0m\n\u001b[1;33m    si_name[n] = '고성(강원)\u001b[0m\n\u001b[1;37m                        ^\u001b[0m\n\u001b[1;31mSyntaxError\u001b[0m\u001b[1;31m:\u001b[0m EOL while scanning string literal\n"
     ]
    }
   ],
   "source": [
    "for n in pop1.index:\n",
    "    if pop1['광역시도'][n][-3:] not in ['광역시','특별시','자치시']:\n",
    "        if pop1['시도'][n][:-1] == '고성' and pop1['광역시도'][n] == '강원도':\n",
    "            si_name[n] = '고성(강원)\n",
    "        elif pop1['시도'][n][:-1] == '고성'and pop1['광역시도'][n] == '경상남도':\n",
    "            si_name[n] = '고성(경남)'\n",
    "        else:\n",
    "            si_name[n] = pop1['시도'][n][:-1]\n",
    "            \n",
    "        for key, values in tmp_gu_dict.items():\n",
    "            if pop1['시도'][n] in values:\n",
    "                if len(pop1['시도'][n]) == 2:\n",
    "                    si_name[n] = keys + ' ' + pop1['시도'][n]\n",
    "                elif pop1['시도'][n] in ['마산합포구','마산회원구']:\n",
    "                    si_name[n] = keys + ' ' + pop1['시도'][n][2:-1]\n",
    "                else:\n",
    "                    si_name[n] = keys + ' ' + pop1['시도'][n][:-1]\n",
    "                    \n",
    "    elif pop1['광역시도'][n] == '세종특별자치시':\n",
    "        si_name[n] = '세종'\n",
    "    else:\n",
    "        if len(pop1['시도'][n]) == 2:\n",
    "            si_name[n] = pop1['광역시도'][n][:2] + ' ' + pop1['시도'][n]\n",
    "        else:\n",
    "            si_name[n] = pop1['광역시도'][n][:2] + ' ' + pop1['시도'][n][:-1]"
   ]
  },
  {
   "cell_type": "code",
   "execution_count": 3,
   "metadata": {},
   "outputs": [
    {
     "ename": "NameError",
     "evalue": "name 'si_name' is not defined",
     "output_type": "error",
     "traceback": [
      "\u001b[1;31m---------------------------------------------------------------------------\u001b[0m",
      "\u001b[1;31mNameError\u001b[0m                                 Traceback (most recent call last)",
      "\u001b[1;32m<ipython-input-3-48d9e5382d03>\u001b[0m in \u001b[0;36m<module>\u001b[1;34m\u001b[0m\n\u001b[1;32m----> 1\u001b[1;33m \u001b[0msi_name\u001b[0m\u001b[1;33m\u001b[0m\u001b[1;33m\u001b[0m\u001b[0m\n\u001b[0m",
      "\u001b[1;31mNameError\u001b[0m: name 'si_name' is not defined"
     ]
    }
   ],
   "source": [
    "pop1['ID'] = si_name"
   ]
  },
  {
   "cell_type": "code",
   "execution_count": null,
   "metadata": {},
   "outputs": [],
   "source": [
    "##### 크게 의미 없는 컬럼 삭제\n",
    "\n",
    "del pop1['20~39세 남자']\n",
    "del pop1['65세이상남자']\n",
    "del pop1['65세이상여자']"
   ]
  },
  {
   "cell_type": "code",
   "execution_count": null,
   "metadata": {},
   "outputs": [],
   "source": [
    "pop1.head()"
   ]
  },
  {
   "cell_type": "markdown",
   "metadata": {},
   "source": [
    "### 4. 지도 시각화"
   ]
  },
  {
   "cell_type": "code",
   "execution_count": 5,
   "metadata": {},
   "outputs": [],
   "source": [
    "import folium\n",
    "import json"
   ]
  },
  {
   "cell_type": "code",
   "execution_count": null,
   "metadata": {},
   "outputs": [],
   "source": [
    "pop2 = pop1.set_index('ID')\n",
    "pop2.head()"
   ]
  },
  {
   "cell_type": "code",
   "execution_count": 6,
   "metadata": {},
   "outputs": [
    {
     "ename": "NameError",
     "evalue": "name 'pop2' is not defined",
     "output_type": "error",
     "traceback": [
      "\u001b[1;31m---------------------------------------------------------------------------\u001b[0m",
      "\u001b[1;31mNameError\u001b[0m                                 Traceback (most recent call last)",
      "\u001b[1;32m<ipython-input-6-a9c243516cef>\u001b[0m in \u001b[0;36m<module>\u001b[1;34m\u001b[0m\n\u001b[0;32m      3\u001b[0m \u001b[1;33m\u001b[0m\u001b[0m\n\u001b[0;32m      4\u001b[0m \u001b[0mmap\u001b[0m \u001b[1;33m=\u001b[0m \u001b[0mfolium\u001b[0m\u001b[1;33m.\u001b[0m\u001b[0mMap\u001b[0m\u001b[1;33m(\u001b[0m\u001b[0mlocation\u001b[0m\u001b[1;33m=\u001b[0m\u001b[1;33m[\u001b[0m\u001b[1;36m36.2002\u001b[0m\u001b[1;33m,\u001b[0m\u001b[1;36m127.054\u001b[0m\u001b[1;33m]\u001b[0m\u001b[1;33m,\u001b[0m \u001b[0mzoom_start\u001b[0m\u001b[1;33m=\u001b[0m\u001b[1;36m7\u001b[0m\u001b[1;33m)\u001b[0m\u001b[1;33m\u001b[0m\u001b[1;33m\u001b[0m\u001b[0m\n\u001b[1;32m----> 5\u001b[1;33m map.choropleth(geo_data=geo_str, data=pop2['인구수합계'],\n\u001b[0m\u001b[0;32m      6\u001b[0m               \u001b[0mcolumns\u001b[0m\u001b[1;33m=\u001b[0m\u001b[1;33m[\u001b[0m\u001b[0mpop2\u001b[0m\u001b[1;33m.\u001b[0m\u001b[0mindex\u001b[0m\u001b[1;33m,\u001b[0m\u001b[0mpop2\u001b[0m\u001b[1;33m[\u001b[0m\u001b[1;34m'인구수합계'\u001b[0m\u001b[1;33m]\u001b[0m\u001b[1;33m]\u001b[0m\u001b[1;33m,\u001b[0m\u001b[1;33m\u001b[0m\u001b[1;33m\u001b[0m\u001b[0m\n\u001b[0;32m      7\u001b[0m               \u001b[0mkey_on\u001b[0m\u001b[1;33m=\u001b[0m\u001b[1;34m'feature.id'\u001b[0m\u001b[1;33m,\u001b[0m\u001b[1;33m\u001b[0m\u001b[1;33m\u001b[0m\u001b[0m\n",
      "\u001b[1;31mNameError\u001b[0m: name 'pop2' is not defined"
     ]
    }
   ],
   "source": [
    "geo_path = 'data/map/skorea_municipalities_geo_simple_update.json'\n",
    "geo_str = json.load(open(geo_path, encoding = 'utf-8'))\n",
    "\n",
    "map = folium.Map(location=[36.2002,127.054], zoom_start=7)\n",
    "map.choropleth(geo_data=geo_str, data=pop2['인구수합계'],\n",
    "              columns=[pop2.index,pop2['인구수합계']],\n",
    "              key_on='feature.id',\n",
    "              fill_color='YlGnBu')"
   ]
  },
  {
   "cell_type": "code",
   "execution_count": null,
   "metadata": {},
   "outputs": [],
   "source": []
  },
  {
   "cell_type": "code",
   "execution_count": null,
   "metadata": {},
   "outputs": [],
   "source": []
  }
 ],
 "metadata": {
  "kernelspec": {
   "display_name": "Python 3",
   "language": "python",
   "name": "python3"
  },
  "language_info": {
   "codemirror_mode": {
    "name": "ipython",
    "version": 3
   },
   "file_extension": ".py",
   "mimetype": "text/x-python",
   "name": "python",
   "nbconvert_exporter": "python",
   "pygments_lexer": "ipython3",
   "version": "3.8.5"
  }
 },
 "nbformat": 4,
 "nbformat_minor": 4
}
